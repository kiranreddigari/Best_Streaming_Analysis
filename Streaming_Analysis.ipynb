{
  "nbformat": 4,
  "nbformat_minor": 0,
  "metadata": {
    "colab": {
      "name": "Streaming Analysis.ipynb",
      "provenance": [],
      "collapsed_sections": [],
      "authorship_tag": "ABX9TyO9yhHqL4J49Ysw3LCJG4HJ",
      "include_colab_link": true
    },
    "kernelspec": {
      "name": "python3",
      "display_name": "Python 3"
    }
  },
  "cells": [
    {
      "cell_type": "markdown",
      "metadata": {
        "id": "view-in-github",
        "colab_type": "text"
      },
      "source": [
        "<a href=\"https://colab.research.google.com/github/kiranreddigari/Best_Streaming_Analysis/blob/master/Streaming_Analysis.ipynb\" target=\"_parent\"><img src=\"https://colab.research.google.com/assets/colab-badge.svg\" alt=\"Open In Colab\"/></a>"
      ]
    },
    {
      "cell_type": "code",
      "metadata": {
        "colab": {
          "resources": {
            "http://localhost:8080/nbextensions/google.colab/files.js": {
              "data": "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",
              "ok": true,
              "headers": [
                [
                  "content-type",
                  "application/javascript"
                ]
              ],
              "status": 200,
              "status_text": ""
            }
          },
          "base_uri": "https://localhost:8080/",
          "height": 72
        },
        "id": "6vJNMtDPKCbq",
        "outputId": "a9a595b2-ad82-49ec-8a88-f44fb2545df3"
      },
      "source": [
        "from google.colab import files\r\n",
        "uploaded=files.upload()"
      ],
      "execution_count": null,
      "outputs": [
        {
          "output_type": "display_data",
          "data": {
            "text/html": [
              "\n",
              "     <input type=\"file\" id=\"files-e3613f4b-4f25-494d-86b5-5ce4e72bef58\" name=\"files[]\" multiple disabled\n",
              "        style=\"border:none\" />\n",
              "     <output id=\"result-e3613f4b-4f25-494d-86b5-5ce4e72bef58\">\n",
              "      Upload widget is only available when the cell has been executed in the\n",
              "      current browser session. Please rerun this cell to enable.\n",
              "      </output>\n",
              "      <script src=\"/nbextensions/google.colab/files.js\"></script> "
            ],
            "text/plain": [
              "<IPython.core.display.HTML object>"
            ]
          },
          "metadata": {
            "tags": []
          }
        },
        {
          "output_type": "stream",
          "text": [
            "Saving MoviesOnStreamingPlatforms_updated.csv to MoviesOnStreamingPlatforms_updated.csv\n"
          ],
          "name": "stdout"
        }
      ]
    },
    {
      "cell_type": "code",
      "metadata": {
        "id": "U-XfAfcAKWOl"
      },
      "source": [
        "import pandas as pd\r\n",
        "import numpy as np\r\n",
        "import plotly\r\n",
        "from plotly.subplots import make_subplots\r\n",
        "import seaborn as sns\r\n",
        "import matplotlib.pyplot as plt"
      ],
      "execution_count": null,
      "outputs": []
    },
    {
      "cell_type": "code",
      "metadata": {
        "colab": {
          "base_uri": "https://localhost:8080/",
          "height": 323
        },
        "id": "SNOAUha-NRzk",
        "outputId": "41f6e323-2445-487c-acce-3aaefc1b38fd"
      },
      "source": [
        "tv_shows=pd.read_csv('MoviesOnStreamingPlatforms_updated.csv')\r\n",
        "tv_shows.head()"
      ],
      "execution_count": null,
      "outputs": [
        {
          "output_type": "execute_result",
          "data": {
            "text/html": [
              "<div>\n",
              "<style scoped>\n",
              "    .dataframe tbody tr th:only-of-type {\n",
              "        vertical-align: middle;\n",
              "    }\n",
              "\n",
              "    .dataframe tbody tr th {\n",
              "        vertical-align: top;\n",
              "    }\n",
              "\n",
              "    .dataframe thead th {\n",
              "        text-align: right;\n",
              "    }\n",
              "</style>\n",
              "<table border=\"1\" class=\"dataframe\">\n",
              "  <thead>\n",
              "    <tr style=\"text-align: right;\">\n",
              "      <th></th>\n",
              "      <th>Unnamed: 0</th>\n",
              "      <th>ID</th>\n",
              "      <th>Title</th>\n",
              "      <th>Year</th>\n",
              "      <th>Age</th>\n",
              "      <th>IMDb</th>\n",
              "      <th>Rotten Tomatoes</th>\n",
              "      <th>Netflix</th>\n",
              "      <th>Hulu</th>\n",
              "      <th>Prime Video</th>\n",
              "      <th>Disney+</th>\n",
              "      <th>Type</th>\n",
              "      <th>Directors</th>\n",
              "      <th>Genres</th>\n",
              "      <th>Country</th>\n",
              "      <th>Language</th>\n",
              "      <th>Runtime</th>\n",
              "    </tr>\n",
              "  </thead>\n",
              "  <tbody>\n",
              "    <tr>\n",
              "      <th>0</th>\n",
              "      <td>0</td>\n",
              "      <td>1</td>\n",
              "      <td>Inception</td>\n",
              "      <td>2010</td>\n",
              "      <td>13+</td>\n",
              "      <td>8.8</td>\n",
              "      <td>87%</td>\n",
              "      <td>1</td>\n",
              "      <td>0</td>\n",
              "      <td>0</td>\n",
              "      <td>0</td>\n",
              "      <td>0</td>\n",
              "      <td>Christopher Nolan</td>\n",
              "      <td>Action,Adventure,Sci-Fi,Thriller</td>\n",
              "      <td>United States,United Kingdom</td>\n",
              "      <td>English,Japanese,French</td>\n",
              "      <td>148.0</td>\n",
              "    </tr>\n",
              "    <tr>\n",
              "      <th>1</th>\n",
              "      <td>1</td>\n",
              "      <td>2</td>\n",
              "      <td>The Matrix</td>\n",
              "      <td>1999</td>\n",
              "      <td>18+</td>\n",
              "      <td>8.7</td>\n",
              "      <td>87%</td>\n",
              "      <td>1</td>\n",
              "      <td>0</td>\n",
              "      <td>0</td>\n",
              "      <td>0</td>\n",
              "      <td>0</td>\n",
              "      <td>Lana Wachowski,Lilly Wachowski</td>\n",
              "      <td>Action,Sci-Fi</td>\n",
              "      <td>United States</td>\n",
              "      <td>English</td>\n",
              "      <td>136.0</td>\n",
              "    </tr>\n",
              "    <tr>\n",
              "      <th>2</th>\n",
              "      <td>2</td>\n",
              "      <td>3</td>\n",
              "      <td>Avengers: Infinity War</td>\n",
              "      <td>2018</td>\n",
              "      <td>13+</td>\n",
              "      <td>8.5</td>\n",
              "      <td>84%</td>\n",
              "      <td>1</td>\n",
              "      <td>0</td>\n",
              "      <td>0</td>\n",
              "      <td>0</td>\n",
              "      <td>0</td>\n",
              "      <td>Anthony Russo,Joe Russo</td>\n",
              "      <td>Action,Adventure,Sci-Fi</td>\n",
              "      <td>United States</td>\n",
              "      <td>English</td>\n",
              "      <td>149.0</td>\n",
              "    </tr>\n",
              "    <tr>\n",
              "      <th>3</th>\n",
              "      <td>3</td>\n",
              "      <td>4</td>\n",
              "      <td>Back to the Future</td>\n",
              "      <td>1985</td>\n",
              "      <td>7+</td>\n",
              "      <td>8.5</td>\n",
              "      <td>96%</td>\n",
              "      <td>1</td>\n",
              "      <td>0</td>\n",
              "      <td>0</td>\n",
              "      <td>0</td>\n",
              "      <td>0</td>\n",
              "      <td>Robert Zemeckis</td>\n",
              "      <td>Adventure,Comedy,Sci-Fi</td>\n",
              "      <td>United States</td>\n",
              "      <td>English</td>\n",
              "      <td>116.0</td>\n",
              "    </tr>\n",
              "    <tr>\n",
              "      <th>4</th>\n",
              "      <td>4</td>\n",
              "      <td>5</td>\n",
              "      <td>The Good, the Bad and the Ugly</td>\n",
              "      <td>1966</td>\n",
              "      <td>18+</td>\n",
              "      <td>8.8</td>\n",
              "      <td>97%</td>\n",
              "      <td>1</td>\n",
              "      <td>0</td>\n",
              "      <td>1</td>\n",
              "      <td>0</td>\n",
              "      <td>0</td>\n",
              "      <td>Sergio Leone</td>\n",
              "      <td>Western</td>\n",
              "      <td>Italy,Spain,West Germany</td>\n",
              "      <td>Italian</td>\n",
              "      <td>161.0</td>\n",
              "    </tr>\n",
              "  </tbody>\n",
              "</table>\n",
              "</div>"
            ],
            "text/plain": [
              "   Unnamed: 0  ID  ...                 Language  Runtime\n",
              "0           0   1  ...  English,Japanese,French    148.0\n",
              "1           1   2  ...                  English    136.0\n",
              "2           2   3  ...                  English    149.0\n",
              "3           3   4  ...                  English    116.0\n",
              "4           4   5  ...                  Italian    161.0\n",
              "\n",
              "[5 rows x 17 columns]"
            ]
          },
          "metadata": {
            "tags": []
          },
          "execution_count": 4
        }
      ]
    },
    {
      "cell_type": "code",
      "metadata": {
        "colab": {
          "base_uri": "https://localhost:8080/",
          "height": 297
        },
        "id": "GGt4Ww94NepA",
        "outputId": "390b1151-5a13-4b16-e0e2-168b94bc5831"
      },
      "source": [
        "tv_shows.describe()"
      ],
      "execution_count": null,
      "outputs": [
        {
          "output_type": "execute_result",
          "data": {
            "text/html": [
              "<div>\n",
              "<style scoped>\n",
              "    .dataframe tbody tr th:only-of-type {\n",
              "        vertical-align: middle;\n",
              "    }\n",
              "\n",
              "    .dataframe tbody tr th {\n",
              "        vertical-align: top;\n",
              "    }\n",
              "\n",
              "    .dataframe thead th {\n",
              "        text-align: right;\n",
              "    }\n",
              "</style>\n",
              "<table border=\"1\" class=\"dataframe\">\n",
              "  <thead>\n",
              "    <tr style=\"text-align: right;\">\n",
              "      <th></th>\n",
              "      <th>Unnamed: 0</th>\n",
              "      <th>ID</th>\n",
              "      <th>Year</th>\n",
              "      <th>IMDb</th>\n",
              "      <th>Netflix</th>\n",
              "      <th>Hulu</th>\n",
              "      <th>Prime Video</th>\n",
              "      <th>Disney+</th>\n",
              "      <th>Type</th>\n",
              "      <th>Runtime</th>\n",
              "    </tr>\n",
              "  </thead>\n",
              "  <tbody>\n",
              "    <tr>\n",
              "      <th>count</th>\n",
              "      <td>16744.000000</td>\n",
              "      <td>16744.000000</td>\n",
              "      <td>16744.000000</td>\n",
              "      <td>16173.000000</td>\n",
              "      <td>16744.000000</td>\n",
              "      <td>16744.000000</td>\n",
              "      <td>16744.000000</td>\n",
              "      <td>16744.000000</td>\n",
              "      <td>16744.0</td>\n",
              "      <td>16152.000000</td>\n",
              "    </tr>\n",
              "    <tr>\n",
              "      <th>mean</th>\n",
              "      <td>8371.500000</td>\n",
              "      <td>8372.500000</td>\n",
              "      <td>2003.014035</td>\n",
              "      <td>5.902751</td>\n",
              "      <td>0.212613</td>\n",
              "      <td>0.053930</td>\n",
              "      <td>0.737817</td>\n",
              "      <td>0.033684</td>\n",
              "      <td>0.0</td>\n",
              "      <td>93.413447</td>\n",
              "    </tr>\n",
              "    <tr>\n",
              "      <th>std</th>\n",
              "      <td>4833.720789</td>\n",
              "      <td>4833.720789</td>\n",
              "      <td>20.674321</td>\n",
              "      <td>1.347867</td>\n",
              "      <td>0.409169</td>\n",
              "      <td>0.225886</td>\n",
              "      <td>0.439835</td>\n",
              "      <td>0.180419</td>\n",
              "      <td>0.0</td>\n",
              "      <td>28.219222</td>\n",
              "    </tr>\n",
              "    <tr>\n",
              "      <th>min</th>\n",
              "      <td>0.000000</td>\n",
              "      <td>1.000000</td>\n",
              "      <td>1902.000000</td>\n",
              "      <td>0.000000</td>\n",
              "      <td>0.000000</td>\n",
              "      <td>0.000000</td>\n",
              "      <td>0.000000</td>\n",
              "      <td>0.000000</td>\n",
              "      <td>0.0</td>\n",
              "      <td>1.000000</td>\n",
              "    </tr>\n",
              "    <tr>\n",
              "      <th>25%</th>\n",
              "      <td>4185.750000</td>\n",
              "      <td>4186.750000</td>\n",
              "      <td>2000.000000</td>\n",
              "      <td>5.100000</td>\n",
              "      <td>0.000000</td>\n",
              "      <td>0.000000</td>\n",
              "      <td>0.000000</td>\n",
              "      <td>0.000000</td>\n",
              "      <td>0.0</td>\n",
              "      <td>82.000000</td>\n",
              "    </tr>\n",
              "    <tr>\n",
              "      <th>50%</th>\n",
              "      <td>8371.500000</td>\n",
              "      <td>8372.500000</td>\n",
              "      <td>2012.000000</td>\n",
              "      <td>6.100000</td>\n",
              "      <td>0.000000</td>\n",
              "      <td>0.000000</td>\n",
              "      <td>1.000000</td>\n",
              "      <td>0.000000</td>\n",
              "      <td>0.0</td>\n",
              "      <td>92.000000</td>\n",
              "    </tr>\n",
              "    <tr>\n",
              "      <th>75%</th>\n",
              "      <td>12557.250000</td>\n",
              "      <td>12558.250000</td>\n",
              "      <td>2016.000000</td>\n",
              "      <td>6.900000</td>\n",
              "      <td>0.000000</td>\n",
              "      <td>0.000000</td>\n",
              "      <td>1.000000</td>\n",
              "      <td>0.000000</td>\n",
              "      <td>0.0</td>\n",
              "      <td>104.000000</td>\n",
              "    </tr>\n",
              "    <tr>\n",
              "      <th>max</th>\n",
              "      <td>16743.000000</td>\n",
              "      <td>16744.000000</td>\n",
              "      <td>2020.000000</td>\n",
              "      <td>9.300000</td>\n",
              "      <td>1.000000</td>\n",
              "      <td>1.000000</td>\n",
              "      <td>1.000000</td>\n",
              "      <td>1.000000</td>\n",
              "      <td>0.0</td>\n",
              "      <td>1256.000000</td>\n",
              "    </tr>\n",
              "  </tbody>\n",
              "</table>\n",
              "</div>"
            ],
            "text/plain": [
              "         Unnamed: 0            ID  ...     Type       Runtime\n",
              "count  16744.000000  16744.000000  ...  16744.0  16152.000000\n",
              "mean    8371.500000   8372.500000  ...      0.0     93.413447\n",
              "std     4833.720789   4833.720789  ...      0.0     28.219222\n",
              "min        0.000000      1.000000  ...      0.0      1.000000\n",
              "25%     4185.750000   4186.750000  ...      0.0     82.000000\n",
              "50%     8371.500000   8372.500000  ...      0.0     92.000000\n",
              "75%    12557.250000  12558.250000  ...      0.0    104.000000\n",
              "max    16743.000000  16744.000000  ...      0.0   1256.000000\n",
              "\n",
              "[8 rows x 10 columns]"
            ]
          },
          "metadata": {
            "tags": []
          },
          "execution_count": 5
        }
      ]
    },
    {
      "cell_type": "code",
      "metadata": {
        "colab": {
          "base_uri": "https://localhost:8080/"
        },
        "id": "o8VBORj_NrTB",
        "outputId": "85f29c13-d06d-4e92-df65-112c85dadcf1"
      },
      "source": [
        "tv_shows.info()"
      ],
      "execution_count": null,
      "outputs": [
        {
          "output_type": "stream",
          "text": [
            "<class 'pandas.core.frame.DataFrame'>\n",
            "RangeIndex: 16744 entries, 0 to 16743\n",
            "Data columns (total 17 columns):\n",
            " #   Column           Non-Null Count  Dtype  \n",
            "---  ------           --------------  -----  \n",
            " 0   Unnamed: 0       16744 non-null  int64  \n",
            " 1   ID               16744 non-null  int64  \n",
            " 2   Title            16744 non-null  object \n",
            " 3   Year             16744 non-null  int64  \n",
            " 4   Age              7354 non-null   object \n",
            " 5   IMDb             16173 non-null  float64\n",
            " 6   Rotten Tomatoes  5158 non-null   object \n",
            " 7   Netflix          16744 non-null  int64  \n",
            " 8   Hulu             16744 non-null  int64  \n",
            " 9   Prime Video      16744 non-null  int64  \n",
            " 10  Disney+          16744 non-null  int64  \n",
            " 11  Type             16744 non-null  int64  \n",
            " 12  Directors        16018 non-null  object \n",
            " 13  Genres           16469 non-null  object \n",
            " 14  Country          16309 non-null  object \n",
            " 15  Language         16145 non-null  object \n",
            " 16  Runtime          16152 non-null  float64\n",
            "dtypes: float64(2), int64(8), object(7)\n",
            "memory usage: 2.2+ MB\n"
          ],
          "name": "stdout"
        }
      ]
    },
    {
      "cell_type": "code",
      "metadata": {
        "id": "CZBpnkjdNv8v"
      },
      "source": [
        "tv_shows.drop_duplicates(subset='Title',keep='first',inplace=True)"
      ],
      "execution_count": null,
      "outputs": []
    },
    {
      "cell_type": "code",
      "metadata": {
        "id": "FJv_GE9gN8aa"
      },
      "source": [
        "tv_shows['Rotten Tomatoes']=tv_shows['Rotten Tomatoes'].fillna('0%')\r\n",
        "tv_shows['Rotten Tomatoes']=tv_shows['Rotten Tomatoes'].apply(lambda x:x.rstrip('%'))\r\n",
        "tv_shows['Rotten Tomatoes']=pd.to_numeric(tv_shows['Rotten Tomatoes'])"
      ],
      "execution_count": null,
      "outputs": []
    },
    {
      "cell_type": "code",
      "metadata": {
        "id": "eqgcsAHEPcGN"
      },
      "source": [
        "tv_shows['IMDb']=tv_shows['IMDb'].fillna(0)\r\n",
        "tv_shows['IMDb']=tv_shows['IMDb']*10\r\n",
        "tv_shows['IMDb']=tv_shows['IMDb'].astype('int')"
      ],
      "execution_count": null,
      "outputs": []
    },
    {
      "cell_type": "code",
      "metadata": {
        "id": "OkTlCVUSP_5J"
      },
      "source": [
        "tv_shows_long=pd.melt(tv_shows[['Title','Netflix','Hulu','Prime Video','Disney+']],id_vars=['Title'],var_name='StreamingOn',value_name='Present')\r\n",
        "tv_shows_long=tv_shows_long[tv_shows_long['Present']==1]\r\n",
        "tv_shows_long.drop(columns=['Present'],inplace=True)\r\n"
      ],
      "execution_count": null,
      "outputs": []
    },
    {
      "cell_type": "code",
      "metadata": {
        "id": "OzWuegZMQ3Zq"
      },
      "source": [
        "tv_shows_combined=tv_shows_long.merge(tv_shows,on='Title',how='inner')"
      ],
      "execution_count": null,
      "outputs": []
    },
    {
      "cell_type": "code",
      "metadata": {
        "colab": {
          "base_uri": "https://localhost:8080/",
          "height": 357
        },
        "id": "-AvHaXWqQ9ih",
        "outputId": "6fa607a3-229a-4100-ee79-630e2237a85d"
      },
      "source": [
        "tv_shows_combined.head()"
      ],
      "execution_count": null,
      "outputs": [
        {
          "output_type": "execute_result",
          "data": {
            "text/html": [
              "<div>\n",
              "<style scoped>\n",
              "    .dataframe tbody tr th:only-of-type {\n",
              "        vertical-align: middle;\n",
              "    }\n",
              "\n",
              "    .dataframe tbody tr th {\n",
              "        vertical-align: top;\n",
              "    }\n",
              "\n",
              "    .dataframe thead th {\n",
              "        text-align: right;\n",
              "    }\n",
              "</style>\n",
              "<table border=\"1\" class=\"dataframe\">\n",
              "  <thead>\n",
              "    <tr style=\"text-align: right;\">\n",
              "      <th></th>\n",
              "      <th>Title</th>\n",
              "      <th>StreamingOn</th>\n",
              "      <th>Unnamed: 0</th>\n",
              "      <th>ID</th>\n",
              "      <th>Year</th>\n",
              "      <th>Age</th>\n",
              "      <th>IMDb</th>\n",
              "      <th>Rotten Tomatoes</th>\n",
              "      <th>Netflix</th>\n",
              "      <th>Hulu</th>\n",
              "      <th>Prime Video</th>\n",
              "      <th>Disney+</th>\n",
              "      <th>Type</th>\n",
              "      <th>Directors</th>\n",
              "      <th>Genres</th>\n",
              "      <th>Country</th>\n",
              "      <th>Language</th>\n",
              "      <th>Runtime</th>\n",
              "    </tr>\n",
              "  </thead>\n",
              "  <tbody>\n",
              "    <tr>\n",
              "      <th>0</th>\n",
              "      <td>Inception</td>\n",
              "      <td>Netflix</td>\n",
              "      <td>0</td>\n",
              "      <td>1</td>\n",
              "      <td>2010</td>\n",
              "      <td>13+</td>\n",
              "      <td>88</td>\n",
              "      <td>87</td>\n",
              "      <td>1</td>\n",
              "      <td>0</td>\n",
              "      <td>0</td>\n",
              "      <td>0</td>\n",
              "      <td>0</td>\n",
              "      <td>Christopher Nolan</td>\n",
              "      <td>Action,Adventure,Sci-Fi,Thriller</td>\n",
              "      <td>United States,United Kingdom</td>\n",
              "      <td>English,Japanese,French</td>\n",
              "      <td>148.0</td>\n",
              "    </tr>\n",
              "    <tr>\n",
              "      <th>1</th>\n",
              "      <td>The Matrix</td>\n",
              "      <td>Netflix</td>\n",
              "      <td>1</td>\n",
              "      <td>2</td>\n",
              "      <td>1999</td>\n",
              "      <td>18+</td>\n",
              "      <td>87</td>\n",
              "      <td>87</td>\n",
              "      <td>1</td>\n",
              "      <td>0</td>\n",
              "      <td>0</td>\n",
              "      <td>0</td>\n",
              "      <td>0</td>\n",
              "      <td>Lana Wachowski,Lilly Wachowski</td>\n",
              "      <td>Action,Sci-Fi</td>\n",
              "      <td>United States</td>\n",
              "      <td>English</td>\n",
              "      <td>136.0</td>\n",
              "    </tr>\n",
              "    <tr>\n",
              "      <th>2</th>\n",
              "      <td>Avengers: Infinity War</td>\n",
              "      <td>Netflix</td>\n",
              "      <td>2</td>\n",
              "      <td>3</td>\n",
              "      <td>2018</td>\n",
              "      <td>13+</td>\n",
              "      <td>85</td>\n",
              "      <td>84</td>\n",
              "      <td>1</td>\n",
              "      <td>0</td>\n",
              "      <td>0</td>\n",
              "      <td>0</td>\n",
              "      <td>0</td>\n",
              "      <td>Anthony Russo,Joe Russo</td>\n",
              "      <td>Action,Adventure,Sci-Fi</td>\n",
              "      <td>United States</td>\n",
              "      <td>English</td>\n",
              "      <td>149.0</td>\n",
              "    </tr>\n",
              "    <tr>\n",
              "      <th>3</th>\n",
              "      <td>Back to the Future</td>\n",
              "      <td>Netflix</td>\n",
              "      <td>3</td>\n",
              "      <td>4</td>\n",
              "      <td>1985</td>\n",
              "      <td>7+</td>\n",
              "      <td>85</td>\n",
              "      <td>96</td>\n",
              "      <td>1</td>\n",
              "      <td>0</td>\n",
              "      <td>0</td>\n",
              "      <td>0</td>\n",
              "      <td>0</td>\n",
              "      <td>Robert Zemeckis</td>\n",
              "      <td>Adventure,Comedy,Sci-Fi</td>\n",
              "      <td>United States</td>\n",
              "      <td>English</td>\n",
              "      <td>116.0</td>\n",
              "    </tr>\n",
              "    <tr>\n",
              "      <th>4</th>\n",
              "      <td>The Good, the Bad and the Ugly</td>\n",
              "      <td>Netflix</td>\n",
              "      <td>4</td>\n",
              "      <td>5</td>\n",
              "      <td>1966</td>\n",
              "      <td>18+</td>\n",
              "      <td>88</td>\n",
              "      <td>97</td>\n",
              "      <td>1</td>\n",
              "      <td>0</td>\n",
              "      <td>1</td>\n",
              "      <td>0</td>\n",
              "      <td>0</td>\n",
              "      <td>Sergio Leone</td>\n",
              "      <td>Western</td>\n",
              "      <td>Italy,Spain,West Germany</td>\n",
              "      <td>Italian</td>\n",
              "      <td>161.0</td>\n",
              "    </tr>\n",
              "  </tbody>\n",
              "</table>\n",
              "</div>"
            ],
            "text/plain": [
              "                            Title StreamingOn  ...                 Language  Runtime\n",
              "0                       Inception     Netflix  ...  English,Japanese,French    148.0\n",
              "1                      The Matrix     Netflix  ...                  English    136.0\n",
              "2          Avengers: Infinity War     Netflix  ...                  English    149.0\n",
              "3              Back to the Future     Netflix  ...                  English    116.0\n",
              "4  The Good, the Bad and the Ugly     Netflix  ...                  Italian    161.0\n",
              "\n",
              "[5 rows x 18 columns]"
            ]
          },
          "metadata": {
            "tags": []
          },
          "execution_count": 15
        }
      ]
    },
    {
      "cell_type": "code",
      "metadata": {
        "id": "LaAfuJQSXiCJ"
      },
      "source": [
        "tv_shows_combined.drop(columns = ['Unnamed: 0','Netflix','Hulu', 'Prime Video', 'Disney+', 'Type'], inplace=True)"
      ],
      "execution_count": null,
      "outputs": []
    },
    {
      "cell_type": "code",
      "metadata": {
        "colab": {
          "base_uri": "https://localhost:8080/",
          "height": 272
        },
        "id": "qlscBHnzXzaw",
        "outputId": "177613c6-df08-4056-96a5-ef84816a132f"
      },
      "source": [
        "tv_shows_combined.head()"
      ],
      "execution_count": null,
      "outputs": [
        {
          "output_type": "execute_result",
          "data": {
            "text/html": [
              "<div>\n",
              "<style scoped>\n",
              "    .dataframe tbody tr th:only-of-type {\n",
              "        vertical-align: middle;\n",
              "    }\n",
              "\n",
              "    .dataframe tbody tr th {\n",
              "        vertical-align: top;\n",
              "    }\n",
              "\n",
              "    .dataframe thead th {\n",
              "        text-align: right;\n",
              "    }\n",
              "</style>\n",
              "<table border=\"1\" class=\"dataframe\">\n",
              "  <thead>\n",
              "    <tr style=\"text-align: right;\">\n",
              "      <th></th>\n",
              "      <th>Title</th>\n",
              "      <th>StreamingOn</th>\n",
              "      <th>ID</th>\n",
              "      <th>Year</th>\n",
              "      <th>Age</th>\n",
              "      <th>IMDb</th>\n",
              "      <th>Rotten Tomatoes</th>\n",
              "      <th>Directors</th>\n",
              "      <th>Genres</th>\n",
              "      <th>Country</th>\n",
              "      <th>Language</th>\n",
              "      <th>Runtime</th>\n",
              "    </tr>\n",
              "  </thead>\n",
              "  <tbody>\n",
              "    <tr>\n",
              "      <th>0</th>\n",
              "      <td>Inception</td>\n",
              "      <td>Netflix</td>\n",
              "      <td>1</td>\n",
              "      <td>2010</td>\n",
              "      <td>13+</td>\n",
              "      <td>88</td>\n",
              "      <td>87</td>\n",
              "      <td>Christopher Nolan</td>\n",
              "      <td>Action,Adventure,Sci-Fi,Thriller</td>\n",
              "      <td>United States,United Kingdom</td>\n",
              "      <td>English,Japanese,French</td>\n",
              "      <td>148.0</td>\n",
              "    </tr>\n",
              "    <tr>\n",
              "      <th>1</th>\n",
              "      <td>The Matrix</td>\n",
              "      <td>Netflix</td>\n",
              "      <td>2</td>\n",
              "      <td>1999</td>\n",
              "      <td>18+</td>\n",
              "      <td>87</td>\n",
              "      <td>87</td>\n",
              "      <td>Lana Wachowski,Lilly Wachowski</td>\n",
              "      <td>Action,Sci-Fi</td>\n",
              "      <td>United States</td>\n",
              "      <td>English</td>\n",
              "      <td>136.0</td>\n",
              "    </tr>\n",
              "    <tr>\n",
              "      <th>2</th>\n",
              "      <td>Avengers: Infinity War</td>\n",
              "      <td>Netflix</td>\n",
              "      <td>3</td>\n",
              "      <td>2018</td>\n",
              "      <td>13+</td>\n",
              "      <td>85</td>\n",
              "      <td>84</td>\n",
              "      <td>Anthony Russo,Joe Russo</td>\n",
              "      <td>Action,Adventure,Sci-Fi</td>\n",
              "      <td>United States</td>\n",
              "      <td>English</td>\n",
              "      <td>149.0</td>\n",
              "    </tr>\n",
              "    <tr>\n",
              "      <th>3</th>\n",
              "      <td>Back to the Future</td>\n",
              "      <td>Netflix</td>\n",
              "      <td>4</td>\n",
              "      <td>1985</td>\n",
              "      <td>7+</td>\n",
              "      <td>85</td>\n",
              "      <td>96</td>\n",
              "      <td>Robert Zemeckis</td>\n",
              "      <td>Adventure,Comedy,Sci-Fi</td>\n",
              "      <td>United States</td>\n",
              "      <td>English</td>\n",
              "      <td>116.0</td>\n",
              "    </tr>\n",
              "    <tr>\n",
              "      <th>4</th>\n",
              "      <td>The Good, the Bad and the Ugly</td>\n",
              "      <td>Netflix</td>\n",
              "      <td>5</td>\n",
              "      <td>1966</td>\n",
              "      <td>18+</td>\n",
              "      <td>88</td>\n",
              "      <td>97</td>\n",
              "      <td>Sergio Leone</td>\n",
              "      <td>Western</td>\n",
              "      <td>Italy,Spain,West Germany</td>\n",
              "      <td>Italian</td>\n",
              "      <td>161.0</td>\n",
              "    </tr>\n",
              "  </tbody>\n",
              "</table>\n",
              "</div>"
            ],
            "text/plain": [
              "                            Title StreamingOn  ...                 Language  Runtime\n",
              "0                       Inception     Netflix  ...  English,Japanese,French    148.0\n",
              "1                      The Matrix     Netflix  ...                  English    136.0\n",
              "2          Avengers: Infinity War     Netflix  ...                  English    149.0\n",
              "3              Back to the Future     Netflix  ...                  English    116.0\n",
              "4  The Good, the Bad and the Ugly     Netflix  ...                  Italian    161.0\n",
              "\n",
              "[5 rows x 12 columns]"
            ]
          },
          "metadata": {
            "tags": []
          },
          "execution_count": 18
        }
      ]
    },
    {
      "cell_type": "code",
      "metadata": {
        "id": "P8XXmMRiX6WQ"
      },
      "source": [
        "tv_shows_both_ratings= tv_shows_combined[(tv_shows_combined.IMDb > 0) & tv_shows_combined['Rotten Tomatoes'] > 0]"
      ],
      "execution_count": null,
      "outputs": []
    },
    {
      "cell_type": "code",
      "metadata": {
        "colab": {
          "base_uri": "https://localhost:8080/",
          "height": 346
        },
        "id": "KN05BK6TYi-b",
        "outputId": "c50c49c8-828d-483c-9701-b447fa0ab92d"
      },
      "source": [
        "tv_shows_both_ratings.groupby('StreamingOn').Title.count().plot(kind='bar')"
      ],
      "execution_count": null,
      "outputs": [
        {
          "output_type": "execute_result",
          "data": {
            "text/plain": [
              "<matplotlib.axes._subplots.AxesSubplot at 0x7fcb072581d0>"
            ]
          },
          "metadata": {
            "tags": []
          },
          "execution_count": 20
        },
        {
          "output_type": "display_data",
          "data": {
            "image/png": "[encoded data removed]",
            "text/plain": [
              "<Figure size 432x288 with 1 Axes>"
            ]
          },
          "metadata": {
            "tags": [],
            "needs_background": "light"
          }
        }
      ]
    },
    {
      "cell_type": "code",
      "metadata": {
        "colab": {
          "base_uri": "https://localhost:8080/",
          "height": 817
        },
        "id": "Sjzb_RQkY1Vo",
        "outputId": "dc1df8f8-12d9-48a2-a4ac-2b294dc37e25"
      },
      "source": [
        "import plotly.express as px\r\n",
        "figure = []\r\n",
        "figure.append(px.violin(tv_shows_both_ratings, x = 'StreamingOn', y = 'IMDb', color='StreamingOn'))\r\n",
        "figure.append(px.violin(tv_shows_both_ratings, x = 'StreamingOn', y = 'Rotten Tomatoes', color='StreamingOn'))\r\n",
        "fig = make_subplots(rows=2, cols=4, shared_yaxes=True)\r\n",
        "\r\n",
        "for i in range(2):\r\n",
        "    for j in range(4):\r\n",
        "        fig.add_trace(figure[i]['data'][j], row=i+1, col=j+1)\r\n",
        "\r\n",
        "fig.update_layout(autosize=False, width=800, height=800)        \r\n",
        "fig.show()"
      ],
      "execution_count": null,
      "outputs": [
        {
          "output_type": "display_data",
          "data": {
            "text/html": [
              "<html>\n",
              "<head><meta charset=\"utf-8\" /></head>\n",
              "<body>\n",
              "    <div>\n",
              "            <script src=\"https://cdnjs.cloudflare.com/ajax/libs/mathjax/2.7.5/MathJax.js?config=TeX-AMS-MML_SVG\"></script><script type=\"text/javascript\">if (window.MathJax) {MathJax.Hub.Config({SVG: {font: \"STIX-Web\"}});}</script>\n",
              "                <script type=\"text/javascript\">window.PlotlyConfig = {MathJaxConfig: 'local'};</script>\n",
              "        <script src=\"https://cdn.plot.ly/plotly-latest.min.js\"></script>    \n",
              "            <div id=\"19ad6245-977a-49a8-b52d-ec517034b91e\" class=\"plotly-graph-div\" style=\"height:800px; width:800px;\"></div>\n",
              "            <script type=\"text/javascript\">\n",
              "                \n",
              "                    window.PLOTLYENV=window.PLOTLYENV || {};\n",
              "                    \n",
              "                if (document.getElementById(\"19ad6245-977a-49a8-b52d-ec517034b91e\")) {\n",
              "                    Plotly.newPlot(\n",
              "                        '19ad6245-977a-49a8-b52d-ec517034b91e',\n",
              "                        [{\"alignmentgroup\": \"True\", \"box\": {\"visible\": false}, \"hoverlabel\": {\"namelength\": 0}, \"hovertemplate\": \"StreamingOn=%{x}<br>IMDb=%{y}\", \"legendgroup\": \"StreamingOn=Netflix\", \"marker\": {\"color\": \"#636efa\"}, \"name\": \"StreamingOn=Netflix\", \"offsetgroup\": \"StreamingOn=Netflix\", \"orientation\": \"v\", \"scalegroup\": \"True\", \"showlegend\": true, \"type\": \"violin\", \"x\": [\"Netflix\", \"Netflix\", \"Netflix\", \"Netflix\", \"Netflix\", \"Netflix\", \"Netflix\", \"Netflix\", \"Netflix\", \"Netflix\", \"Netflix\", \"Netflix\", \"Netflix\", \"Netflix\", \"Netflix\", \"Netflix\", \"Netflix\", \"Netflix\", \"Netflix\", \"Netflix\", \"Netflix\", \"Netflix\", \"Netflix\", \"Netflix\", \"Netflix\", \"Netflix\", \"Netflix\", \"Netflix\", \"Netflix\", \"Netflix\", \"Netflix\", \"Netflix\", \"Netflix\", \"Netflix\", \"Netflix\", \"Netflix\", \"Netflix\", \"Netflix\", \"Netflix\", \"Netflix\", \"Netflix\", \"Netflix\", \"Netflix\", \"Netflix\", \"Netflix\", \"Netflix\", \"Netflix\", \"Netflix\", \"Netflix\", \"Netflix\", \"Netflix\", \"Netflix\", \"Netflix\", \"Netflix\", \"Netflix\", \"Netflix\", \"Netflix\", \"Netflix\", \"Netflix\", \"Netflix\", \"Netflix\", \"Netflix\", \"Netflix\", \"Netflix\", \"Netflix\", \"Netflix\", \"Netflix\", \"Netflix\", \"Netflix\", \"Netflix\", \"Netflix\", \"Netflix\", \"Netflix\", \"Netflix\", \"Netflix\", \"Netflix\", \"Netflix\", \"Netflix\", \"Netflix\", \"Netflix\", \"Netflix\", \"Netflix\", \"Netflix\", \"Netflix\", \"Netflix\", \"Netflix\", \"Netflix\", \"Netflix\", \"Netflix\", \"Netflix\", \"Netflix\", \"Netflix\", \"Netflix\", \"Netflix\", \"Netflix\", \"Netflix\", \"Netflix\", \"Netflix\", \"Netflix\", \"Netflix\", \"Netflix\", \"Netflix\", \"Netflix\", \"Netflix\", \"Netflix\", \"Netflix\", \"Netflix\", \"Netflix\", \"Netflix\", \"Netflix\", \"Netflix\", \"Netflix\", \"Netflix\", \"Netflix\", \"Netflix\", \"Netflix\", \"Netflix\", \"Netflix\", \"Netflix\", \"Netflix\", \"Netflix\", \"Netflix\", \"Netflix\", \"Netflix\", \"Netflix\", \"Netflix\", \"Netflix\", \"Netflix\", \"Netflix\", \"Netflix\", \"Netflix\", \"Netflix\", \"Netflix\", \"Netflix\", \"Netflix\", \"Netflix\", \"Netflix\", \"Netflix\", \"Netflix\", \"Netflix\", \"Netflix\", \"Netflix\", \"Netflix\", \"Netflix\", \"Netflix\", \"Netflix\", \"Netflix\", \"Netflix\", \"Netflix\", \"Netflix\", \"Netflix\", \"Netflix\", \"Netflix\", \"Netflix\", \"Netflix\", \"Netflix\", \"Netflix\", \"Netflix\", \"Netflix\", \"Netflix\", \"Netflix\", \"Netflix\", \"Netflix\", \"Netflix\", \"Netflix\", \"Netflix\", \"Netflix\", \"Netflix\", \"Netflix\", \"Netflix\", \"Netflix\", \"Netflix\", \"Netflix\", \"Netflix\", \"Netflix\", \"Netflix\", \"Netflix\", \"Netflix\", \"Netflix\", \"Netflix\", \"Netflix\", \"Netflix\", \"Netflix\", \"Netflix\", \"Netflix\", \"Netflix\", \"Netflix\", \"Netflix\", \"Netflix\", \"Netflix\", \"Netflix\", \"Netflix\", \"Netflix\", \"Netflix\", \"Netflix\", \"Netflix\", \"Netflix\", \"Netflix\", \"Netflix\", \"Netflix\", \"Netflix\", \"Netflix\", \"Netflix\", \"Netflix\", \"Netflix\", \"Netflix\", \"Netflix\", \"Netflix\", \"Netflix\", \"Netflix\", \"Netflix\", \"Netflix\", \"Netflix\", \"Netflix\", \"Netflix\", \"Netflix\", \"Netflix\", \"Netflix\", \"Netflix\", \"Netflix\", \"Netflix\", \"Netflix\", \"Netflix\", \"Netflix\", \"Netflix\", \"Netflix\", \"Netflix\", \"Netflix\", \"Netflix\", \"Netflix\", \"Netflix\", \"Netflix\", \"Netflix\", \"Netflix\", \"Netflix\", \"Netflix\", \"Netflix\", \"Netflix\", \"Netflix\", \"Netflix\", \"Netflix\", \"Netflix\", \"Netflix\", \"Netflix\", \"Netflix\", \"Netflix\", \"Netflix\", \"Netflix\", \"Netflix\", \"Netflix\", \"Netflix\", \"Netflix\", \"Netflix\", \"Netflix\", \"Netflix\", \"Netflix\", \"Netflix\", \"Netflix\", \"Netflix\", \"Netflix\", \"Netflix\", \"Netflix\", \"Netflix\", \"Netflix\", \"Netflix\", \"Netflix\", \"Netflix\", \"Netflix\", \"Netflix\", \"Netflix\", \"Netflix\", \"Netflix\", \"Netflix\", \"Netflix\", \"Netflix\", \"Netflix\", \"Netflix\", \"Netflix\", \"Netflix\", \"Netflix\", \"Netflix\", \"Netflix\", \"Netflix\", \"Netflix\", \"Netflix\", \"Netflix\", \"Netflix\", \"Netflix\", \"Netflix\", \"Netflix\", \"Netflix\", \"Netflix\", \"Netflix\", \"Netflix\", \"Netflix\", \"Netflix\", \"Netflix\", \"Netflix\", \"Netflix\", \"Netflix\", \"Netflix\", \"Netflix\", \"Netflix\", \"Netflix\", \"Netflix\", \"Netflix\", \"Netflix\", \"Netflix\", \"Netflix\", \"Netflix\", \"Netflix\", \"Netflix\", \"Netflix\", \"Netflix\", \"Netflix\", \"Netflix\", \"Netflix\", \"Netflix\", \"Netflix\", \"Netflix\", \"Netflix\", \"Netflix\", \"Netflix\", \"Netflix\", \"Netflix\", \"Netflix\", \"Netflix\", \"Netflix\", \"Netflix\", \"Netflix\", \"Netflix\", \"Netflix\", \"Netflix\", \"Netflix\", \"Netflix\", \"Netflix\", \"Netflix\", \"Netflix\", \"Netflix\", \"Netflix\", \"Netflix\", \"Netflix\", \"Netflix\", \"Netflix\", \"Netflix\", \"Netflix\", \"Netflix\", \"Netflix\", \"Netflix\", \"Netflix\", \"Netflix\", \"Netflix\", \"Netflix\", \"Netflix\", \"Netflix\", \"Netflix\", \"Netflix\", \"Netflix\", \"Netflix\", \"Netflix\", \"Netflix\", \"Netflix\", \"Netflix\", \"Netflix\", \"Netflix\", \"Netflix\", \"Netflix\", \"Netflix\", \"Netflix\", \"Netflix\", \"Netflix\", \"Netflix\", \"Netflix\", \"Netflix\", \"Netflix\", \"Netflix\", \"Netflix\", \"Netflix\", \"Netflix\", \"Netflix\", \"Netflix\", \"Netflix\", \"Netflix\", \"Netflix\", \"Netflix\", \"Netflix\", \"Netflix\", \"Netflix\", \"Netflix\", \"Netflix\", \"Netflix\", \"Netflix\", \"Netflix\", \"Netflix\", \"Netflix\", \"Netflix\", \"Netflix\", \"Netflix\", \"Netflix\", \"Netflix\", \"Netflix\", \"Netflix\", \"Netflix\", \"Netflix\", \"Netflix\", \"Netflix\", \"Netflix\", \"Netflix\", \"Netflix\", \"Netflix\", \"Netflix\", \"Netflix\", \"Netflix\", \"Netflix\", \"Netflix\", \"Netflix\", \"Netflix\", \"Netflix\", \"Netflix\", \"Netflix\", \"Netflix\", \"Netflix\", \"Netflix\", \"Netflix\", \"Netflix\", \"Netflix\", \"Netflix\", \"Netflix\", \"Netflix\", \"Netflix\", \"Netflix\", \"Netflix\", \"Netflix\", \"Netflix\", \"Netflix\", \"Netflix\", \"Netflix\", \"Netflix\", \"Netflix\", \"Netflix\", \"Netflix\", \"Netflix\", \"Netflix\", \"Netflix\", \"Netflix\", \"Netflix\", \"Netflix\", \"Netflix\", \"Netflix\", \"Netflix\", \"Netflix\", \"Netflix\", \"Netflix\", \"Netflix\", \"Netflix\", \"Netflix\", \"Netflix\", \"Netflix\", \"Netflix\", \"Netflix\", \"Netflix\", \"Netflix\", \"Netflix\", \"Netflix\", \"Netflix\", \"Netflix\", \"Netflix\", \"Netflix\", \"Netflix\", \"Netflix\", \"Netflix\", \"Netflix\", \"Netflix\", \"Netflix\", \"Netflix\", \"Netflix\", \"Netflix\", \"Netflix\", \"Netflix\", \"Netflix\", \"Netflix\", \"Netflix\", \"Netflix\", \"Netflix\", \"Netflix\", \"Netflix\", \"Netflix\", \"Netflix\", \"Netflix\", \"Netflix\", \"Netflix\", \"Netflix\", \"Netflix\", \"Netflix\", \"Netflix\", \"Netflix\", \"Netflix\", \"Netflix\", \"Netflix\", \"Netflix\", \"Netflix\", \"Netflix\", \"Netflix\", \"Netflix\", \"Netflix\", \"Netflix\", \"Netflix\", \"Netflix\", \"Netflix\", \"Netflix\", \"Netflix\", \"Netflix\", \"Netflix\", \"Netflix\", \"Netflix\", \"Netflix\", \"Netflix\", \"Netflix\", \"Netflix\", \"Netflix\", \"Netflix\", \"Netflix\", \"Netflix\", \"Netflix\", \"Netflix\", \"Netflix\", \"Netflix\", \"Netflix\", \"Netflix\", \"Netflix\", \"Netflix\", \"Netflix\", \"Netflix\", \"Netflix\", \"Netflix\", \"Netflix\", \"Netflix\", \"Netflix\", \"Netflix\", \"Netflix\", \"Netflix\", \"Netflix\", \"Netflix\", \"Netflix\", \"Netflix\", \"Netflix\", \"Netflix\", \"Netflix\", \"Netflix\", \"Netflix\", \"Netflix\", \"Netflix\", \"Netflix\", \"Netflix\", \"Netflix\", \"Netflix\", \"Netflix\", \"Netflix\", \"Netflix\", \"Netflix\", \"Netflix\", \"Netflix\", \"Netflix\", \"Netflix\", \"Netflix\", \"Netflix\", \"Netflix\", \"Netflix\", \"Netflix\", \"Netflix\", \"Netflix\", \"Netflix\", \"Netflix\", \"Netflix\", \"Netflix\", \"Netflix\", \"Netflix\", \"Netflix\", \"Netflix\", \"Netflix\", \"Netflix\", \"Netflix\", \"Netflix\", \"Netflix\", \"Netflix\", \"Netflix\", \"Netflix\", \"Netflix\", \"Netflix\", \"Netflix\", \"Netflix\", \"Netflix\", \"Netflix\", \"Netflix\", \"Netflix\", \"Netflix\", \"Netflix\", \"Netflix\", \"Netflix\", \"Netflix\", \"Netflix\", \"Netflix\", \"Netflix\", \"Netflix\", \"Netflix\", \"Netflix\", \"Netflix\", \"Netflix\", \"Netflix\", \"Netflix\", \"Netflix\", \"Netflix\", \"Netflix\", \"Netflix\", \"Netflix\", \"Netflix\", \"Netflix\", \"Netflix\", \"Netflix\", \"Netflix\", \"Netflix\", \"Netflix\", \"Netflix\", \"Netflix\", \"Netflix\", \"Netflix\", \"Netflix\", \"Netflix\", \"Netflix\", \"Netflix\", \"Netflix\", \"Netflix\", \"Netflix\", \"Netflix\", \"Netflix\", \"Netflix\", \"Netflix\", \"Netflix\", \"Netflix\", \"Netflix\", \"Netflix\", \"Netflix\", \"Netflix\", \"Netflix\", \"Netflix\", \"Netflix\", \"Netflix\", \"Netflix\", \"Netflix\", \"Netflix\", \"Netflix\", \"Netflix\", \"Netflix\", \"Netflix\", \"Netflix\", \"Netflix\"], \"x0\": \" \", \"xaxis\": \"x\", \"y\": [88, 87, 88, 84, 85, 84, 84, 83, 83, 82, 81, 82, 85, 80, 80, 82, 80, 81, 80, 84, 76, 76, 80, 80, 76, 77, 80, 85, 75, 80, 78, 79, 78, 78, 78, 75, 77, 82, 77, 72, 74, 81, 81, 76, 75, 77, 76, 74, 81, 75, 72, 76, 73, 73, 73, 75, 79, 79, 73, 78, 78, 77, 71, 82, 72, 74, 81, 70, 72, 73, 70, 75, 68, 72, 71, 75, 76, 76, 78, 72, 72, 71, 74, 74, 70, 72, 74, 75, 82, 71, 66, 74, 73, 72, 77, 76, 83, 70, 73, 67, 72, 68, 73, 70, 76, 73, 69, 70, 71, 66, 71, 70, 78, 69, 69, 74, 74, 70, 69, 64, 72, 67, 64, 76, 74, 61, 73, 70, 79, 69, 74, 68, 69, 61, 74, 70, 70, 68, 65, 85, 71, 63, 76, 65, 68, 71, 69, 69, 69, 76, 63, 77, 76, 76, 64, 63, 66, 85, 64, 70, 78, 70, 75, 64, 69, 72, 66, 75, 76, 76, 62, 63, 66, 63, 74, 68, 67, 72, 67, 69, 69, 74, 72, 74, 65, 75, 68, 69, 69, 76, 71, 72, 78, 63, 66, 68, 63, 63, 66, 76, 64, 73, 70, 73, 62, 72, 56, 69, 65, 74, 66, 74, 59, 74, 67, 76, 76, 61, 70, 64, 67, 64, 79, 62, 61, 70, 58, 70, 65, 69, 80, 63, 77, 76, 74, 69, 67, 67, 64, 77, 76, 69, 70, 70, 59, 72, 63, 58, 65, 65, 66, 62, 67, 60, 65, 74, 70, 67, 62, 66, 63, 59, 74, 67, 58, 65, 72, 74, 70, 64, 65, 60, 63, 66, 64, 62, 69, 69, 70, 66, 72, 67, 66, 64, 82, 62, 72, 73, 64, 71, 61, 68, 68, 74, 80, 71, 54, 68, 64, 58, 66, 73, 68, 63, 74, 68, 61, 63, 66, 64, 66, 72, 58, 58, 61, 71, 60, 59, 70, 74, 54, 68, 61, 65, 74, 54, 62, 76, 71, 61, 65, 75, 57, 68, 68, 71, 60, 62, 70, 63, 62, 59, 64, 56, 72, 66, 60, 60, 53, 62, 57, 69, 62, 59, 59, 55, 69, 56, 71, 76, 60, 62, 63, 57, 75, 56, 63, 72, 50, 58, 58, 63, 70, 57, 73, 65, 70, 59, 71, 66, 72, 61, 65, 63, 58, 56, 68, 53, 63, 64, 56, 62, 61, 63, 66, 69, 71, 65, 62, 69, 72, 61, 66, 66, 56, 53, 56, 67, 61, 62, 59, 60, 68, 53, 62, 61, 61, 56, 65, 59, 64, 57, 66, 56, 59, 62, 58, 58, 59, 61, 66, 66, 57, 60, 62, 61, 54, 59, 52, 58, 61, 53, 59, 62, 58, 67, 53, 54, 57, 69, 60, 63, 59, 53, 47, 65, 55, 65, 63, 55, 59, 58, 55, 54, 55, 58, 57, 46, 63, 51, 64, 62, 56, 62, 53, 67, 53, 62, 55, 57, 71, 51, 62, 66, 57, 53, 57, 58, 61, 55, 65, 63, 53, 68, 60, 55, 57, 56, 65, 59, 63, 64, 65, 71, 66, 50, 44, 49, 67, 66, 56, 58, 56, 59, 64, 54, 56, 57, 53, 57, 62, 62, 62, 62, 56, 58, 62, 56, 52, 56, 58, 56, 62, 50, 59, 58, 51, 49, 57, 63, 52, 52, 72, 52, 54, 55, 52, 50, 61, 39, 60, 55, 52, 53, 54, 77, 52, 64, 55, 58, 50, 58, 53, 51, 59, 50, 51, 60, 47, 62, 56, 55, 52, 59, 41, 59, 50, 54, 51, 58, 50, 56, 63, 51, 35, 54, 44, 53, 52, 55, 50, 43, 55, 60, 57, 58, 51, 56, 45, 43, 48, 60, 52, 54, 66, 48, 52, 49, 53, 61, 55, 47, 36, 54, 51, 65, 51, 48, 45, 62, 60, 44, 53, 46, 54, 44, 41, 57, 53, 54, 41, 48, 46, 62, 40, 50, 56, 51, 43, 34, 46, 55, 31, 36, 32, 54, 61, 64, 54, 34, 64, 61, 42, 59, 25, 44], \"y0\": \" \", \"yaxis\": \"y\"}, {\"alignmentgroup\": \"True\", \"box\": {\"visible\": false}, \"hoverlabel\": {\"namelength\": 0}, \"hovertemplate\": \"StreamingOn=%{x}<br>IMDb=%{y}\", \"legendgroup\": \"StreamingOn=Prime Video\", \"marker\": {\"color\": \"#EF553B\"}, \"name\": \"StreamingOn=Prime Video\", \"offsetgroup\": \"StreamingOn=Prime Video\", \"orientation\": \"v\", \"scalegroup\": \"True\", \"showlegend\": true, \"type\": \"violin\", \"x\": [\"Prime Video\", \"Prime Video\", \"Prime Video\", \"Prime Video\", \"Prime Video\", \"Prime Video\", \"Prime Video\", \"Prime Video\", \"Prime Video\", \"Prime Video\", \"Prime Video\", \"Prime Video\", \"Prime Video\", \"Prime Video\", \"Prime Video\", \"Prime Video\", \"Prime Video\", \"Prime Video\", \"Prime Video\", \"Prime Video\", \"Prime Video\", \"Prime Video\", \"Prime Video\", \"Prime Video\", \"Prime Video\", \"Prime Video\", \"Prime Video\", \"Prime Video\", \"Prime Video\", \"Prime Video\", \"Prime Video\", \"Prime Video\", \"Prime Video\", \"Prime Video\", \"Prime Video\", \"Prime Video\", \"Prime Video\", \"Prime Video\", \"Prime Video\", \"Prime Video\", \"Prime Video\", \"Prime Video\", \"Prime Video\", \"Prime Video\", \"Prime Video\", \"Prime Video\", \"Prime Video\", \"Prime Video\", \"Prime Video\", \"Prime Video\", \"Prime Video\", \"Prime Video\", \"Prime Video\", \"Prime Video\", \"Prime Video\", \"Prime Video\", \"Prime Video\", \"Prime Video\", \"Prime Video\", \"Prime Video\", \"Prime Video\", \"Prime Video\", \"Prime Video\", \"Prime Video\", \"Prime Video\", \"Prime Video\", \"Prime Video\", \"Prime Video\", \"Prime Video\", \"Prime Video\", \"Prime Video\", \"Prime Video\", \"Prime Video\", \"Prime Video\", \"Prime Video\", \"Prime Video\", \"Prime Video\", \"Prime Video\", \"Prime Video\", \"Prime Video\", \"Prime Video\", \"Prime Video\", \"Prime Video\", \"Prime Video\", \"Prime Video\", \"Prime Video\", \"Prime Video\", \"Prime Video\", \"Prime Video\", \"Prime Video\", \"Prime Video\", \"Prime Video\", \"Prime Video\", \"Prime Video\", \"Prime Video\", \"Prime Video\", \"Prime Video\", \"Prime Video\", \"Prime Video\", \"Prime Video\", \"Prime Video\", \"Prime Video\", \"Prime Video\", \"Prime Video\", \"Prime Video\", \"Prime Video\", \"Prime Video\", \"Prime Video\", \"Prime Video\", \"Prime Video\", \"Prime Video\", \"Prime Video\", \"Prime Video\", \"Prime Video\", \"Prime Video\", \"Prime Video\", \"Prime Video\", \"Prime Video\", \"Prime Video\", \"Prime Video\", \"Prime Video\", \"Prime Video\", \"Prime Video\", \"Prime Video\", \"Prime Video\", \"Prime Video\", \"Prime Video\", \"Prime Video\", \"Prime Video\", \"Prime Video\", \"Prime Video\", \"Prime Video\", \"Prime Video\", \"Prime Video\", \"Prime Video\", \"Prime Video\", \"Prime Video\", \"Prime Video\", \"Prime Video\", \"Prime Video\", \"Prime Video\", \"Prime Video\", \"Prime Video\", \"Prime Video\", \"Prime Video\", \"Prime Video\", \"Prime Video\", \"Prime Video\", \"Prime Video\", \"Prime Video\", \"Prime Video\", \"Prime Video\", \"Prime Video\", \"Prime Video\", \"Prime Video\", \"Prime Video\", \"Prime Video\", \"Prime Video\", \"Prime Video\", \"Prime Video\", \"Prime Video\", \"Prime Video\", \"Prime Video\", \"Prime Video\", \"Prime Video\", \"Prime Video\", \"Prime Video\", \"Prime Video\", \"Prime Video\", \"Prime Video\", \"Prime Video\", \"Prime Video\", \"Prime Video\", \"Prime Video\", \"Prime Video\", \"Prime Video\", \"Prime Video\", \"Prime Video\", \"Prime Video\", \"Prime Video\", \"Prime Video\", \"Prime Video\", \"Prime Video\", \"Prime Video\", \"Prime Video\", \"Prime Video\", \"Prime Video\", \"Prime Video\", \"Prime Video\", \"Prime Video\", \"Prime Video\", \"Prime Video\", \"Prime Video\", \"Prime Video\", \"Prime Video\", \"Prime Video\", \"Prime Video\", \"Prime Video\", \"Prime Video\", \"Prime Video\", \"Prime Video\", \"Prime Video\", \"Prime Video\", \"Prime Video\", \"Prime Video\", \"Prime Video\", \"Prime Video\", \"Prime Video\", \"Prime Video\", \"Prime Video\", \"Prime Video\", \"Prime Video\", \"Prime Video\", \"Prime Video\", \"Prime Video\", \"Prime Video\", \"Prime Video\", \"Prime Video\", \"Prime Video\", \"Prime Video\", \"Prime Video\", \"Prime Video\", \"Prime Video\", \"Prime Video\", \"Prime Video\", \"Prime Video\", \"Prime Video\", \"Prime Video\", \"Prime Video\", \"Prime Video\", \"Prime Video\", \"Prime Video\", \"Prime Video\", \"Prime Video\", \"Prime Video\", \"Prime Video\", \"Prime Video\", \"Prime Video\", \"Prime Video\", \"Prime Video\", \"Prime Video\", \"Prime Video\", \"Prime Video\", \"Prime Video\", \"Prime Video\", \"Prime Video\", \"Prime Video\", \"Prime Video\", \"Prime Video\", \"Prime Video\", \"Prime Video\", \"Prime Video\", \"Prime Video\", \"Prime Video\", \"Prime Video\", \"Prime Video\", \"Prime Video\", \"Prime Video\", \"Prime Video\", \"Prime Video\", \"Prime Video\", \"Prime Video\", \"Prime Video\", \"Prime Video\", \"Prime Video\", \"Prime Video\", \"Prime Video\", \"Prime Video\", \"Prime Video\", \"Prime Video\", \"Prime Video\", \"Prime Video\", \"Prime Video\", \"Prime Video\", \"Prime Video\", \"Prime Video\", \"Prime Video\", \"Prime Video\", \"Prime Video\", \"Prime Video\", \"Prime Video\", \"Prime Video\", \"Prime Video\", \"Prime Video\", \"Prime Video\", \"Prime Video\", \"Prime Video\", \"Prime Video\", \"Prime Video\", \"Prime Video\", \"Prime Video\", \"Prime Video\", \"Prime Video\", \"Prime Video\", \"Prime Video\", \"Prime Video\", \"Prime Video\", \"Prime Video\", \"Prime Video\", \"Prime Video\", \"Prime Video\", \"Prime Video\", \"Prime Video\", \"Prime Video\", \"Prime Video\", \"Prime Video\", \"Prime Video\", \"Prime Video\", \"Prime Video\", \"Prime Video\", \"Prime Video\", \"Prime Video\", \"Prime Video\", \"Prime Video\", \"Prime Video\", \"Prime Video\", \"Prime Video\", \"Prime Video\", \"Prime Video\", \"Prime Video\", \"Prime Video\", \"Prime Video\", \"Prime Video\", \"Prime Video\", \"Prime Video\", \"Prime Video\", \"Prime Video\", \"Prime Video\", \"Prime Video\", \"Prime Video\", \"Prime Video\", \"Prime Video\", \"Prime Video\", \"Prime Video\", \"Prime Video\", \"Prime Video\", \"Prime Video\", \"Prime Video\", \"Prime Video\", \"Prime Video\", \"Prime Video\", \"Prime Video\", \"Prime Video\", \"Prime Video\", \"Prime Video\", \"Prime Video\", \"Prime Video\", \"Prime Video\", \"Prime Video\", \"Prime Video\", \"Prime Video\", \"Prime Video\", \"Prime Video\", \"Prime Video\", \"Prime Video\", \"Prime Video\", \"Prime Video\", \"Prime Video\", \"Prime Video\", \"Prime Video\", \"Prime Video\", \"Prime Video\", \"Prime Video\", \"Prime Video\", \"Prime Video\", \"Prime Video\", \"Prime Video\", \"Prime Video\", \"Prime Video\", \"Prime Video\", \"Prime Video\", \"Prime Video\", \"Prime Video\", \"Prime Video\", \"Prime Video\", \"Prime Video\", \"Prime Video\", \"Prime Video\", \"Prime Video\", \"Prime Video\", \"Prime Video\", \"Prime Video\", \"Prime Video\", \"Prime Video\", \"Prime Video\", \"Prime Video\", \"Prime Video\", \"Prime Video\", \"Prime Video\", \"Prime Video\", \"Prime Video\", \"Prime Video\", \"Prime Video\", \"Prime Video\", \"Prime Video\", \"Prime Video\", \"Prime Video\", \"Prime Video\", \"Prime Video\", \"Prime Video\", \"Prime Video\", \"Prime Video\", \"Prime Video\", \"Prime Video\", \"Prime Video\", \"Prime Video\", \"Prime Video\", \"Prime Video\", \"Prime Video\", \"Prime Video\", \"Prime Video\", \"Prime Video\", \"Prime Video\", \"Prime Video\", \"Prime Video\", \"Prime Video\", \"Prime Video\", \"Prime Video\", \"Prime Video\", \"Prime Video\", \"Prime Video\", \"Prime Video\", \"Prime Video\", \"Prime Video\", \"Prime Video\", \"Prime Video\", \"Prime Video\", \"Prime Video\", \"Prime Video\", \"Prime Video\", \"Prime Video\", \"Prime Video\", \"Prime Video\", \"Prime Video\", \"Prime Video\", \"Prime Video\", \"Prime Video\", \"Prime Video\", \"Prime Video\", \"Prime Video\", \"Prime Video\", \"Prime Video\", \"Prime Video\", \"Prime Video\", \"Prime Video\", \"Prime Video\", \"Prime Video\", \"Prime Video\", \"Prime Video\", \"Prime Video\", \"Prime Video\", \"Prime Video\", \"Prime Video\", \"Prime Video\", \"Prime Video\", \"Prime Video\", \"Prime Video\", \"Prime Video\", \"Prime Video\", \"Prime Video\", \"Prime Video\", \"Prime Video\", \"Prime Video\", \"Prime Video\", \"Prime Video\", \"Prime Video\", \"Prime Video\", \"Prime Video\", \"Prime Video\", \"Prime Video\", \"Prime Video\", \"Prime Video\", \"Prime Video\", \"Prime Video\", \"Prime Video\", \"Prime Video\", \"Prime Video\", \"Prime Video\", \"Prime Video\", \"Prime Video\", \"Prime Video\", \"Prime Video\", \"Prime Video\", \"Prime Video\", \"Prime Video\", \"Prime Video\", \"Prime Video\", \"Prime Video\", \"Prime Video\", \"Prime Video\", \"Prime Video\", \"Prime Video\", \"Prime Video\", \"Prime Video\", \"Prime Video\", \"Prime Video\", \"Prime Video\", \"Prime Video\", \"Prime Video\", \"Prime Video\", \"Prime Video\", \"Prime Video\", \"Prime Video\", \"Prime Video\", \"Prime Video\", \"Prime Video\", \"Prime Video\", \"Prime Video\", \"Prime Video\", \"Prime Video\", \"Prime Video\", \"Prime Video\", \"Prime Video\", \"Prime Video\", \"Prime Video\", \"Prime Video\", \"Prime Video\", \"Prime Video\", \"Prime Video\", \"Prime Video\", \"Prime Video\", \"Prime Video\", \"Prime Video\", \"Prime Video\", \"Prime Video\", \"Prime Video\", \"Prime Video\", \"Prime Video\", \"Prime Video\", \"Prime Video\", \"Prime Video\", \"Prime Video\", \"Prime Video\", \"Prime Video\", \"Prime Video\", \"Prime Video\", \"Prime Video\", \"Prime Video\", \"Prime Video\", \"Prime Video\", \"Prime Video\", \"Prime Video\", \"Prime Video\", \"Prime Video\", \"Prime Video\", \"Prime Video\", \"Prime Video\", \"Prime Video\", \"Prime Video\", \"Prime Video\", \"Prime Video\", \"Prime Video\", \"Prime Video\", \"Prime Video\", \"Prime Video\", \"Prime Video\", \"Prime Video\", \"Prime Video\", \"Prime Video\", \"Prime Video\", \"Prime Video\", \"Prime Video\", \"Prime Video\", \"Prime Video\", \"Prime Video\", \"Prime Video\", \"Prime Video\", \"Prime Video\", \"Prime Video\", \"Prime Video\", \"Prime Video\", \"Prime Video\", \"Prime Video\", \"Prime Video\", \"Prime Video\", \"Prime Video\", \"Prime Video\", \"Prime Video\", \"Prime Video\", \"Prime Video\", \"Prime Video\", \"Prime Video\", \"Prime Video\", \"Prime Video\", \"Prime Video\", \"Prime Video\", \"Prime Video\", \"Prime Video\", \"Prime Video\", \"Prime Video\", \"Prime Video\", \"Prime Video\", \"Prime Video\", \"Prime Video\", \"Prime Video\", \"Prime Video\", \"Prime Video\", \"Prime Video\", \"Prime Video\", \"Prime Video\", \"Prime Video\", \"Prime Video\", \"Prime Video\", \"Prime Video\", \"Prime Video\", \"Prime Video\", \"Prime Video\", \"Prime Video\", \"Prime Video\", \"Prime Video\", \"Prime Video\", \"Prime Video\", \"Prime Video\", \"Prime Video\", \"Prime Video\", \"Prime Video\", \"Prime Video\", \"Prime Video\", \"Prime Video\", \"Prime Video\", \"Prime Video\", \"Prime Video\", \"Prime Video\", \"Prime Video\", \"Prime Video\", \"Prime Video\", \"Prime Video\", \"Prime Video\", \"Prime Video\", \"Prime Video\", \"Prime Video\", \"Prime Video\", \"Prime Video\", \"Prime Video\", \"Prime Video\", \"Prime Video\", \"Prime Video\", \"Prime Video\", \"Prime Video\", \"Prime Video\", \"Prime Video\", \"Prime Video\", \"Prime Video\", \"Prime Video\", \"Prime Video\", \"Prime Video\", \"Prime Video\", \"Prime Video\", \"Prime Video\", \"Prime Video\", \"Prime Video\", \"Prime Video\", \"Prime Video\", \"Prime Video\", \"Prime Video\", \"Prime Video\", \"Prime Video\", \"Prime Video\", \"Prime Video\", \"Prime Video\", \"Prime Video\", \"Prime Video\", \"Prime Video\", \"Prime Video\", \"Prime Video\", \"Prime Video\", \"Prime Video\", \"Prime Video\", \"Prime Video\", \"Prime Video\", \"Prime Video\", \"Prime Video\", \"Prime Video\", \"Prime Video\", \"Prime Video\", \"Prime Video\", \"Prime Video\", \"Prime Video\", \"Prime Video\", \"Prime Video\", \"Prime Video\", \"Prime Video\", \"Prime Video\", \"Prime Video\", \"Prime Video\", \"Prime Video\", \"Prime Video\", \"Prime Video\", \"Prime Video\", \"Prime Video\", \"Prime Video\", \"Prime Video\", \"Prime Video\", \"Prime Video\", \"Prime Video\", \"Prime Video\", \"Prime Video\", \"Prime Video\", \"Prime Video\", \"Prime Video\", \"Prime Video\", \"Prime Video\", \"Prime Video\", \"Prime Video\", \"Prime Video\", \"Prime Video\", \"Prime Video\", \"Prime Video\", \"Prime Video\", \"Prime Video\", \"Prime Video\", \"Prime Video\", \"Prime Video\", \"Prime Video\", \"Prime Video\", \"Prime Video\", \"Prime Video\", \"Prime Video\", \"Prime Video\", \"Prime Video\", \"Prime Video\", \"Prime Video\", \"Prime Video\", \"Prime Video\", \"Prime Video\", \"Prime Video\", \"Prime Video\", \"Prime Video\", \"Prime Video\", \"Prime Video\", \"Prime Video\", \"Prime Video\", \"Prime Video\", \"Prime Video\", \"Prime Video\", \"Prime Video\", \"Prime Video\", \"Prime Video\", \"Prime Video\", \"Prime Video\", \"Prime Video\", \"Prime Video\", \"Prime Video\", \"Prime Video\", \"Prime Video\", \"Prime Video\", \"Prime Video\", \"Prime Video\", \"Prime Video\", \"Prime Video\", \"Prime Video\", \"Prime Video\", \"Prime Video\", \"Prime Video\", \"Prime Video\", \"Prime Video\", \"Prime Video\", \"Prime Video\", \"Prime Video\", \"Prime Video\", \"Prime Video\", \"Prime Video\", \"Prime Video\", \"Prime Video\", \"Prime Video\", \"Prime Video\", \"Prime Video\", \"Prime Video\", \"Prime Video\", \"Prime Video\", \"Prime Video\", \"Prime Video\", \"Prime Video\", \"Prime Video\", \"Prime Video\", \"Prime Video\", \"Prime Video\", \"Prime Video\", \"Prime Video\", \"Prime Video\", \"Prime Video\", \"Prime Video\", \"Prime Video\", \"Prime Video\", \"Prime Video\", \"Prime Video\", \"Prime Video\", \"Prime Video\", \"Prime Video\", \"Prime Video\", \"Prime Video\", \"Prime Video\", \"Prime Video\", \"Prime Video\", \"Prime Video\", \"Prime Video\", \"Prime Video\", \"Prime Video\", \"Prime Video\", \"Prime Video\", \"Prime Video\", \"Prime Video\", \"Prime Video\", \"Prime Video\", \"Prime Video\", \"Prime Video\", \"Prime Video\", \"Prime Video\", \"Prime Video\", \"Prime Video\", \"Prime Video\", \"Prime Video\", \"Prime Video\", \"Prime Video\", \"Prime Video\", \"Prime Video\", \"Prime Video\", \"Prime Video\", \"Prime Video\", \"Prime Video\", \"Prime Video\", \"Prime Video\", \"Prime Video\", \"Prime Video\", \"Prime Video\", \"Prime Video\", \"Prime Video\", \"Prime Video\", \"Prime Video\", \"Prime Video\", \"Prime Video\", \"Prime Video\", \"Prime Video\", \"Prime Video\", \"Prime Video\", \"Prime Video\", \"Prime Video\", \"Prime Video\", \"Prime Video\", \"Prime Video\", \"Prime Video\", \"Prime Video\", \"Prime Video\", \"Prime Video\", \"Prime Video\", \"Prime Video\", \"Prime Video\", \"Prime Video\", \"Prime Video\", \"Prime Video\", \"Prime Video\", \"Prime Video\", \"Prime Video\", \"Prime Video\", \"Prime Video\", \"Prime Video\", \"Prime Video\", \"Prime Video\", \"Prime Video\", \"Prime Video\", \"Prime Video\", \"Prime Video\", \"Prime Video\", \"Prime Video\", \"Prime Video\", \"Prime Video\", \"Prime Video\", \"Prime Video\", \"Prime Video\", \"Prime Video\", \"Prime Video\", \"Prime Video\", \"Prime Video\", \"Prime Video\", \"Prime Video\", \"Prime Video\", \"Prime Video\", \"Prime Video\", \"Prime Video\", \"Prime Video\", \"Prime Video\", \"Prime Video\", \"Prime Video\", \"Prime Video\", \"Prime Video\", \"Prime Video\", \"Prime Video\", \"Prime Video\", \"Prime Video\", \"Prime Video\", \"Prime Video\", \"Prime Video\", \"Prime Video\", \"Prime Video\", \"Prime Video\", \"Prime Video\", \"Prime Video\", \"Prime Video\", \"Prime Video\", \"Prime Video\", \"Prime Video\", \"Prime Video\", \"Prime Video\", \"Prime Video\", \"Prime Video\", \"Prime Video\", \"Prime Video\", \"Prime Video\", \"Prime Video\", \"Prime Video\", \"Prime Video\", \"Prime Video\", \"Prime Video\", \"Prime Video\", \"Prime Video\", \"Prime Video\", \"Prime Video\", \"Prime Video\", \"Prime Video\", \"Prime Video\", \"Prime Video\", \"Prime Video\", \"Prime Video\", \"Prime Video\", \"Prime Video\", \"Prime Video\", \"Prime Video\", \"Prime Video\", \"Prime Video\", \"Prime Video\", \"Prime Video\", \"Prime Video\", \"Prime Video\", \"Prime Video\", \"Prime Video\", \"Prime Video\", \"Prime Video\", \"Prime Video\", \"Prime Video\", \"Prime Video\", \"Prime Video\", \"Prime Video\", \"Prime Video\", \"Prime Video\", \"Prime Video\", \"Prime Video\", \"Prime Video\", \"Prime Video\", \"Prime Video\", \"Prime Video\", \"Prime Video\", \"Prime Video\", \"Prime Video\", \"Prime Video\", \"Prime Video\", \"Prime Video\", \"Prime Video\", \"Prime Video\", \"Prime Video\", \"Prime Video\", \"Prime Video\", \"Prime Video\", \"Prime Video\", \"Prime Video\", \"Prime Video\", \"Prime Video\", \"Prime Video\", \"Prime Video\", \"Prime Video\", \"Prime Video\", \"Prime Video\", \"Prime Video\", \"Prime Video\", \"Prime Video\", \"Prime Video\", \"Prime Video\", \"Prime Video\", \"Prime Video\", \"Prime Video\", \"Prime Video\", \"Prime Video\", \"Prime Video\", \"Prime Video\", \"Prime Video\", \"Prime Video\", \"Prime Video\", \"Prime Video\", \"Prime Video\", \"Prime Video\", \"Prime Video\", \"Prime Video\", \"Prime Video\", \"Prime Video\", \"Prime Video\", \"Prime Video\", \"Prime Video\", \"Prime Video\", \"Prime Video\", \"Prime Video\", \"Prime Video\", \"Prime Video\", \"Prime Video\", \"Prime Video\", \"Prime Video\", \"Prime Video\", \"Prime Video\", \"Prime Video\", \"Prime Video\", \"Prime Video\", \"Prime Video\", \"Prime Video\", \"Prime Video\", \"Prime Video\", \"Prime Video\", \"Prime Video\", \"Prime Video\", \"Prime Video\", \"Prime Video\", \"Prime Video\", \"Prime Video\", \"Prime Video\", \"Prime Video\", \"Prime Video\", \"Prime Video\", \"Prime Video\", \"Prime Video\", \"Prime Video\", \"Prime Video\", \"Prime Video\", \"Prime Video\", \"Prime Video\", \"Prime Video\", \"Prime Video\", \"Prime Video\", \"Prime Video\", \"Prime Video\", \"Prime Video\", \"Prime Video\", \"Prime Video\", \"Prime Video\", \"Prime Video\", \"Prime Video\", \"Prime Video\", \"Prime Video\", \"Prime Video\", \"Prime Video\", \"Prime Video\", \"Prime Video\", \"Prime Video\", \"Prime Video\", \"Prime Video\", \"Prime Video\", \"Prime Video\", \"Prime Video\", \"Prime Video\", \"Prime Video\", \"Prime Video\", \"Prime Video\", \"Prime Video\", \"Prime Video\", \"Prime Video\", \"Prime Video\", \"Prime Video\", \"Prime Video\", \"Prime Video\", \"Prime Video\", \"Prime Video\", \"Prime Video\", \"Prime Video\", \"Prime Video\", \"Prime Video\", \"Prime Video\", \"Prime Video\", \"Prime Video\", \"Prime Video\", \"Prime Video\", \"Prime Video\", \"Prime Video\", \"Prime Video\", \"Prime Video\", \"Prime Video\", \"Prime Video\", \"Prime Video\", \"Prime Video\", \"Prime Video\", \"Prime Video\", \"Prime Video\", \"Prime Video\", \"Prime Video\", \"Prime Video\", \"Prime Video\", \"Prime Video\", \"Prime Video\", \"Prime Video\", \"Prime Video\", \"Prime Video\", \"Prime Video\", \"Prime Video\", \"Prime Video\", \"Prime Video\", \"Prime Video\", \"Prime Video\", \"Prime Video\", \"Prime Video\", \"Prime Video\", \"Prime Video\", \"Prime Video\", \"Prime Video\", \"Prime Video\", \"Prime Video\", \"Prime Video\", \"Prime Video\", \"Prime Video\", \"Prime Video\", \"Prime Video\", \"Prime Video\", \"Prime Video\", \"Prime Video\", \"Prime Video\", \"Prime Video\", \"Prime Video\", \"Prime Video\", \"Prime Video\", \"Prime Video\", \"Prime Video\", \"Prime Video\", \"Prime Video\", \"Prime Video\", \"Prime Video\", \"Prime Video\", \"Prime Video\", \"Prime Video\", \"Prime Video\", \"Prime Video\", \"Prime Video\", \"Prime Video\", \"Prime Video\", \"Prime Video\", \"Prime Video\", \"Prime Video\", \"Prime Video\", \"Prime Video\", \"Prime Video\", \"Prime Video\", \"Prime Video\", \"Prime Video\", \"Prime Video\", \"Prime Video\", \"Prime Video\", \"Prime Video\", \"Prime Video\", \"Prime Video\", \"Prime Video\", \"Prime Video\", \"Prime Video\", \"Prime Video\", \"Prime Video\", \"Prime Video\", \"Prime Video\", \"Prime Video\", \"Prime Video\", \"Prime Video\", \"Prime Video\", \"Prime Video\", \"Prime Video\", \"Prime Video\", \"Prime Video\", \"Prime Video\", \"Prime Video\", \"Prime Video\", \"Prime Video\", \"Prime Video\", \"Prime Video\", \"Prime Video\", \"Prime Video\", \"Prime Video\", \"Prime Video\", \"Prime Video\", \"Prime Video\", \"Prime Video\", \"Prime Video\", \"Prime Video\", \"Prime Video\", \"Prime Video\", \"Prime Video\", \"Prime Video\", \"Prime Video\", \"Prime Video\", \"Prime Video\", \"Prime Video\", \"Prime Video\", \"Prime Video\", \"Prime Video\", \"Prime Video\", \"Prime Video\", \"Prime Video\", \"Prime Video\", \"Prime Video\", \"Prime Video\", \"Prime Video\", \"Prime Video\", \"Prime Video\", \"Prime Video\", \"Prime Video\", \"Prime Video\", \"Prime Video\", \"Prime Video\", \"Prime Video\", \"Prime Video\", \"Prime Video\", \"Prime Video\", \"Prime Video\", \"Prime Video\", \"Prime Video\", \"Prime Video\", \"Prime Video\", \"Prime Video\", \"Prime Video\", \"Prime Video\", \"Prime Video\", \"Prime Video\", \"Prime Video\", \"Prime Video\", \"Prime Video\", \"Prime Video\", \"Prime Video\", \"Prime Video\", \"Prime Video\", \"Prime Video\", \"Prime Video\", \"Prime Video\", \"Prime Video\", \"Prime Video\", \"Prime Video\", \"Prime Video\", \"Prime Video\", \"Prime Video\", \"Prime Video\", \"Prime Video\", \"Prime Video\", \"Prime Video\", \"Prime Video\", \"Prime Video\", \"Prime Video\", \"Prime Video\", \"Prime Video\", \"Prime Video\", \"Prime Video\", \"Prime Video\", \"Prime Video\", \"Prime Video\", \"Prime Video\", \"Prime Video\", \"Prime Video\", \"Prime Video\", \"Prime Video\", \"Prime Video\", \"Prime Video\", \"Prime Video\", \"Prime Video\", \"Prime Video\", \"Prime Video\", \"Prime Video\", \"Prime Video\", \"Prime Video\", \"Prime Video\", \"Prime Video\", \"Prime Video\", \"Prime Video\", \"Prime Video\", \"Prime Video\", \"Prime Video\", \"Prime Video\", \"Prime Video\", \"Prime Video\", \"Prime Video\", \"Prime Video\", \"Prime Video\", \"Prime Video\", \"Prime Video\", \"Prime Video\", \"Prime Video\", \"Prime Video\", \"Prime Video\", \"Prime Video\", \"Prime Video\", \"Prime Video\", \"Prime Video\", \"Prime Video\", \"Prime Video\", \"Prime Video\", \"Prime Video\", \"Prime Video\", \"Prime Video\", \"Prime Video\", \"Prime Video\", \"Prime Video\", \"Prime Video\", \"Prime Video\", \"Prime Video\", \"Prime Video\", \"Prime Video\", \"Prime Video\", \"Prime Video\", \"Prime Video\", \"Prime Video\", \"Prime Video\", \"Prime Video\", \"Prime Video\", \"Prime Video\", \"Prime Video\", \"Prime Video\", \"Prime Video\", \"Prime Video\", \"Prime Video\", \"Prime Video\", \"Prime Video\", \"Prime Video\", \"Prime Video\", \"Prime Video\", \"Prime Video\", \"Prime Video\", \"Prime Video\", \"Prime Video\", \"Prime Video\", \"Prime Video\", \"Prime Video\", \"Prime Video\", \"Prime Video\", \"Prime Video\", \"Prime Video\", \"Prime Video\", \"Prime Video\", \"Prime Video\", \"Prime Video\", \"Prime Video\", \"Prime Video\", \"Prime Video\", \"Prime Video\", \"Prime Video\", \"Prime Video\", \"Prime Video\", \"Prime Video\", \"Prime Video\", \"Prime Video\", \"Prime Video\", \"Prime Video\", \"Prime Video\", \"Prime Video\", \"Prime Video\", \"Prime Video\", \"Prime Video\", \"Prime Video\", \"Prime Video\", \"Prime Video\", \"Prime Video\", \"Prime Video\", \"Prime Video\", \"Prime Video\", \"Prime Video\", \"Prime Video\", \"Prime Video\", \"Prime Video\", \"Prime Video\", \"Prime Video\", \"Prime Video\"], \"x0\": \" \", \"xaxis\": \"x2\", \"y\": [88, 85, 85, 78, 74, 76, 72, 73, 71, 74, 72, 68, 66, 63, 72, 63, 72, 76, 67, 59, 66, 61, 54, 66, 66, 74, 54, 63, 57, 63, 69, 66, 56, 62, 69, 47, 55, 63, 62, 57, 65, 56, 53, 62, 56, 58, 52, 51, 59, 54, 58, 34, 36, 61, 64, 44, 86, 75, 74, 77, 70, 77, 72, 72, 75, 71, 68, 73, 75, 68, 70, 78, 73, 71, 71, 74, 68, 73, 77, 66, 78, 67, 70, 68, 69, 62, 62, 62, 59, 60, 64, 64, 64, 60, 64, 68, 64, 61, 61, 61, 56, 61, 66, 58, 62, 57, 62, 65, 61, 55, 75, 51, 62, 61, 57, 59, 59, 52, 65, 47, 62, 58, 51, 56, 49, 56, 48, 51, 52, 69, 62, 54, 67, 70, 64, 58, 51, 51, 54, 46, 44, 45, 77, 82, 81, 74, 78, 70, 79, 77, 74, 70, 75, 81, 79, 74, 73, 80, 82, 81, 78, 78, 75, 83, 75, 71, 80, 85, 73, 76, 71, 80, 76, 77, 74, 71, 73, 78, 71, 80, 73, 79, 68, 71, 75, 75, 71, 68, 66, 71, 77, 72, 74, 68, 71, 76, 75, 73, 68, 73, 76, 78, 82, 68, 66, 73, 68, 72, 75, 72, 79, 70, 78, 68, 79, 71, 76, 70, 65, 68, 73, 75, 78, 78, 72, 71, 76, 77, 65, 72, 75, 64, 68, 70, 76, 71, 77, 72, 72, 67, 71, 65, 72, 73, 75, 77, 84, 72, 76, 72, 70, 74, 64, 69, 61, 67, 78, 68, 74, 70, 76, 68, 60, 64, 62, 67, 64, 76, 67, 78, 71, 64, 74, 63, 70, 73, 70, 62, 71, 66, 71, 69, 67, 75, 80, 65, 64, 62, 66, 71, 75, 73, 67, 64, 72, 66, 71, 67, 68, 69, 69, 68, 70, 70, 74, 78, 75, 75, 72, 78, 71, 71, 79, 75, 66, 71, 67, 76, 71, 73, 69, 62, 72, 70, 75, 75, 74, 67, 83, 75, 68, 57, 71, 72, 70, 74, 81, 63, 64, 65, 70, 72, 73, 68, 70, 73, 79, 72, 68, 72, 77, 70, 62, 62, 63, 60, 69, 72, 69, 73, 68, 71, 65, 72, 65, 74, 83, 67, 70, 67, 71, 69, 68, 71, 71, 74, 74, 68, 69, 58, 76, 67, 70, 70, 67, 64, 62, 71, 71, 71, 63, 72, 73, 62, 64, 60, 71, 73, 66, 67, 69, 71, 66, 74, 74, 75, 81, 69, 73, 71, 70, 64, 70, 74, 77, 73, 67, 71, 75, 63, 72, 65, 68, 78, 72, 64, 64, 64, 74, 61, 71, 63, 65, 67, 66, 76, 63, 56, 72, 73, 55, 64, 62, 61, 69, 75, 68, 69, 75, 72, 64, 57, 63, 75, 71, 72, 73, 70, 68, 65, 65, 63, 68, 70, 68, 76, 66, 61, 66, 63, 71, 69, 67, 69, 62, 60, 63, 69, 65, 65, 66, 60, 64, 72, 69, 65, 73, 57, 67, 62, 68, 57, 70, 68, 56, 73, 69, 64, 66, 63, 65, 63, 62, 63, 77, 71, 58, 66, 64, 72, 53, 70, 71, 74, 62, 72, 60, 67, 65, 69, 63, 73, 65, 58, 64, 65, 74, 73, 63, 70, 63, 68, 69, 59, 64, 65, 72, 72, 59, 64, 58, 68, 72, 67, 55, 70, 58, 74, 66, 66, 70, 70, 65, 72, 58, 70, 63, 70, 63, 69, 69, 69, 71, 53, 64, 66, 73, 74, 49, 66, 69, 63, 68, 69, 69, 70, 70, 68, 73, 63, 65, 58, 66, 66, 73, 62, 62, 62, 70, 74, 63, 70, 66, 65, 65, 68, 69, 64, 65, 72, 68, 72, 63, 69, 61, 58, 65, 72, 65, 76, 76, 68, 66, 64, 62, 77, 63, 60, 66, 60, 60, 66, 66, 63, 60, 66, 70, 64, 66, 57, 68, 61, 65, 61, 66, 66, 44, 63, 68, 69, 65, 62, 66, 67, 69, 68, 66, 65, 61, 54, 77, 55, 65, 60, 62, 65, 70, 69, 72, 58, 63, 67, 64, 51, 67, 71, 69, 64, 62, 70, 72, 62, 77, 55, 76, 49, 57, 66, 71, 63, 71, 58, 73, 56, 57, 62, 73, 45, 67, 69, 68, 71, 61, 68, 70, 64, 65, 63, 57, 58, 55, 67, 62, 68, 72, 61, 60, 69, 63, 62, 55, 64, 66, 54, 53, 73, 68, 65, 67, 62, 64, 66, 66, 71, 69, 68, 62, 55, 63, 63, 67, 57, 65, 65, 63, 67, 55, 69, 52, 72, 65, 40, 63, 68, 58, 62, 68, 48, 70, 63, 73, 65, 71, 61, 64, 71, 64, 61, 67, 71, 64, 62, 55, 61, 60, 57, 62, 60, 69, 65, 68, 65, 62, 73, 52, 62, 68, 70, 66, 53, 70, 81, 56, 69, 60, 70, 70, 57, 77, 59, 59, 56, 68, 58, 66, 66, 61, 58, 70, 65, 74, 60, 52, 65, 62, 66, 62, 60, 68, 63, 59, 58, 61, 69, 66, 67, 58, 65, 59, 71, 66, 61, 47, 64, 66, 61, 61, 83, 58, 65, 63, 67, 64, 62, 62, 59, 58, 55, 61, 67, 64, 58, 67, 59, 68, 58, 47, 63, 68, 56, 56, 63, 72, 71, 66, 73, 56, 58, 64, 43, 59, 69, 73, 38, 66, 69, 52, 50, 55, 67, 49, 68, 57, 60, 68, 51, 53, 64, 58, 57, 51, 51, 60, 56, 60, 55, 51, 68, 63, 69, 49, 61, 51, 62, 57, 60, 73, 69, 69, 62, 53, 75, 51, 64, 65, 55, 66, 66, 62, 58, 66, 60, 64, 63, 68, 68, 61, 63, 44, 56, 57, 49, 68, 58, 71, 66, 64, 58, 65, 57, 63, 62, 47, 66, 53, 60, 75, 60, 60, 63, 79, 66, 56, 61, 61, 56, 50, 53, 70, 62, 64, 58, 50, 59, 59, 58, 75, 69, 58, 46, 53, 58, 59, 52, 68, 64, 70, 55, 63, 53, 65, 45, 63, 64, 40, 55, 65, 73, 63, 58, 61, 59, 53, 63, 58, 61, 56, 68, 60, 59, 67, 53, 70, 44, 65, 58, 66, 63, 56, 63, 65, 63, 56, 61, 55, 66, 45, 64, 70, 54, 46, 59, 65, 59, 64, 59, 65, 61, 65, 59, 50, 49, 47, 60, 62, 55, 65, 54, 62, 54, 65, 51, 75, 47, 60, 56, 60, 54, 58, 56, 52, 55, 56, 54, 49, 49, 52, 56, 58, 54, 54, 56, 55, 45, 45, 57, 61, 58, 53, 58, 61, 67, 66, 65, 67, 69, 59, 55, 53, 57, 52, 56, 64, 64, 60, 50, 63, 57, 70, 67, 53, 63, 51, 69, 49, 51, 58, 59, 60, 57, 60, 55, 68, 74, 60, 43, 56, 48, 56, 56, 48, 63, 67, 57, 53, 66, 50, 52, 54, 72, 70, 65, 55, 56, 57, 52, 55, 67, 49, 74, 60, 54, 60, 58, 65, 58, 42, 41, 56, 56, 50, 44, 53, 38, 45, 51, 51, 54, 64, 59, 53, 46, 66, 58, 62, 59, 52, 76, 53, 67, 61, 72, 40, 61, 58, 48, 63, 44, 54, 66, 43, 62, 66, 42, 53, 61, 65, 45, 51, 63, 61, 67, 56, 57, 61, 53, 52, 52, 45, 67, 64, 54, 56, 62, 50, 41, 57, 50, 46, 47, 59, 48, 56, 55, 41, 55, 56, 42, 62, 49, 53, 52, 47, 51, 60, 46, 53, 35, 43, 46, 38, 61, 74, 42, 46, 58, 69, 43, 33, 59, 53, 79, 50, 54, 48, 67, 48, 48, 56, 53, 50, 28, 61, 49, 75, 46, 48, 53, 55, 59, 37, 41, 51, 57, 42, 53, 58, 49, 26, 48, 54, 63, 40, 41, 55, 59, 68, 40, 46, 55, 39, 40, 53, 58, 39, 28, 46, 45, 45, 51, 58, 50, 51, 36, 52, 51, 58, 53, 73, 46, 47, 36, 51, 40, 45, 34, 53, 59, 40, 43, 52, 55, 50, 54, 51, 57, 59, 49, 46, 50, 38, 46, 42, 40, 74, 56, 69, 59, 57, 55, 42, 49, 27, 48, 48, 72, 44, 60, 20, 54, 36, 35, 64, 48, 37, 46, 63, 41, 48, 33, 54, 52, 44, 47, 59, 18, 35, 62, 53, 64, 32, 34, 29, 48, 68, 37, 59, 48, 29, 56, 50, 35, 55, 62, 63, 44, 34, 40, 48, 37, 42, 51, 39, 54, 43, 47], \"y0\": \" \", \"yaxis\": \"y2\"}, {\"alignmentgroup\": \"True\", \"box\": {\"visible\": false}, \"hoverlabel\": {\"namelength\": 0}, \"hovertemplate\": \"StreamingOn=%{x}<br>IMDb=%{y}\", \"legendgroup\": \"StreamingOn=Disney+\", \"marker\": {\"color\": \"#00cc96\"}, \"name\": \"StreamingOn=Disney+\", \"offsetgroup\": \"StreamingOn=Disney+\", \"orientation\": \"v\", \"scalegroup\": \"True\", \"showlegend\": true, \"type\": \"violin\", \"x\": [\"Disney+\", \"Disney+\", \"Disney+\", \"Disney+\", \"Disney+\", \"Disney+\", \"Disney+\", \"Disney+\", \"Disney+\", \"Disney+\", \"Disney+\", \"Disney+\", \"Disney+\", \"Disney+\", \"Disney+\", \"Disney+\", \"Disney+\", \"Disney+\", \"Disney+\", \"Disney+\", \"Disney+\", \"Disney+\", \"Disney+\", \"Disney+\", \"Disney+\", \"Disney+\", \"Disney+\", \"Disney+\", \"Disney+\", \"Disney+\", \"Disney+\", \"Disney+\", \"Disney+\", \"Disney+\", \"Disney+\", \"Disney+\", \"Disney+\", \"Disney+\", \"Disney+\", \"Disney+\", \"Disney+\", \"Disney+\", \"Disney+\", \"Disney+\", \"Disney+\", \"Disney+\", \"Disney+\", \"Disney+\", \"Disney+\", \"Disney+\", \"Disney+\", \"Disney+\", \"Disney+\", \"Disney+\", \"Disney+\", \"Disney+\", \"Disney+\", \"Disney+\", \"Disney+\", \"Disney+\", \"Disney+\", \"Disney+\", \"Disney+\", \"Disney+\", \"Disney+\", \"Disney+\", \"Disney+\", \"Disney+\", \"Disney+\", \"Disney+\", \"Disney+\", \"Disney+\", \"Disney+\", \"Disney+\", \"Disney+\", \"Disney+\", \"Disney+\", \"Disney+\", \"Disney+\", \"Disney+\", \"Disney+\", \"Disney+\", \"Disney+\", \"Disney+\", \"Disney+\", \"Disney+\", \"Disney+\", \"Disney+\", \"Disney+\", \"Disney+\", \"Disney+\", \"Disney+\", \"Disney+\", \"Disney+\", \"Disney+\", \"Disney+\", \"Disney+\", \"Disney+\", \"Disney+\", \"Disney+\", \"Disney+\", \"Disney+\", \"Disney+\", \"Disney+\", \"Disney+\", \"Disney+\", \"Disney+\", \"Disney+\", \"Disney+\", \"Disney+\", \"Disney+\", \"Disney+\", \"Disney+\", \"Disney+\", \"Disney+\", \"Disney+\", \"Disney+\", \"Disney+\", \"Disney+\", \"Disney+\", \"Disney+\", \"Disney+\", \"Disney+\", \"Disney+\", \"Disney+\", \"Disney+\", \"Disney+\", \"Disney+\", \"Disney+\", \"Disney+\", \"Disney+\", \"Disney+\", \"Disney+\", \"Disney+\", \"Disney+\", \"Disney+\", \"Disney+\", \"Disney+\", \"Disney+\", \"Disney+\", \"Disney+\", \"Disney+\", \"Disney+\", \"Disney+\", \"Disney+\", \"Disney+\", \"Disney+\", \"Disney+\", \"Disney+\", \"Disney+\", \"Disney+\", \"Disney+\", \"Disney+\", \"Disney+\", \"Disney+\", \"Disney+\", \"Disney+\", \"Disney+\", \"Disney+\", \"Disney+\", \"Disney+\", \"Disney+\", \"Disney+\", \"Disney+\", \"Disney+\", \"Disney+\"], \"x0\": \" \", \"xaxis\": \"x3\", \"y\": [75, 78, 68, 71, 75, 57, 82, 73, 61, 59, 45, 70, 70, 59, 85, 84, 84, 80, 81, 84, 79, 78, 79, 81, 80, 80, 80, 78, 75, 76, 78, 76, 80, 73, 77, 77, 73, 73, 77, 72, 80, 75, 71, 69, 81, 76, 78, 73, 80, 73, 73, 74, 65, 65, 77, 72, 69, 72, 68, 72, 74, 69, 72, 69, 67, 68, 72, 64, 65, 63, 66, 64, 68, 74, 70, 71, 72, 70, 69, 65, 54, 69, 68, 61, 65, 63, 67, 73, 76, 70, 60, 71, 68, 52, 74, 62, 66, 64, 59, 76, 60, 55, 66, 64, 64, 63, 66, 74, 72, 52, 62, 73, 48, 55, 58, 62, 56, 55, 61, 60, 56, 59, 53, 59, 59, 63, 50, 71, 62, 58, 53, 56, 47, 48, 68, 54, 45, 61, 52, 65, 49, 47, 53, 52, 24, 55, 56, 49, 50, 54, 55, 53, 50, 54, 54, 51, 52, 65, 56, 59, 41, 47, 33, 47, 41, 53], \"y0\": \" \", \"yaxis\": \"y3\"}, {\"alignmentgroup\": \"True\", \"box\": {\"visible\": false}, \"hoverlabel\": {\"namelength\": 0}, \"hovertemplate\": \"StreamingOn=%{x}<br>IMDb=%{y}\", \"legendgroup\": \"StreamingOn=Hulu\", \"marker\": {\"color\": \"#ab63fa\"}, \"name\": \"StreamingOn=Hulu\", \"offsetgroup\": \"StreamingOn=Hulu\", \"orientation\": \"v\", \"scalegroup\": \"True\", \"showlegend\": true, \"type\": \"violin\", \"x\": [\"Hulu\", \"Hulu\", \"Hulu\", \"Hulu\", \"Hulu\", \"Hulu\", \"Hulu\", \"Hulu\", \"Hulu\", \"Hulu\", \"Hulu\", \"Hulu\", \"Hulu\", \"Hulu\", \"Hulu\", \"Hulu\", \"Hulu\", \"Hulu\", \"Hulu\", \"Hulu\", \"Hulu\", \"Hulu\", \"Hulu\", \"Hulu\", \"Hulu\", \"Hulu\", \"Hulu\", \"Hulu\", \"Hulu\", \"Hulu\", \"Hulu\", \"Hulu\", \"Hulu\", \"Hulu\", \"Hulu\", \"Hulu\", \"Hulu\", \"Hulu\", \"Hulu\", \"Hulu\", \"Hulu\", \"Hulu\", \"Hulu\", \"Hulu\", \"Hulu\", \"Hulu\", \"Hulu\", \"Hulu\", \"Hulu\", \"Hulu\", \"Hulu\", \"Hulu\", \"Hulu\", \"Hulu\", \"Hulu\", \"Hulu\", \"Hulu\", \"Hulu\", \"Hulu\", \"Hulu\", \"Hulu\", \"Hulu\", \"Hulu\", \"Hulu\", \"Hulu\", \"Hulu\", \"Hulu\", \"Hulu\", \"Hulu\", \"Hulu\", \"Hulu\", \"Hulu\", \"Hulu\", \"Hulu\", \"Hulu\", \"Hulu\", \"Hulu\", \"Hulu\", \"Hulu\", \"Hulu\", \"Hulu\", \"Hulu\", \"Hulu\", \"Hulu\", \"Hulu\", \"Hulu\", \"Hulu\", \"Hulu\", \"Hulu\", \"Hulu\", \"Hulu\", \"Hulu\", \"Hulu\", \"Hulu\", \"Hulu\", \"Hulu\", \"Hulu\", \"Hulu\", \"Hulu\", \"Hulu\", \"Hulu\", \"Hulu\", \"Hulu\", \"Hulu\", \"Hulu\", \"Hulu\", \"Hulu\", \"Hulu\", \"Hulu\", \"Hulu\", \"Hulu\", \"Hulu\", \"Hulu\", \"Hulu\", \"Hulu\", \"Hulu\", \"Hulu\", \"Hulu\", \"Hulu\", \"Hulu\", \"Hulu\", \"Hulu\", \"Hulu\", \"Hulu\", \"Hulu\", \"Hulu\", \"Hulu\", \"Hulu\", \"Hulu\", \"Hulu\", \"Hulu\", \"Hulu\", \"Hulu\", \"Hulu\", \"Hulu\", \"Hulu\", \"Hulu\", \"Hulu\", \"Hulu\", \"Hulu\", \"Hulu\", \"Hulu\", \"Hulu\", \"Hulu\", \"Hulu\", \"Hulu\", \"Hulu\", \"Hulu\", \"Hulu\", \"Hulu\", \"Hulu\", \"Hulu\", \"Hulu\", \"Hulu\", \"Hulu\", \"Hulu\", \"Hulu\", \"Hulu\", \"Hulu\", \"Hulu\", \"Hulu\", \"Hulu\", \"Hulu\", \"Hulu\", \"Hulu\", \"Hulu\", \"Hulu\", \"Hulu\", \"Hulu\", \"Hulu\", \"Hulu\", \"Hulu\", \"Hulu\", \"Hulu\", \"Hulu\", \"Hulu\", \"Hulu\", \"Hulu\", \"Hulu\", \"Hulu\", \"Hulu\", \"Hulu\", \"Hulu\", \"Hulu\", \"Hulu\", \"Hulu\", \"Hulu\", \"Hulu\", \"Hulu\", \"Hulu\", \"Hulu\", \"Hulu\", \"Hulu\", \"Hulu\", \"Hulu\", \"Hulu\", \"Hulu\", \"Hulu\", \"Hulu\", \"Hulu\", \"Hulu\", \"Hulu\", \"Hulu\", \"Hulu\", \"Hulu\", \"Hulu\", \"Hulu\", \"Hulu\", \"Hulu\", \"Hulu\", \"Hulu\", \"Hulu\", \"Hulu\", \"Hulu\", \"Hulu\", \"Hulu\", \"Hulu\", \"Hulu\", \"Hulu\", \"Hulu\", \"Hulu\", \"Hulu\", \"Hulu\", \"Hulu\", \"Hulu\", \"Hulu\", \"Hulu\", \"Hulu\", \"Hulu\", \"Hulu\", \"Hulu\", \"Hulu\", \"Hulu\", \"Hulu\", \"Hulu\", \"Hulu\", \"Hulu\", \"Hulu\", \"Hulu\", \"Hulu\", \"Hulu\", \"Hulu\", \"Hulu\", \"Hulu\", \"Hulu\", \"Hulu\", \"Hulu\", \"Hulu\", \"Hulu\", \"Hulu\", \"Hulu\", \"Hulu\", \"Hulu\", \"Hulu\", \"Hulu\", \"Hulu\", \"Hulu\", \"Hulu\", \"Hulu\", \"Hulu\", \"Hulu\", \"Hulu\", \"Hulu\", \"Hulu\", \"Hulu\", \"Hulu\", \"Hulu\", \"Hulu\", \"Hulu\", \"Hulu\", \"Hulu\", \"Hulu\", \"Hulu\", \"Hulu\", \"Hulu\", \"Hulu\", \"Hulu\", \"Hulu\", \"Hulu\", \"Hulu\", \"Hulu\", \"Hulu\", \"Hulu\", \"Hulu\", \"Hulu\", \"Hulu\", \"Hulu\", \"Hulu\", \"Hulu\", \"Hulu\", \"Hulu\", \"Hulu\", \"Hulu\", \"Hulu\", \"Hulu\", \"Hulu\", \"Hulu\", \"Hulu\", \"Hulu\", \"Hulu\", \"Hulu\", \"Hulu\", \"Hulu\", \"Hulu\", \"Hulu\", \"Hulu\", \"Hulu\", \"Hulu\", \"Hulu\", \"Hulu\", \"Hulu\", \"Hulu\", \"Hulu\", \"Hulu\", \"Hulu\", \"Hulu\", \"Hulu\", \"Hulu\", \"Hulu\", \"Hulu\"], \"x0\": \" \", \"xaxis\": \"x4\", \"y\": [79, 72, 61, 64, 62, 54, 56, 39, 86, 83, 81, 75, 76, 75, 82, 75, 77, 80, 74, 75, 77, 82, 72, 70, 77, 72, 72, 75, 71, 68, 73, 76, 71, 76, 75, 77, 68, 78, 70, 81, 79, 70, 72, 78, 78, 74, 69, 73, 81, 73, 70, 73, 71, 68, 74, 70, 70, 66, 69, 71, 71, 65, 74, 71, 74, 67, 68, 73, 74, 77, 66, 72, 67, 66, 67, 67, 62, 67, 65, 78, 76, 62, 66, 75, 67, 72, 70, 62, 71, 68, 64, 69, 71, 69, 65, 62, 62, 62, 73, 67, 70, 73, 68, 76, 75, 70, 75, 66, 59, 72, 61, 60, 68, 66, 66, 64, 73, 71, 64, 71, 75, 64, 73, 64, 72, 58, 76, 60, 70, 74, 64, 65, 68, 64, 64, 61, 61, 70, 71, 70, 61, 61, 68, 72, 74, 64, 66, 72, 56, 59, 61, 73, 70, 73, 66, 67, 60, 66, 61, 61, 62, 71, 62, 58, 65, 68, 58, 62, 63, 73, 55, 65, 69, 57, 62, 69, 60, 65, 65, 58, 64, 61, 59, 64, 69, 55, 75, 51, 59, 62, 59, 61, 57, 56, 62, 58, 63, 64, 58, 58, 53, 72, 64, 59, 65, 59, 57, 54, 57, 69, 71, 52, 57, 56, 71, 64, 65, 54, 55, 65, 52, 69, 65, 47, 59, 57, 62, 55, 58, 49, 57, 51, 58, 59, 59, 64, 53, 68, 50, 73, 64, 54, 64, 51, 56, 58, 49, 53, 65, 64, 56, 48, 48, 51, 54, 51, 54, 58, 55, 52, 57, 69, 57, 62, 67, 56, 54, 67, 74, 53, 49, 53, 45, 66, 70, 46, 67, 59, 64, 51, 58, 55, 58, 50, 55, 51, 58, 52, 54, 48, 51, 51, 54, 56, 61, 51, 62, 40, 46, 46, 67, 55, 52, 51, 45, 54, 52, 46, 53, 44, 58, 41, 44, 42, 37, 46, 57, 45, 42, 57], \"y0\": \" \", \"yaxis\": \"y4\"}, {\"alignmentgroup\": \"True\", \"box\": {\"visible\": false}, \"hoverlabel\": {\"namelength\": 0}, \"hovertemplate\": \"StreamingOn=%{x}<br>Rotten Tomatoes=%{y}\", \"legendgroup\": \"StreamingOn=Netflix\", \"marker\": {\"color\": \"#636efa\"}, \"name\": \"StreamingOn=Netflix\", \"offsetgroup\": \"StreamingOn=Netflix\", \"orientation\": \"v\", \"scalegroup\": \"True\", \"showlegend\": true, \"type\": \"violin\", \"x\": [\"Netflix\", \"Netflix\", \"Netflix\", \"Netflix\", \"Netflix\", \"Netflix\", \"Netflix\", \"Netflix\", \"Netflix\", \"Netflix\", \"Netflix\", \"Netflix\", \"Netflix\", \"Netflix\", \"Netflix\", \"Netflix\", \"Netflix\", \"Netflix\", \"Netflix\", \"Netflix\", \"Netflix\", \"Netflix\", \"Netflix\", \"Netflix\", \"Netflix\", \"Netflix\", \"Netflix\", \"Netflix\", \"Netflix\", \"Netflix\", \"Netflix\", \"Netflix\", \"Netflix\", \"Netflix\", \"Netflix\", \"Netflix\", \"Netflix\", \"Netflix\", \"Netflix\", \"Netflix\", \"Netflix\", \"Netflix\", \"Netflix\", \"Netflix\", \"Netflix\", \"Netflix\", \"Netflix\", \"Netflix\", \"Netflix\", \"Netflix\", \"Netflix\", \"Netflix\", \"Netflix\", \"Netflix\", \"Netflix\", \"Netflix\", \"Netflix\", \"Netflix\", \"Netflix\", \"Netflix\", \"Netflix\", \"Netflix\", \"Netflix\", \"Netflix\", \"Netflix\", \"Netflix\", \"Netflix\", \"Netflix\", \"Netflix\", \"Netflix\", \"Netflix\", \"Netflix\", \"Netflix\", \"Netflix\", \"Netflix\", \"Netflix\", \"Netflix\", \"Netflix\", \"Netflix\", \"Netflix\", \"Netflix\", \"Netflix\", \"Netflix\", \"Netflix\", \"Netflix\", \"Netflix\", \"Netflix\", \"Netflix\", \"Netflix\", \"Netflix\", \"Netflix\", \"Netflix\", \"Netflix\", \"Netflix\", \"Netflix\", \"Netflix\", \"Netflix\", \"Netflix\", \"Netflix\", \"Netflix\", \"Netflix\", \"Netflix\", \"Netflix\", \"Netflix\", \"Netflix\", \"Netflix\", \"Netflix\", \"Netflix\", \"Netflix\", \"Netflix\", \"Netflix\", \"Netflix\", \"Netflix\", \"Netflix\", \"Netflix\", \"Netflix\", \"Netflix\", \"Netflix\", \"Netflix\", \"Netflix\", \"Netflix\", \"Netflix\", \"Netflix\", \"Netflix\", \"Netflix\", \"Netflix\", \"Netflix\", \"Netflix\", \"Netflix\", \"Netflix\", \"Netflix\", \"Netflix\", \"Netflix\", \"Netflix\", \"Netflix\", \"Netflix\", \"Netflix\", \"Netflix\", \"Netflix\", \"Netflix\", \"Netflix\", \"Netflix\", \"Netflix\", \"Netflix\", \"Netflix\", \"Netflix\", \"Netflix\", \"Netflix\", \"Netflix\", \"Netflix\", \"Netflix\", \"Netflix\", \"Netflix\", \"Netflix\", \"Netflix\", \"Netflix\", \"Netflix\", \"Netflix\", \"Netflix\", \"Netflix\", \"Netflix\", \"Netflix\", \"Netflix\", \"Netflix\", \"Netflix\", \"Netflix\", \"Netflix\", \"Netflix\", \"Netflix\", \"Netflix\", \"Netflix\", \"Netflix\", \"Netflix\", \"Netflix\", \"Netflix\", \"Netflix\", \"Netflix\", \"Netflix\", \"Netflix\", \"Netflix\", \"Netflix\", \"Netflix\", \"Netflix\", \"Netflix\", \"Netflix\", \"Netflix\", \"Netflix\", \"Netflix\", \"Netflix\", \"Netflix\", \"Netflix\", \"Netflix\", \"Netflix\", \"Netflix\", \"Netflix\", \"Netflix\", \"Netflix\", \"Netflix\", \"Netflix\", \"Netflix\", \"Netflix\", \"Netflix\", \"Netflix\", \"Netflix\", \"Netflix\", \"Netflix\", \"Netflix\", \"Netflix\", \"Netflix\", \"Netflix\", \"Netflix\", \"Netflix\", \"Netflix\", \"Netflix\", \"Netflix\", \"Netflix\", \"Netflix\", \"Netflix\", \"Netflix\", \"Netflix\", \"Netflix\", \"Netflix\", \"Netflix\", \"Netflix\", \"Netflix\", \"Netflix\", \"Netflix\", \"Netflix\", \"Netflix\", \"Netflix\", \"Netflix\", \"Netflix\", \"Netflix\", \"Netflix\", \"Netflix\", \"Netflix\", \"Netflix\", \"Netflix\", \"Netflix\", \"Netflix\", \"Netflix\", \"Netflix\", \"Netflix\", \"Netflix\", \"Netflix\", \"Netflix\", \"Netflix\", \"Netflix\", \"Netflix\", \"Netflix\", \"Netflix\", \"Netflix\", \"Netflix\", \"Netflix\", \"Netflix\", \"Netflix\", \"Netflix\", \"Netflix\", \"Netflix\", \"Netflix\", \"Netflix\", \"Netflix\", \"Netflix\", \"Netflix\", \"Netflix\", \"Netflix\", \"Netflix\", \"Netflix\", \"Netflix\", \"Netflix\", \"Netflix\", \"Netflix\", \"Netflix\", \"Netflix\", \"Netflix\", \"Netflix\", \"Netflix\", \"Netflix\", \"Netflix\", \"Netflix\", \"Netflix\", \"Netflix\", \"Netflix\", \"Netflix\", \"Netflix\", \"Netflix\", \"Netflix\", \"Netflix\", \"Netflix\", \"Netflix\", \"Netflix\", \"Netflix\", \"Netflix\", \"Netflix\", \"Netflix\", \"Netflix\", \"Netflix\", \"Netflix\", \"Netflix\", \"Netflix\", \"Netflix\", \"Netflix\", \"Netflix\", \"Netflix\", \"Netflix\", \"Netflix\", \"Netflix\", \"Netflix\", \"Netflix\", \"Netflix\", \"Netflix\", \"Netflix\", \"Netflix\", \"Netflix\", \"Netflix\", \"Netflix\", \"Netflix\", \"Netflix\", \"Netflix\", \"Netflix\", \"Netflix\", \"Netflix\", \"Netflix\", \"Netflix\", \"Netflix\", \"Netflix\", \"Netflix\", \"Netflix\", \"Netflix\", \"Netflix\", \"Netflix\", \"Netflix\", \"Netflix\", \"Netflix\", \"Netflix\", \"Netflix\", \"Netflix\", \"Netflix\", \"Netflix\", \"Netflix\", \"Netflix\", \"Netflix\", \"Netflix\", \"Netflix\", \"Netflix\", \"Netflix\", \"Netflix\", \"Netflix\", \"Netflix\", \"Netflix\", \"Netflix\", \"Netflix\", \"Netflix\", \"Netflix\", \"Netflix\", \"Netflix\", \"Netflix\", \"Netflix\", \"Netflix\", \"Netflix\", \"Netflix\", \"Netflix\", \"Netflix\", \"Netflix\", \"Netflix\", \"Netflix\", \"Netflix\", \"Netflix\", \"Netflix\", \"Netflix\", \"Netflix\", \"Netflix\", \"Netflix\", \"Netflix\", \"Netflix\", \"Netflix\", \"Netflix\", \"Netflix\", \"Netflix\", \"Netflix\", \"Netflix\", \"Netflix\", \"Netflix\", \"Netflix\", \"Netflix\", \"Netflix\", \"Netflix\", \"Netflix\", \"Netflix\", \"Netflix\", \"Netflix\", \"Netflix\", \"Netflix\", \"Netflix\", \"Netflix\", \"Netflix\", \"Netflix\", \"Netflix\", \"Netflix\", \"Netflix\", \"Netflix\", \"Netflix\", \"Netflix\", \"Netflix\", \"Netflix\", \"Netflix\", \"Netflix\", \"Netflix\", \"Netflix\", \"Netflix\", \"Netflix\", \"Netflix\", \"Netflix\", \"Netflix\", \"Netflix\", \"Netflix\", \"Netflix\", \"Netflix\", \"Netflix\", \"Netflix\", \"Netflix\", \"Netflix\", \"Netflix\", \"Netflix\", \"Netflix\", \"Netflix\", \"Netflix\", \"Netflix\", \"Netflix\", \"Netflix\", \"Netflix\", \"Netflix\", \"Netflix\", \"Netflix\", \"Netflix\", \"Netflix\", \"Netflix\", \"Netflix\", \"Netflix\", \"Netflix\", \"Netflix\", \"Netflix\", \"Netflix\", \"Netflix\", \"Netflix\", \"Netflix\", \"Netflix\", \"Netflix\", \"Netflix\", \"Netflix\", \"Netflix\", \"Netflix\", \"Netflix\", \"Netflix\", \"Netflix\", \"Netflix\", \"Netflix\", \"Netflix\", \"Netflix\", \"Netflix\", \"Netflix\", \"Netflix\", \"Netflix\", \"Netflix\", \"Netflix\", \"Netflix\", \"Netflix\", \"Netflix\", \"Netflix\", \"Netflix\", \"Netflix\", \"Netflix\", \"Netflix\", \"Netflix\", \"Netflix\", \"Netflix\", \"Netflix\", \"Netflix\", \"Netflix\", \"Netflix\", \"Netflix\", \"Netflix\", \"Netflix\", \"Netflix\", \"Netflix\", \"Netflix\", \"Netflix\", \"Netflix\", \"Netflix\", \"Netflix\", \"Netflix\", \"Netflix\", \"Netflix\", \"Netflix\", \"Netflix\", \"Netflix\", \"Netflix\", \"Netflix\", \"Netflix\", \"Netflix\", \"Netflix\", \"Netflix\", \"Netflix\", \"Netflix\", \"Netflix\", \"Netflix\", \"Netflix\", \"Netflix\", \"Netflix\", \"Netflix\", \"Netflix\", \"Netflix\", \"Netflix\", \"Netflix\", \"Netflix\", \"Netflix\", \"Netflix\", \"Netflix\", \"Netflix\", \"Netflix\", \"Netflix\", \"Netflix\", \"Netflix\", \"Netflix\", \"Netflix\", \"Netflix\", \"Netflix\", \"Netflix\", \"Netflix\", \"Netflix\", \"Netflix\", \"Netflix\", \"Netflix\", \"Netflix\", \"Netflix\", \"Netflix\", \"Netflix\", \"Netflix\", \"Netflix\", \"Netflix\", \"Netflix\", \"Netflix\", \"Netflix\", \"Netflix\", \"Netflix\", \"Netflix\", \"Netflix\", \"Netflix\", \"Netflix\", \"Netflix\", \"Netflix\", \"Netflix\", \"Netflix\", \"Netflix\", \"Netflix\", \"Netflix\", \"Netflix\", \"Netflix\", \"Netflix\", \"Netflix\", \"Netflix\", \"Netflix\", \"Netflix\", \"Netflix\", \"Netflix\", \"Netflix\", \"Netflix\", \"Netflix\", \"Netflix\", \"Netflix\", \"Netflix\", \"Netflix\", \"Netflix\", \"Netflix\", \"Netflix\", \"Netflix\", \"Netflix\", \"Netflix\", \"Netflix\", \"Netflix\", \"Netflix\", \"Netflix\", \"Netflix\", \"Netflix\", \"Netflix\", \"Netflix\", \"Netflix\", \"Netflix\", \"Netflix\", \"Netflix\", \"Netflix\", \"Netflix\", \"Netflix\", \"Netflix\", \"Netflix\", \"Netflix\", \"Netflix\", \"Netflix\", \"Netflix\", \"Netflix\", \"Netflix\", \"Netflix\", \"Netflix\", \"Netflix\", \"Netflix\", \"Netflix\", \"Netflix\", \"Netflix\", \"Netflix\", \"Netflix\", \"Netflix\", \"Netflix\", \"Netflix\", \"Netflix\", \"Netflix\", \"Netflix\", \"Netflix\", \"Netflix\", \"Netflix\", \"Netflix\", \"Netflix\", \"Netflix\", \"Netflix\", \"Netflix\", \"Netflix\", \"Netflix\", \"Netflix\", \"Netflix\", \"Netflix\", \"Netflix\", \"Netflix\", \"Netflix\", \"Netflix\", \"Netflix\", \"Netflix\", \"Netflix\", \"Netflix\", \"Netflix\", \"Netflix\", \"Netflix\", \"Netflix\", \"Netflix\", \"Netflix\", \"Netflix\", \"Netflix\", \"Netflix\", \"Netflix\", \"Netflix\", \"Netflix\", \"Netflix\", \"Netflix\", \"Netflix\", \"Netflix\", \"Netflix\", \"Netflix\", \"Netflix\"], \"x0\": \" \", \"xaxis\": \"x5\", \"y\": [87, 87, 97, 97, 95, 87, 95, 89, 95, 95, 93, 97, 95, 95, 95, 91, 93, 95, 95, 91, 81, 97, 77, 85, 85, 79, 67, 93, 81, 83, 75, 95, 65, 91, 71, 93, 85, 95, 81, 97, 91, 67, 99, 85, 95, 89, 87, 97, 95, 85, 73, 89, 97, 89, 87, 79, 93, 99, 83, 63, 95, 93, 91, 89, 87, 87, 91, 91, 81, 91, 77, 95, 89, 87, 85, 89, 85, 55, 99, 85, 71, 91, 99, 97, 71, 61, 69, 81, 83, 83, 91, 93, 73, 85, 95, 87, 89, 79, 67, 87, 83, 89, 69, 89, 89, 77, 43, 65, 67, 63, 71, 71, 97, 91, 71, 71, 81, 77, 99, 39, 81, 79, 89, 77, 97, 79, 67, 31, 93, 59, 91, 35, 93, 83, 99, 83, 61, 81, 49, 35, 97, 85, 95, 65, 73, 57, 97, 57, 61, 93, 69, 83, 91, 89, 41, 85, 71, 95, 73, 79, 91, 41, 99, 67, 53, 89, 23, 87, 95, 93, 87, 89, 59, 85, 87, 89, 93, 89, 35, 77, 61, 81, 95, 89, 57, 57, 69, 57, 67, 75, 83, 33, 81, 71, 89, 85, 75, 71, 55, 71, 33, 83, 91, 75, 73, 89, 73, 73, 33, 95, 81, 83, 93, 83, 17, 95, 69, 93, 61, 87, 27, 91, 57, 53, 57, 67, 39, 95, 89, 93, 97, 59, 91, 85, 71, 43, 39, 83, 41, 59, 81, 93, 45, 91, 67, 95, 75, 95, 75, 95, 69, 45, 89, 75, 81, 93, 93, 67, 59, 95, 67, 67, 85, 89, 47, 89, 85, 77, 95, 91, 29, 75, 67, 53, 83, 35, 83, 91, 59, 75, 81, 93, 63, 65, 83, 61, 87, 67, 65, 85, 43, 67, 83, 71, 73, 75, 17, 51, 71, 43, 41, 85, 61, 29, 67, 91, 77, 65, 29, 69, 91, 57, 65, 81, 63, 65, 75, 73, 85, 83, 81, 91, 61, 19, 89, 81, 59, 63, 95, 17, 41, 95, 37, 57, 61, 75, 95, 63, 93, 51, 53, 53, 43, 53, 91, 33, 63, 83, 27, 85, 39, 83, 77, 89, 41, 75, 83, 69, 55, 91, 29, 61, 83, 73, 95, 59, 71, 67, 89, 35, 71, 11, 65, 59, 71, 57, 83, 59, 25, 91, 43, 83, 63, 69, 51, 39, 89, 63, 25, 75, 75, 51, 75, 39, 71, 67, 33, 57, 83, 87, 57, 39, 13, 71, 31, 15, 85, 95, 73, 75, 65, 47, 73, 59, 79, 49, 91, 61, 91, 67, 33, 83, 45, 25, 39, 65, 27, 61, 77, 35, 85, 97, 63, 71, 73, 57, 25, 39, 29, 29, 43, 27, 67, 37, 29, 97, 45, 71, 83, 87, 85, 33, 17, 67, 13, 83, 31, 13, 15, 33, 69, 71, 71, 63, 75, 47, 55, 81, 91, 77, 93, 71, 69, 23, 65, 57, 47, 43, 55, 55, 89, 55, 89, 63, 9, 83, 37, 43, 67, 43, 55, 33, 57, 57, 29, 43, 55, 47, 63, 63, 71, 43, 67, 13, 21, 47, 29, 75, 45, 75, 49, 79, 43, 57, 89, 59, 41, 87, 15, 49, 83, 57, 57, 29, 5, 71, 55, 33, 43, 39, 57, 17, 59, 9, 67, 27, 27, 41, 43, 67, 47, 21, 95, 75, 9, 21, 23, 19, 15, 9, 37, 41, 17, 33, 41, 91, 5, 63, 47, 63, 29, 67, 19, 27, 57, 45, 83, 29, 57, 47, 43, 41, 17, 67, 5, 55, 53, 39, 29, 83, 17, 11, 71, 71, 19, 11, 75, 71, 33, 59, 11, 25, 17, 53, 71, 13, 29, 25, 13, 13, 25, 45, 21, 51, 7, 25, 43, 17, 19, 43, 9, 11, 17, 29, 41, 33, 23, 27, 11, 71, 75, 3, 29, 29, 15, 43, 13, 67, 15, 43, 33, 67, 43, 29, 19, 13, 75, 23, 17, 5, 11, 33, 43, 27, 23, 11, 83, 63, 17, 13, 29, 75, 13, 29, 11, 17], \"y0\": \" \", \"yaxis\": \"y5\"}, {\"alignmentgroup\": \"True\", \"box\": {\"visible\": false}, \"hoverlabel\": {\"namelength\": 0}, \"hovertemplate\": \"StreamingOn=%{x}<br>Rotten Tomatoes=%{y}\", \"legendgroup\": \"StreamingOn=Prime Video\", \"marker\": {\"color\": \"#EF553B\"}, \"name\": \"StreamingOn=Prime Video\", \"offsetgroup\": \"StreamingOn=Prime Video\", \"orientation\": \"v\", \"scalegroup\": \"True\", \"showlegend\": true, \"type\": \"violin\", \"x\": [\"Prime Video\", \"Prime Video\", \"Prime Video\", \"Prime Video\", \"Prime Video\", \"Prime Video\", \"Prime Video\", \"Prime Video\", \"Prime Video\", \"Prime Video\", \"Prime Video\", \"Prime Video\", \"Prime Video\", \"Prime Video\", \"Prime Video\", \"Prime Video\", \"Prime Video\", \"Prime Video\", \"Prime Video\", \"Prime Video\", \"Prime Video\", \"Prime Video\", \"Prime Video\", \"Prime Video\", \"Prime Video\", \"Prime Video\", \"Prime Video\", \"Prime Video\", \"Prime Video\", \"Prime Video\", \"Prime Video\", \"Prime Video\", \"Prime Video\", \"Prime Video\", \"Prime Video\", \"Prime Video\", \"Prime Video\", \"Prime Video\", \"Prime Video\", \"Prime Video\", \"Prime Video\", \"Prime Video\", \"Prime Video\", \"Prime Video\", \"Prime Video\", \"Prime Video\", \"Prime Video\", \"Prime Video\", \"Prime Video\", \"Prime Video\", \"Prime Video\", \"Prime Video\", \"Prime Video\", \"Prime Video\", \"Prime Video\", \"Prime Video\", \"Prime Video\", \"Prime Video\", \"Prime Video\", \"Prime Video\", \"Prime Video\", \"Prime Video\", \"Prime Video\", \"Prime Video\", \"Prime Video\", \"Prime Video\", \"Prime Video\", \"Prime Video\", \"Prime Video\", \"Prime Video\", \"Prime Video\", \"Prime Video\", \"Prime Video\", \"Prime Video\", \"Prime Video\", \"Prime Video\", \"Prime Video\", \"Prime Video\", \"Prime Video\", \"Prime Video\", \"Prime Video\", \"Prime Video\", \"Prime Video\", \"Prime Video\", \"Prime Video\", \"Prime Video\", \"Prime Video\", \"Prime Video\", \"Prime Video\", \"Prime Video\", \"Prime Video\", \"Prime Video\", \"Prime Video\", \"Prime Video\", \"Prime Video\", \"Prime Video\", \"Prime Video\", \"Prime Video\", \"Prime Video\", \"Prime Video\", \"Prime Video\", \"Prime Video\", \"Prime Video\", \"Prime Video\", \"Prime Video\", \"Prime Video\", \"Prime Video\", \"Prime Video\", \"Prime Video\", \"Prime Video\", \"Prime Video\", \"Prime Video\", \"Prime Video\", \"Prime Video\", \"Prime Video\", \"Prime Video\", \"Prime Video\", \"Prime Video\", \"Prime Video\", \"Prime Video\", \"Prime Video\", \"Prime Video\", \"Prime Video\", \"Prime Video\", \"Prime Video\", \"Prime Video\", \"Prime Video\", \"Prime Video\", \"Prime Video\", \"Prime Video\", \"Prime Video\", \"Prime Video\", \"Prime Video\", \"Prime Video\", \"Prime Video\", \"Prime Video\", \"Prime Video\", \"Prime Video\", \"Prime Video\", \"Prime Video\", \"Prime Video\", \"Prime Video\", \"Prime Video\", \"Prime Video\", \"Prime Video\", \"Prime Video\", \"Prime Video\", \"Prime Video\", \"Prime Video\", \"Prime Video\", \"Prime Video\", \"Prime Video\", \"Prime Video\", \"Prime Video\", \"Prime Video\", \"Prime Video\", \"Prime Video\", \"Prime Video\", \"Prime Video\", \"Prime Video\", \"Prime Video\", \"Prime Video\", \"Prime Video\", \"Prime Video\", \"Prime Video\", \"Prime Video\", \"Prime Video\", \"Prime Video\", \"Prime Video\", \"Prime Video\", \"Prime Video\", \"Prime Video\", \"Prime Video\", \"Prime Video\", \"Prime Video\", \"Prime Video\", \"Prime Video\", \"Prime Video\", \"Prime Video\", \"Prime Video\", \"Prime Video\", \"Prime Video\", \"Prime Video\", \"Prime Video\", \"Prime Video\", \"Prime Video\", \"Prime Video\", \"Prime Video\", \"Prime Video\", \"Prime Video\", \"Prime Video\", \"Prime Video\", \"Prime Video\", \"Prime Video\", \"Prime Video\", \"Prime Video\", \"Prime Video\", \"Prime Video\", \"Prime Video\", \"Prime Video\", \"Prime Video\", \"Prime Video\", \"Prime Video\", \"Prime Video\", \"Prime Video\", \"Prime Video\", \"Prime Video\", \"Prime Video\", \"Prime Video\", \"Prime Video\", \"Prime Video\", \"Prime Video\", \"Prime Video\", \"Prime Video\", \"Prime Video\", \"Prime Video\", \"Prime Video\", \"Prime Video\", \"Prime Video\", \"Prime Video\", \"Prime Video\", \"Prime Video\", \"Prime Video\", \"Prime Video\", \"Prime Video\", \"Prime Video\", \"Prime Video\", \"Prime Video\", \"Prime Video\", \"Prime Video\", \"Prime Video\", \"Prime Video\", \"Prime Video\", \"Prime Video\", \"Prime Video\", \"Prime Video\", \"Prime Video\", \"Prime Video\", \"Prime Video\", \"Prime Video\", \"Prime Video\", \"Prime Video\", \"Prime Video\", \"Prime Video\", \"Prime Video\", \"Prime Video\", \"Prime Video\", \"Prime Video\", \"Prime Video\", \"Prime Video\", \"Prime Video\", \"Prime Video\", \"Prime Video\", \"Prime Video\", \"Prime Video\", \"Prime Video\", \"Prime Video\", \"Prime Video\", \"Prime Video\", \"Prime Video\", \"Prime Video\", \"Prime Video\", \"Prime Video\", \"Prime Video\", \"Prime Video\", \"Prime Video\", \"Prime Video\", \"Prime Video\", \"Prime Video\", \"Prime Video\", \"Prime Video\", \"Prime Video\", \"Prime Video\", \"Prime Video\", \"Prime Video\", \"Prime Video\", \"Prime Video\", \"Prime Video\", \"Prime Video\", \"Prime Video\", \"Prime Video\", \"Prime Video\", \"Prime Video\", \"Prime Video\", \"Prime Video\", \"Prime Video\", \"Prime Video\", \"Prime Video\", \"Prime Video\", \"Prime Video\", \"Prime Video\", \"Prime Video\", \"Prime Video\", \"Prime Video\", \"Prime Video\", \"Prime Video\", \"Prime Video\", \"Prime Video\", \"Prime Video\", \"Prime Video\", \"Prime Video\", \"Prime Video\", \"Prime Video\", \"Prime Video\", \"Prime Video\", \"Prime Video\", \"Prime Video\", \"Prime Video\", \"Prime Video\", \"Prime Video\", \"Prime Video\", \"Prime Video\", \"Prime Video\", \"Prime Video\", \"Prime Video\", \"Prime Video\", \"Prime Video\", \"Prime Video\", \"Prime Video\", \"Prime Video\", \"Prime Video\", \"Prime Video\", \"Prime Video\", \"Prime Video\", \"Prime Video\", \"Prime Video\", \"Prime Video\", \"Prime Video\", \"Prime Video\", \"Prime Video\", \"Prime Video\", \"Prime Video\", \"Prime Video\", \"Prime Video\", \"Prime Video\", \"Prime Video\", \"Prime Video\", \"Prime Video\", \"Prime Video\", \"Prime Video\", \"Prime Video\", \"Prime Video\", \"Prime Video\", \"Prime Video\", \"Prime Video\", \"Prime Video\", \"Prime Video\", \"Prime Video\", \"Prime Video\", \"Prime Video\", \"Prime Video\", \"Prime Video\", \"Prime Video\", \"Prime Video\", \"Prime Video\", \"Prime Video\", \"Prime Video\", \"Prime Video\", \"Prime Video\", \"Prime Video\", \"Prime Video\", \"Prime Video\", \"Prime Video\", \"Prime Video\", \"Prime Video\", \"Prime Video\", \"Prime Video\", \"Prime Video\", \"Prime Video\", \"Prime Video\", \"Prime Video\", \"Prime Video\", \"Prime Video\", \"Prime Video\", \"Prime Video\", \"Prime Video\", \"Prime Video\", \"Prime Video\", \"Prime Video\", \"Prime Video\", \"Prime Video\", \"Prime Video\", \"Prime Video\", \"Prime Video\", \"Prime Video\", \"Prime Video\", \"Prime Video\", \"Prime Video\", \"Prime Video\", \"Prime Video\", \"Prime Video\", \"Prime Video\", \"Prime Video\", \"Prime Video\", \"Prime Video\", \"Prime Video\", \"Prime Video\", \"Prime Video\", \"Prime Video\", \"Prime Video\", \"Prime Video\", \"Prime Video\", \"Prime Video\", \"Prime Video\", \"Prime Video\", \"Prime Video\", \"Prime Video\", \"Prime Video\", \"Prime Video\", \"Prime Video\", \"Prime Video\", \"Prime Video\", \"Prime Video\", \"Prime Video\", \"Prime Video\", \"Prime Video\", \"Prime Video\", \"Prime Video\", \"Prime Video\", \"Prime Video\", \"Prime Video\", \"Prime Video\", \"Prime Video\", \"Prime Video\", \"Prime Video\", \"Prime Video\", \"Prime Video\", \"Prime Video\", \"Prime Video\", \"Prime Video\", \"Prime Video\", \"Prime Video\", \"Prime Video\", \"Prime Video\", \"Prime Video\", \"Prime Video\", \"Prime Video\", \"Prime Video\", \"Prime Video\", \"Prime Video\", \"Prime Video\", \"Prime Video\", \"Prime Video\", \"Prime Video\", \"Prime Video\", \"Prime Video\", \"Prime Video\", \"Prime Video\", \"Prime Video\", \"Prime Video\", \"Prime Video\", \"Prime Video\", \"Prime Video\", \"Prime Video\", \"Prime Video\", \"Prime Video\", \"Prime Video\", \"Prime Video\", \"Prime Video\", \"Prime Video\", \"Prime Video\", \"Prime Video\", \"Prime Video\", \"Prime Video\", \"Prime Video\", \"Prime Video\", \"Prime Video\", \"Prime Video\", \"Prime Video\", \"Prime Video\", \"Prime Video\", \"Prime Video\", \"Prime Video\", \"Prime Video\", \"Prime Video\", \"Prime Video\", \"Prime Video\", \"Prime Video\", \"Prime Video\", \"Prime Video\", \"Prime Video\", \"Prime Video\", \"Prime Video\", \"Prime Video\", \"Prime Video\", \"Prime Video\", \"Prime Video\", \"Prime Video\", \"Prime Video\", \"Prime Video\", \"Prime Video\", \"Prime Video\", \"Prime Video\", \"Prime Video\", \"Prime Video\", \"Prime Video\", \"Prime Video\", \"Prime Video\", \"Prime Video\", \"Prime Video\", \"Prime Video\", \"Prime Video\", \"Prime Video\", \"Prime Video\", \"Prime Video\", \"Prime Video\", \"Prime Video\", \"Prime Video\", \"Prime Video\", \"Prime Video\", \"Prime Video\", \"Prime Video\", \"Prime Video\", \"Prime Video\", \"Prime Video\", \"Prime Video\", \"Prime Video\", \"Prime Video\", \"Prime Video\", \"Prime Video\", \"Prime Video\", \"Prime Video\", \"Prime Video\", \"Prime Video\", \"Prime Video\", \"Prime Video\", \"Prime Video\", \"Prime Video\", \"Prime Video\", \"Prime Video\", \"Prime Video\", \"Prime Video\", \"Prime Video\", \"Prime Video\", \"Prime Video\", \"Prime Video\", \"Prime Video\", \"Prime Video\", \"Prime Video\", \"Prime Video\", \"Prime Video\", \"Prime Video\", \"Prime Video\", \"Prime Video\", \"Prime Video\", \"Prime Video\", \"Prime Video\", \"Prime Video\", \"Prime Video\", \"Prime Video\", \"Prime Video\", \"Prime Video\", \"Prime Video\", \"Prime Video\", \"Prime Video\", \"Prime Video\", \"Prime Video\", \"Prime Video\", \"Prime Video\", \"Prime Video\", \"Prime Video\", \"Prime Video\", \"Prime Video\", \"Prime Video\", \"Prime Video\", \"Prime Video\", \"Prime Video\", \"Prime Video\", \"Prime Video\", \"Prime Video\", \"Prime Video\", \"Prime Video\", \"Prime Video\", \"Prime Video\", \"Prime Video\", \"Prime Video\", \"Prime Video\", \"Prime Video\", \"Prime Video\", \"Prime Video\", \"Prime Video\", \"Prime Video\", \"Prime Video\", \"Prime Video\", \"Prime Video\", \"Prime Video\", \"Prime Video\", \"Prime Video\", \"Prime Video\", \"Prime Video\", \"Prime Video\", \"Prime Video\", \"Prime Video\", \"Prime Video\", \"Prime Video\", \"Prime Video\", \"Prime Video\", \"Prime Video\", \"Prime Video\", \"Prime Video\", \"Prime Video\", \"Prime Video\", \"Prime Video\", \"Prime Video\", \"Prime Video\", \"Prime Video\", \"Prime Video\", \"Prime Video\", \"Prime Video\", \"Prime Video\", \"Prime Video\", \"Prime Video\", \"Prime Video\", \"Prime Video\", \"Prime Video\", \"Prime Video\", \"Prime Video\", \"Prime Video\", \"Prime Video\", \"Prime Video\", \"Prime Video\", \"Prime Video\", \"Prime Video\", \"Prime Video\", \"Prime Video\", \"Prime Video\", \"Prime Video\", \"Prime Video\", \"Prime Video\", \"Prime Video\", \"Prime Video\", \"Prime Video\", \"Prime Video\", \"Prime Video\", \"Prime Video\", \"Prime Video\", \"Prime Video\", \"Prime Video\", \"Prime Video\", \"Prime Video\", \"Prime Video\", \"Prime Video\", \"Prime Video\", \"Prime Video\", \"Prime Video\", \"Prime Video\", \"Prime Video\", \"Prime Video\", \"Prime Video\", \"Prime Video\", \"Prime Video\", \"Prime Video\", \"Prime Video\", \"Prime Video\", \"Prime Video\", \"Prime Video\", \"Prime Video\", \"Prime Video\", \"Prime Video\", \"Prime Video\", \"Prime Video\", \"Prime Video\", \"Prime Video\", \"Prime Video\", \"Prime Video\", \"Prime Video\", \"Prime Video\", \"Prime Video\", \"Prime Video\", \"Prime Video\", \"Prime Video\", \"Prime Video\", \"Prime Video\", \"Prime Video\", \"Prime Video\", \"Prime Video\", \"Prime Video\", \"Prime Video\", \"Prime Video\", \"Prime Video\", \"Prime Video\", \"Prime Video\", \"Prime Video\", \"Prime Video\", \"Prime Video\", \"Prime Video\", \"Prime Video\", \"Prime Video\", \"Prime Video\", \"Prime Video\", \"Prime Video\", \"Prime Video\", \"Prime Video\", \"Prime Video\", \"Prime Video\", \"Prime Video\", \"Prime Video\", \"Prime Video\", \"Prime Video\", \"Prime Video\", \"Prime Video\", \"Prime Video\", \"Prime Video\", \"Prime Video\", \"Prime Video\", \"Prime Video\", \"Prime Video\", \"Prime Video\", \"Prime Video\", \"Prime Video\", \"Prime Video\", \"Prime Video\", \"Prime Video\", \"Prime Video\", \"Prime Video\", \"Prime Video\", \"Prime Video\", \"Prime Video\", \"Prime Video\", \"Prime Video\", \"Prime Video\", \"Prime Video\", \"Prime Video\", \"Prime Video\", \"Prime Video\", \"Prime Video\", \"Prime Video\", \"Prime Video\", \"Prime Video\", \"Prime Video\", \"Prime Video\", \"Prime Video\", \"Prime Video\", \"Prime Video\", \"Prime Video\", \"Prime Video\", \"Prime Video\", \"Prime Video\", \"Prime Video\", \"Prime Video\", \"Prime Video\", \"Prime Video\", \"Prime Video\", \"Prime Video\", \"Prime Video\", \"Prime Video\", \"Prime Video\", \"Prime Video\", \"Prime Video\", \"Prime Video\", \"Prime Video\", \"Prime Video\", \"Prime Video\", \"Prime Video\", \"Prime Video\", \"Prime Video\", \"Prime Video\", \"Prime Video\", \"Prime Video\", \"Prime Video\", \"Prime Video\", \"Prime Video\", \"Prime Video\", \"Prime Video\", \"Prime Video\", \"Prime Video\", \"Prime Video\", \"Prime Video\", \"Prime Video\", \"Prime Video\", \"Prime Video\", \"Prime Video\", \"Prime Video\", \"Prime Video\", \"Prime Video\", \"Prime Video\", \"Prime Video\", \"Prime Video\", \"Prime Video\", \"Prime Video\", \"Prime Video\", \"Prime Video\", \"Prime Video\", \"Prime Video\", \"Prime Video\", \"Prime Video\", \"Prime Video\", \"Prime Video\", \"Prime Video\", \"Prime Video\", \"Prime Video\", \"Prime Video\", \"Prime Video\", \"Prime Video\", \"Prime Video\", \"Prime Video\", \"Prime Video\", \"Prime Video\", \"Prime Video\", \"Prime Video\", \"Prime Video\", \"Prime Video\", \"Prime Video\", \"Prime Video\", \"Prime Video\", \"Prime Video\", \"Prime Video\", \"Prime Video\", \"Prime Video\", \"Prime Video\", \"Prime Video\", \"Prime Video\", \"Prime Video\", \"Prime Video\", \"Prime Video\", \"Prime Video\", \"Prime Video\", \"Prime Video\", \"Prime Video\", \"Prime Video\", \"Prime Video\", \"Prime Video\", \"Prime Video\", \"Prime Video\", \"Prime Video\", \"Prime Video\", \"Prime Video\", \"Prime Video\", \"Prime Video\", \"Prime Video\", \"Prime Video\", \"Prime Video\", \"Prime Video\", \"Prime Video\", \"Prime Video\", \"Prime Video\", \"Prime Video\", \"Prime Video\", \"Prime Video\", \"Prime Video\", \"Prime Video\", \"Prime Video\", \"Prime Video\", \"Prime Video\", \"Prime Video\", \"Prime Video\", \"Prime Video\", \"Prime Video\", \"Prime Video\", \"Prime Video\", \"Prime Video\", \"Prime Video\", \"Prime Video\", \"Prime Video\", \"Prime Video\", \"Prime Video\", \"Prime Video\", \"Prime Video\", \"Prime Video\", \"Prime Video\", \"Prime Video\", \"Prime Video\", \"Prime Video\", \"Prime Video\", \"Prime Video\", \"Prime Video\", \"Prime Video\", \"Prime Video\", \"Prime Video\", \"Prime Video\", \"Prime Video\", \"Prime Video\", \"Prime Video\", \"Prime Video\", \"Prime Video\", \"Prime Video\", \"Prime Video\", \"Prime Video\", \"Prime Video\", \"Prime Video\", \"Prime Video\", \"Prime Video\", \"Prime Video\", \"Prime Video\", \"Prime Video\", \"Prime Video\", \"Prime Video\", \"Prime Video\", \"Prime Video\", \"Prime Video\", \"Prime Video\", \"Prime Video\", \"Prime Video\", \"Prime Video\", \"Prime Video\", \"Prime Video\", \"Prime Video\", \"Prime Video\", \"Prime Video\", \"Prime Video\", \"Prime Video\", \"Prime Video\", \"Prime Video\", \"Prime Video\", \"Prime Video\", \"Prime Video\", \"Prime Video\", \"Prime Video\", \"Prime Video\", \"Prime Video\", \"Prime Video\", \"Prime Video\", \"Prime Video\", \"Prime Video\", \"Prime Video\", \"Prime Video\", \"Prime Video\", \"Prime Video\", \"Prime Video\", \"Prime Video\", \"Prime Video\", \"Prime Video\", \"Prime Video\", \"Prime Video\", \"Prime Video\", \"Prime Video\", \"Prime Video\", \"Prime Video\", \"Prime Video\", \"Prime Video\", \"Prime Video\", \"Prime Video\", \"Prime Video\", \"Prime Video\", \"Prime Video\", \"Prime Video\", \"Prime Video\", \"Prime Video\", \"Prime Video\", \"Prime Video\", \"Prime Video\", \"Prime Video\", \"Prime Video\", \"Prime Video\", \"Prime Video\", \"Prime Video\", \"Prime Video\", \"Prime Video\", \"Prime Video\", \"Prime Video\", \"Prime Video\", \"Prime Video\", \"Prime Video\", \"Prime Video\", \"Prime Video\", \"Prime Video\", \"Prime Video\", \"Prime Video\", \"Prime Video\", \"Prime Video\", \"Prime Video\", \"Prime Video\", \"Prime Video\", \"Prime Video\", \"Prime Video\", \"Prime Video\", \"Prime Video\", \"Prime Video\", \"Prime Video\", \"Prime Video\", \"Prime Video\", \"Prime Video\", \"Prime Video\", \"Prime Video\", \"Prime Video\", \"Prime Video\", \"Prime Video\", \"Prime Video\", \"Prime Video\", \"Prime Video\", \"Prime Video\", \"Prime Video\", \"Prime Video\", \"Prime Video\", \"Prime Video\", \"Prime Video\", \"Prime Video\", \"Prime Video\", \"Prime Video\", \"Prime Video\", \"Prime Video\", \"Prime Video\", \"Prime Video\", \"Prime Video\", \"Prime Video\", \"Prime Video\", \"Prime Video\", \"Prime Video\", \"Prime Video\", \"Prime Video\", \"Prime Video\", \"Prime Video\", \"Prime Video\", \"Prime Video\", \"Prime Video\", \"Prime Video\", \"Prime Video\", \"Prime Video\", \"Prime Video\", \"Prime Video\", \"Prime Video\", \"Prime Video\", \"Prime Video\", \"Prime Video\", \"Prime Video\", \"Prime Video\", \"Prime Video\", \"Prime Video\", \"Prime Video\", \"Prime Video\", \"Prime Video\", \"Prime Video\", \"Prime Video\", \"Prime Video\", \"Prime Video\", \"Prime Video\", \"Prime Video\", \"Prime Video\", \"Prime Video\", \"Prime Video\", \"Prime Video\", \"Prime Video\", \"Prime Video\", \"Prime Video\", \"Prime Video\", \"Prime Video\", \"Prime Video\", \"Prime Video\", \"Prime Video\", \"Prime Video\", \"Prime Video\", \"Prime Video\", \"Prime Video\", \"Prime Video\", \"Prime Video\", \"Prime Video\", \"Prime Video\", \"Prime Video\", \"Prime Video\", \"Prime Video\", \"Prime Video\", \"Prime Video\", \"Prime Video\", \"Prime Video\", \"Prime Video\", \"Prime Video\", \"Prime Video\", \"Prime Video\", \"Prime Video\", \"Prime Video\", \"Prime Video\", \"Prime Video\", \"Prime Video\", \"Prime Video\", \"Prime Video\", \"Prime Video\", \"Prime Video\", \"Prime Video\", \"Prime Video\", \"Prime Video\", \"Prime Video\", \"Prime Video\", \"Prime Video\", \"Prime Video\", \"Prime Video\", \"Prime Video\", \"Prime Video\", \"Prime Video\", \"Prime Video\", \"Prime Video\", \"Prime Video\", \"Prime Video\", \"Prime Video\", \"Prime Video\", \"Prime Video\", \"Prime Video\", \"Prime Video\", \"Prime Video\", \"Prime Video\", \"Prime Video\", \"Prime Video\", \"Prime Video\", \"Prime Video\", \"Prime Video\", \"Prime Video\", \"Prime Video\", \"Prime Video\", \"Prime Video\", \"Prime Video\", \"Prime Video\", \"Prime Video\", \"Prime Video\", \"Prime Video\", \"Prime Video\", \"Prime Video\", \"Prime Video\", \"Prime Video\", \"Prime Video\", \"Prime Video\", \"Prime Video\", \"Prime Video\", \"Prime Video\", \"Prime Video\", \"Prime Video\", \"Prime Video\", \"Prime Video\", \"Prime Video\", \"Prime Video\", \"Prime Video\", \"Prime Video\", \"Prime Video\", \"Prime Video\", \"Prime Video\", \"Prime Video\", \"Prime Video\", \"Prime Video\", \"Prime Video\", \"Prime Video\", \"Prime Video\", \"Prime Video\", \"Prime Video\", \"Prime Video\", \"Prime Video\", \"Prime Video\", \"Prime Video\", \"Prime Video\", \"Prime Video\", \"Prime Video\", \"Prime Video\", \"Prime Video\", \"Prime Video\", \"Prime Video\", \"Prime Video\", \"Prime Video\", \"Prime Video\", \"Prime Video\", \"Prime Video\", \"Prime Video\", \"Prime Video\", \"Prime Video\", \"Prime Video\", \"Prime Video\", \"Prime Video\", \"Prime Video\", \"Prime Video\", \"Prime Video\", \"Prime Video\", \"Prime Video\", \"Prime Video\", \"Prime Video\", \"Prime Video\", \"Prime Video\", \"Prime Video\", \"Prime Video\", \"Prime Video\", \"Prime Video\", \"Prime Video\", \"Prime Video\", \"Prime Video\", \"Prime Video\", \"Prime Video\", \"Prime Video\", \"Prime Video\", \"Prime Video\", \"Prime Video\", \"Prime Video\", \"Prime Video\", \"Prime Video\", \"Prime Video\", \"Prime Video\", \"Prime Video\", \"Prime Video\", \"Prime Video\", \"Prime Video\", \"Prime Video\", \"Prime Video\", \"Prime Video\", \"Prime Video\", \"Prime Video\", \"Prime Video\", \"Prime Video\", \"Prime Video\", \"Prime Video\", \"Prime Video\", \"Prime Video\", \"Prime Video\", \"Prime Video\", \"Prime Video\", \"Prime Video\", \"Prime Video\", \"Prime Video\", \"Prime Video\", \"Prime Video\", \"Prime Video\", \"Prime Video\", \"Prime Video\", \"Prime Video\", \"Prime Video\", \"Prime Video\", \"Prime Video\", \"Prime Video\", \"Prime Video\", \"Prime Video\", \"Prime Video\", \"Prime Video\", \"Prime Video\", \"Prime Video\", \"Prime Video\", \"Prime Video\", \"Prime Video\", \"Prime Video\", \"Prime Video\", \"Prime Video\", \"Prime Video\", \"Prime Video\", \"Prime Video\", \"Prime Video\", \"Prime Video\", \"Prime Video\", \"Prime Video\", \"Prime Video\", \"Prime Video\", \"Prime Video\", \"Prime Video\", \"Prime Video\", \"Prime Video\", \"Prime Video\", \"Prime Video\", \"Prime Video\", \"Prime Video\", \"Prime Video\", \"Prime Video\", \"Prime Video\", \"Prime Video\", \"Prime Video\", \"Prime Video\", \"Prime Video\", \"Prime Video\", \"Prime Video\", \"Prime Video\", \"Prime Video\", \"Prime Video\", \"Prime Video\", \"Prime Video\", \"Prime Video\", \"Prime Video\", \"Prime Video\", \"Prime Video\", \"Prime Video\", \"Prime Video\", \"Prime Video\", \"Prime Video\", \"Prime Video\", \"Prime Video\", \"Prime Video\", \"Prime Video\", \"Prime Video\", \"Prime Video\", \"Prime Video\", \"Prime Video\", \"Prime Video\", \"Prime Video\", \"Prime Video\", \"Prime Video\", \"Prime Video\", \"Prime Video\", \"Prime Video\", \"Prime Video\", \"Prime Video\", \"Prime Video\", \"Prime Video\", \"Prime Video\", \"Prime Video\", \"Prime Video\", \"Prime Video\", \"Prime Video\", \"Prime Video\", \"Prime Video\", \"Prime Video\", \"Prime Video\", \"Prime Video\", \"Prime Video\", \"Prime Video\", \"Prime Video\", \"Prime Video\", \"Prime Video\", \"Prime Video\", \"Prime Video\", \"Prime Video\", \"Prime Video\", \"Prime Video\", \"Prime Video\", \"Prime Video\", \"Prime Video\", \"Prime Video\", \"Prime Video\", \"Prime Video\", \"Prime Video\", \"Prime Video\", \"Prime Video\", \"Prime Video\", \"Prime Video\", \"Prime Video\", \"Prime Video\", \"Prime Video\", \"Prime Video\", \"Prime Video\", \"Prime Video\", \"Prime Video\", \"Prime Video\", \"Prime Video\", \"Prime Video\", \"Prime Video\", \"Prime Video\", \"Prime Video\", \"Prime Video\", \"Prime Video\", \"Prime Video\", \"Prime Video\", \"Prime Video\", \"Prime Video\", \"Prime Video\", \"Prime Video\", \"Prime Video\", \"Prime Video\", \"Prime Video\", \"Prime Video\", \"Prime Video\", \"Prime Video\", \"Prime Video\", \"Prime Video\", \"Prime Video\", \"Prime Video\", \"Prime Video\", \"Prime Video\", \"Prime Video\", \"Prime Video\", \"Prime Video\", \"Prime Video\", \"Prime Video\", \"Prime Video\", \"Prime Video\", \"Prime Video\", \"Prime Video\", \"Prime Video\", \"Prime Video\", \"Prime Video\", \"Prime Video\", \"Prime Video\", \"Prime Video\", \"Prime Video\", \"Prime Video\", \"Prime Video\", \"Prime Video\", \"Prime Video\", \"Prime Video\"], \"x0\": \" \", \"xaxis\": \"x6\", \"y\": [97, 95, 95, 95, 99, 87, 83, 77, 71, 71, 81, 73, 71, 85, 33, 71, 89, 85, 39, 67, 75, 43, 17, 29, 91, 83, 81, 83, 73, 11, 67, 45, 25, 65, 87, 13, 31, 15, 43, 9, 67, 41, 15, 57, 17, 27, 5, 83, 67, 39, 13, 5, 27, 83, 29, 17, 99, 95, 91, 87, 81, 97, 93, 85, 97, 93, 91, 81, 75, 85, 81, 97, 97, 89, 87, 51, 87, 61, 93, 83, 91, 89, 65, 87, 77, 35, 61, 49, 69, 49, 63, 79, 61, 77, 55, 75, 75, 89, 83, 43, 59, 67, 47, 71, 75, 47, 91, 57, 83, 93, 75, 91, 21, 35, 35, 41, 45, 25, 45, 37, 27, 17, 5, 7, 19, 13, 19, 5, 27, 75, 19, 25, 11, 97, 25, 47, 67, 13, 15, 33, 11, 25, 97, 95, 95, 99, 85, 77, 97, 77, 91, 73, 99, 93, 97, 99, 89, 97, 95, 93, 83, 91, 95, 89, 95, 83, 87, 99, 81, 93, 91, 83, 97, 75, 81, 69, 83, 99, 79, 97, 89, 97, 89, 93, 97, 95, 91, 89, 83, 93, 89, 81, 91, 77, 75, 91, 93, 69, 89, 93, 87, 91, 67, 77, 87, 77, 87, 69, 91, 85, 93, 95, 97, 89, 99, 81, 91, 83, 89, 73, 99, 95, 99, 97, 57, 69, 87, 93, 71, 93, 71, 99, 65, 73, 99, 75, 93, 91, 63, 85, 75, 63, 71, 85, 95, 91, 83, 87, 89, 57, 93, 83, 87, 81, 79, 87, 91, 59, 75, 99, 91, 73, 77, 67, 27, 87, 89, 95, 83, 67, 97, 97, 87, 87, 77, 93, 57, 87, 97, 77, 57, 77, 43, 81, 63, 77, 85, 95, 81, 83, 83, 95, 71, 77, 53, 71, 81, 91, 47, 71, 67, 67, 67, 83, 55, 93, 83, 73, 89, 57, 91, 85, 99, 89, 79, 85, 87, 41, 71, 67, 81, 83, 67, 83, 79, 69, 77, 85, 73, 91, 81, 95, 81, 81, 65, 85, 77, 33, 93, 81, 77, 87, 91, 79, 83, 73, 63, 87, 89, 73, 63, 65, 95, 85, 91, 85, 79, 97, 91, 71, 85, 87, 33, 57, 89, 97, 89, 57, 67, 97, 95, 73, 97, 91, 69, 57, 83, 37, 61, 85, 87, 93, 79, 67, 97, 89, 83, 85, 67, 91, 75, 89, 79, 75, 87, 73, 77, 97, 93, 89, 91, 85, 91, 67, 83, 55, 89, 81, 73, 89, 81, 53, 87, 71, 89, 65, 81, 41, 85, 73, 85, 75, 87, 83, 89, 43, 59, 71, 91, 77, 87, 91, 43, 45, 69, 85, 87, 87, 95, 67, 63, 43, 69, 55, 83, 91, 79, 87, 81, 83, 29, 71, 33, 85, 83, 85, 83, 73, 77, 41, 63, 93, 91, 83, 79, 83, 85, 91, 73, 67, 75, 83, 77, 67, 97, 53, 67, 95, 55, 93, 63, 73, 73, 83, 71, 91, 73, 75, 93, 71, 79, 93, 59, 93, 97, 85, 97, 77, 73, 95, 75, 83, 63, 31, 93, 89, 93, 79, 29, 87, 73, 89, 91, 81, 83, 81, 61, 95, 91, 89, 53, 67, 77, 91, 69, 61, 95, 67, 73, 25, 29, 83, 89, 69, 75, 55, 95, 55, 21, 81, 57, 83, 87, 89, 79, 83, 79, 97, 59, 93, 83, 87, 71, 85, 79, 75, 77, 75, 91, 75, 83, 57, 73, 87, 87, 53, 75, 17, 85, 77, 71, 87, 93, 81, 83, 83, 77, 83, 83, 53, 31, 43, 89, 89, 95, 75, 81, 19, 67, 81, 61, 53, 83, 75, 79, 69, 55, 83, 55, 77, 89, 91, 73, 33, 49, 91, 91, 67, 57, 89, 91, 97, 73, 83, 49, 91, 75, 45, 57, 65, 75, 91, 69, 97, 79, 87, 75, 57, 63, 67, 71, 67, 43, 63, 57, 41, 89, 85, 83, 83, 43, 37, 55, 91, 43, 37, 27, 83, 77, 67, 37, 83, 93, 69, 37, 59, 57, 91, 89, 67, 29, 43, 53, 81, 67, 75, 91, 41, 71, 73, 37, 89, 93, 73, 81, 75, 63, 71, 85, 69, 83, 83, 77, 35, 67, 75, 75, 63, 83, 79, 71, 85, 65, 67, 89, 87, 53, 75, 69, 43, 85, 43, 45, 67, 75, 29, 63, 57, 83, 75, 69, 65, 69, 61, 81, 89, 67, 81, 57, 25, 57, 69, 39, 57, 85, 33, 67, 67, 27, 83, 55, 43, 61, 47, 89, 59, 67, 57, 45, 69, 47, 67, 31, 67, 83, 21, 75, 69, 69, 79, 73, 63, 83, 93, 27, 77, 71, 45, 83, 85, 45, 83, 71, 83, 77, 47, 33, 49, 57, 45, 87, 89, 25, 33, 75, 81, 53, 85, 75, 73, 45, 63, 57, 63, 83, 91, 79, 57, 77, 25, 75, 85, 43, 41, 17, 71, 81, 71, 79, 65, 75, 91, 73, 55, 17, 69, 57, 73, 69, 85, 21, 67, 47, 33, 69, 45, 81, 21, 19, 69, 45, 83, 75, 45, 71, 85, 33, 73, 57, 75, 75, 67, 33, 85, 47, 77, 85, 45, 25, 67, 47, 21, 45, 79, 71, 67, 71, 37, 57, 33, 25, 73, 71, 57, 77, 81, 77, 47, 17, 89, 75, 77, 83, 83, 51, 81, 71, 75, 55, 75, 57, 65, 43, 57, 53, 37, 73, 63, 85, 67, 49, 83, 41, 29, 17, 33, 69, 81, 29, 71, 75, 41, 29, 95, 63, 67, 71, 73, 89, 43, 75, 77, 33, 63, 89, 73, 77, 65, 17, 41, 67, 25, 71, 67, 45, 67, 83, 67, 67, 77, 45, 73, 83, 51, 57, 17, 89, 17, 75, 15, 25, 77, 91, 17, 43, 79, 71, 61, 25, 61, 91, 7, 81, 57, 53, 29, 57, 67, 47, 49, 69, 83, 19, 35, 29, 19, 83, 35, 83, 27, 71, 57, 43, 89, 67, 45, 75, 63, 61, 63, 83, 45, 25, 71, 61, 33, 67, 57, 35, 13, 43, 47, 33, 83, 45, 51, 73, 75, 73, 67, 79, 75, 57, 27, 91, 33, 83, 57, 75, 75, 83, 19, 77, 31, 67, 63, 57, 27, 83, 73, 61, 47, 65, 59, 55, 63, 67, 11, 91, 17, 67, 75, 31, 21, 37, 63, 43, 27, 53, 67, 63, 15, 69, 43, 67, 77, 23, 9, 69, 83, 11, 65, 41, 11, 61, 67, 41, 5, 17, 33, 13, 29, 11, 63, 75, 53, 67, 33, 27, 71, 67, 63, 67, 59, 65, 63, 53, 27, 59, 43, 43, 23, 57, 57, 33, 29, 39, 57, 13, 63, 57, 23, 17, 41, 67, 57, 43, 27, 29, 83, 43, 29, 67, 33, 15, 67, 19, 11, 41, 89, 63, 67, 21, 29, 55, 75, 43, 73, 55, 33, 79, 85, 29, 21, 25, 33, 39, 33, 33, 63, 21, 57, 67, 27, 71, 57, 43, 71, 11, 67, 57, 57, 43, 39, 43, 19, 3, 25, 33, 45, 53, 43, 13, 9, 17, 17, 53, 89, 29, 75, 59, 67, 29, 31, 27, 57, 43, 3, 5, 29, 71, 27, 55, 35, 31, 13, 83, 9, 33, 57, 29, 79, 13, 29, 95, 33, 47, 67, 53, 83, 33, 67, 29, 23, 13, 33, 47, 29, 63, 45, 77, 33, 67, 17, 13, 85, 29, 45, 83, 27, 23, 55, 17, 27, 9, 29, 79, 27, 45, 11, 13, 25, 67, 45, 11, 67, 77, 13, 43, 43, 33, 79, 11, 11, 55, 43, 17, 9, 29, 29, 33, 19, 29, 33, 33, 67, 27, 17, 13, 57, 33, 9, 43, 33, 15, 31, 25, 57, 43, 33, 29, 33, 63, 47, 21, 7, 63, 57, 19, 25, 25, 81, 31, 43, 33, 33, 29, 25, 33, 33, 9, 21, 33, 17, 65, 17, 39, 57, 67, 17, 13, 25, 53, 21, 17, 7, 33, 57, 17, 27, 25, 29, 13, 33, 33, 43, 75, 57, 3, 7, 9, 13, 7, 13, 63, 25, 67, 63, 19, 17, 17, 33, 23, 67, 33, 57, 29, 67, 9, 45, 33, 29, 43, 33, 43, 15, 17, 13, 9, 23, 33, 5, 33, 29, 25, 19, 17, 17, 25, 33, 33, 17, 17, 71, 59, 29, 43, 11, 17, 29, 29, 17, 13, 57, 75, 19, 9, 25, 17, 7, 43, 11, 9, 23, 17, 13], \"y0\": \" \", \"yaxis\": \"y6\"}, {\"alignmentgroup\": \"True\", \"box\": {\"visible\": false}, \"hoverlabel\": {\"namelength\": 0}, \"hovertemplate\": \"StreamingOn=%{x}<br>Rotten Tomatoes=%{y}\", \"legendgroup\": \"StreamingOn=Disney+\", \"marker\": {\"color\": \"#00cc96\"}, \"name\": \"StreamingOn=Disney+\", \"offsetgroup\": \"StreamingOn=Disney+\", \"orientation\": \"v\", \"scalegroup\": \"True\", \"showlegend\": true, \"type\": \"violin\", \"x\": [\"Disney+\", \"Disney+\", \"Disney+\", \"Disney+\", \"Disney+\", \"Disney+\", \"Disney+\", \"Disney+\", \"Disney+\", \"Disney+\", \"Disney+\", \"Disney+\", \"Disney+\", \"Disney+\", \"Disney+\", \"Disney+\", \"Disney+\", \"Disney+\", \"Disney+\", \"Disney+\", \"Disney+\", \"Disney+\", \"Disney+\", \"Disney+\", \"Disney+\", \"Disney+\", \"Disney+\", \"Disney+\", \"Disney+\", \"Disney+\", \"Disney+\", \"Disney+\", \"Disney+\", \"Disney+\", \"Disney+\", \"Disney+\", \"Disney+\", \"Disney+\", \"Disney+\", \"Disney+\", \"Disney+\", \"Disney+\", \"Disney+\", \"Disney+\", \"Disney+\", \"Disney+\", \"Disney+\", \"Disney+\", \"Disney+\", \"Disney+\", \"Disney+\", \"Disney+\", \"Disney+\", \"Disney+\", \"Disney+\", \"Disney+\", \"Disney+\", \"Disney+\", \"Disney+\", \"Disney+\", \"Disney+\", \"Disney+\", \"Disney+\", \"Disney+\", \"Disney+\", \"Disney+\", \"Disney+\", \"Disney+\", \"Disney+\", \"Disney+\", \"Disney+\", \"Disney+\", \"Disney+\", \"Disney+\", \"Disney+\", \"Disney+\", \"Disney+\", \"Disney+\", \"Disney+\", \"Disney+\", \"Disney+\", \"Disney+\", \"Disney+\", \"Disney+\", \"Disney+\", \"Disney+\", \"Disney+\", \"Disney+\", \"Disney+\", \"Disney+\", \"Disney+\", \"Disney+\", \"Disney+\", \"Disney+\", \"Disney+\", \"Disney+\", \"Disney+\", \"Disney+\", \"Disney+\", \"Disney+\", \"Disney+\", \"Disney+\", \"Disney+\", \"Disney+\", \"Disney+\", \"Disney+\", \"Disney+\", \"Disney+\", \"Disney+\", \"Disney+\", \"Disney+\", \"Disney+\", \"Disney+\", \"Disney+\", \"Disney+\", \"Disney+\", \"Disney+\", \"Disney+\", \"Disney+\", \"Disney+\", \"Disney+\", \"Disney+\", \"Disney+\", \"Disney+\", \"Disney+\", \"Disney+\", \"Disney+\", \"Disney+\", \"Disney+\", \"Disney+\", \"Disney+\", \"Disney+\", \"Disney+\", \"Disney+\", \"Disney+\", \"Disney+\", \"Disney+\", \"Disney+\", \"Disney+\", \"Disney+\", \"Disney+\", \"Disney+\", \"Disney+\", \"Disney+\", \"Disney+\", \"Disney+\", \"Disney+\", \"Disney+\", \"Disney+\", \"Disney+\", \"Disney+\", \"Disney+\", \"Disney+\", \"Disney+\", \"Disney+\", \"Disney+\", \"Disney+\", \"Disney+\", \"Disney+\", \"Disney+\", \"Disney+\", \"Disney+\", \"Disney+\", \"Disney+\", \"Disney+\", \"Disney+\"], \"x0\": \" \", \"xaxis\": \"x7\", \"y\": [79, 95, 89, 85, 81, 37, 97, 91, 71, 45, 25, 77, 73, 57, 93, 93, 95, 91, 99, 97, 93, 91, 93, 97, 95, 97, 79, 89, 89, 85, 97, 95, 95, 97, 89, 87, 83, 75, 97, 79, 83, 77, 75, 77, 91, 87, 73, 85, 95, 93, 53, 81, 65, 53, 75, 69, 87, 91, 51, 67, 93, 87, 79, 83, 91, 67, 81, 73, 71, 75, 33, 75, 59, 63, 93, 65, 63, 73, 69, 65, 63, 49, 37, 39, 67, 47, 51, 93, 73, 39, 75, 89, 83, 45, 97, 53, 35, 55, 75, 71, 21, 57, 29, 63, 33, 55, 67, 67, 83, 63, 73, 75, 71, 57, 67, 83, 55, 41, 67, 35, 7, 53, 63, 45, 33, 33, 43, 33, 71, 45, 53, 33, 67, 41, 67, 37, 29, 13, 25, 47, 31, 17, 19, 19, 73, 25, 45, 29, 25, 19, 23, 9, 11, 17, 17, 31, 23, 43, 25, 17, 29, 5, 17, 13, 7, 55], \"y0\": \" \", \"yaxis\": \"y7\"}, {\"alignmentgroup\": \"True\", \"box\": {\"visible\": false}, \"hoverlabel\": {\"namelength\": 0}, \"hovertemplate\": \"StreamingOn=%{x}<br>Rotten Tomatoes=%{y}\", \"legendgroup\": \"StreamingOn=Hulu\", \"marker\": {\"color\": \"#ab63fa\"}, \"name\": \"StreamingOn=Hulu\", \"offsetgroup\": \"StreamingOn=Hulu\", \"orientation\": \"v\", \"scalegroup\": \"True\", \"showlegend\": true, \"type\": \"violin\", \"x\": [\"Hulu\", \"Hulu\", \"Hulu\", \"Hulu\", \"Hulu\", \"Hulu\", \"Hulu\", \"Hulu\", \"Hulu\", \"Hulu\", \"Hulu\", \"Hulu\", \"Hulu\", \"Hulu\", \"Hulu\", \"Hulu\", \"Hulu\", \"Hulu\", \"Hulu\", \"Hulu\", \"Hulu\", \"Hulu\", \"Hulu\", \"Hulu\", \"Hulu\", \"Hulu\", \"Hulu\", \"Hulu\", \"Hulu\", \"Hulu\", \"Hulu\", \"Hulu\", \"Hulu\", \"Hulu\", \"Hulu\", \"Hulu\", \"Hulu\", \"Hulu\", \"Hulu\", \"Hulu\", \"Hulu\", \"Hulu\", \"Hulu\", \"Hulu\", \"Hulu\", \"Hulu\", \"Hulu\", \"Hulu\", \"Hulu\", \"Hulu\", \"Hulu\", \"Hulu\", \"Hulu\", \"Hulu\", \"Hulu\", \"Hulu\", \"Hulu\", \"Hulu\", \"Hulu\", \"Hulu\", \"Hulu\", \"Hulu\", \"Hulu\", \"Hulu\", \"Hulu\", \"Hulu\", \"Hulu\", \"Hulu\", \"Hulu\", \"Hulu\", \"Hulu\", \"Hulu\", \"Hulu\", \"Hulu\", \"Hulu\", \"Hulu\", \"Hulu\", \"Hulu\", \"Hulu\", \"Hulu\", \"Hulu\", \"Hulu\", \"Hulu\", \"Hulu\", \"Hulu\", \"Hulu\", \"Hulu\", \"Hulu\", \"Hulu\", \"Hulu\", \"Hulu\", \"Hulu\", \"Hulu\", \"Hulu\", \"Hulu\", \"Hulu\", \"Hulu\", \"Hulu\", \"Hulu\", \"Hulu\", \"Hulu\", \"Hulu\", \"Hulu\", \"Hulu\", \"Hulu\", \"Hulu\", \"Hulu\", \"Hulu\", \"Hulu\", \"Hulu\", \"Hulu\", \"Hulu\", \"Hulu\", \"Hulu\", \"Hulu\", \"Hulu\", \"Hulu\", \"Hulu\", \"Hulu\", \"Hulu\", \"Hulu\", \"Hulu\", \"Hulu\", \"Hulu\", \"Hulu\", \"Hulu\", \"Hulu\", \"Hulu\", \"Hulu\", \"Hulu\", \"Hulu\", \"Hulu\", \"Hulu\", \"Hulu\", \"Hulu\", \"Hulu\", \"Hulu\", \"Hulu\", \"Hulu\", \"Hulu\", \"Hulu\", \"Hulu\", \"Hulu\", \"Hulu\", \"Hulu\", \"Hulu\", \"Hulu\", \"Hulu\", \"Hulu\", \"Hulu\", \"Hulu\", \"Hulu\", \"Hulu\", \"Hulu\", \"Hulu\", \"Hulu\", \"Hulu\", \"Hulu\", \"Hulu\", \"Hulu\", \"Hulu\", \"Hulu\", \"Hulu\", \"Hulu\", \"Hulu\", \"Hulu\", \"Hulu\", \"Hulu\", \"Hulu\", \"Hulu\", \"Hulu\", \"Hulu\", \"Hulu\", \"Hulu\", \"Hulu\", \"Hulu\", \"Hulu\", \"Hulu\", \"Hulu\", \"Hulu\", \"Hulu\", \"Hulu\", \"Hulu\", \"Hulu\", \"Hulu\", \"Hulu\", \"Hulu\", \"Hulu\", \"Hulu\", \"Hulu\", \"Hulu\", \"Hulu\", \"Hulu\", \"Hulu\", \"Hulu\", \"Hulu\", \"Hulu\", \"Hulu\", \"Hulu\", \"Hulu\", \"Hulu\", \"Hulu\", \"Hulu\", \"Hulu\", \"Hulu\", \"Hulu\", \"Hulu\", \"Hulu\", \"Hulu\", \"Hulu\", \"Hulu\", \"Hulu\", \"Hulu\", \"Hulu\", \"Hulu\", \"Hulu\", \"Hulu\", \"Hulu\", \"Hulu\", \"Hulu\", \"Hulu\", \"Hulu\", \"Hulu\", \"Hulu\", \"Hulu\", \"Hulu\", \"Hulu\", \"Hulu\", \"Hulu\", \"Hulu\", \"Hulu\", \"Hulu\", \"Hulu\", \"Hulu\", \"Hulu\", \"Hulu\", \"Hulu\", \"Hulu\", \"Hulu\", \"Hulu\", \"Hulu\", \"Hulu\", \"Hulu\", \"Hulu\", \"Hulu\", \"Hulu\", \"Hulu\", \"Hulu\", \"Hulu\", \"Hulu\", \"Hulu\", \"Hulu\", \"Hulu\", \"Hulu\", \"Hulu\", \"Hulu\", \"Hulu\", \"Hulu\", \"Hulu\", \"Hulu\", \"Hulu\", \"Hulu\", \"Hulu\", \"Hulu\", \"Hulu\", \"Hulu\", \"Hulu\", \"Hulu\", \"Hulu\", \"Hulu\", \"Hulu\", \"Hulu\", \"Hulu\", \"Hulu\", \"Hulu\", \"Hulu\", \"Hulu\", \"Hulu\", \"Hulu\", \"Hulu\", \"Hulu\", \"Hulu\", \"Hulu\", \"Hulu\", \"Hulu\", \"Hulu\", \"Hulu\", \"Hulu\", \"Hulu\", \"Hulu\", \"Hulu\", \"Hulu\", \"Hulu\", \"Hulu\", \"Hulu\", \"Hulu\", \"Hulu\", \"Hulu\", \"Hulu\", \"Hulu\", \"Hulu\", \"Hulu\", \"Hulu\", \"Hulu\", \"Hulu\", \"Hulu\", \"Hulu\", \"Hulu\", \"Hulu\", \"Hulu\", \"Hulu\", \"Hulu\", \"Hulu\", \"Hulu\", \"Hulu\", \"Hulu\", \"Hulu\", \"Hulu\", \"Hulu\", \"Hulu\"], \"x0\": \" \", \"xaxis\": \"x8\", \"y\": [99, 61, 43, 75, 75, 71, 5, 9, 99, 97, 85, 95, 93, 85, 97, 89, 89, 99, 91, 91, 87, 99, 97, 81, 97, 93, 85, 97, 93, 91, 81, 95, 93, 91, 75, 97, 85, 85, 81, 93, 93, 97, 87, 95, 97, 87, 93, 83, 91, 97, 97, 47, 95, 79, 95, 93, 87, 85, 47, 89, 87, 93, 51, 87, 87, 59, 87, 61, 97, 93, 75, 83, 89, 83, 79, 83, 81, 91, 75, 91, 93, 89, 89, 99, 89, 89, 65, 77, 95, 87, 81, 77, 77, 91, 71, 35, 61, 49, 63, 73, 93, 89, 99, 89, 85, 81, 67, 91, 69, 73, 83, 49, 89, 85, 87, 63, 99, 61, 79, 61, 81, 61, 91, 91, 77, 67, 83, 77, 79, 89, 55, 49, 75, 85, 75, 89, 89, 67, 95, 75, 83, 43, 83, 91, 95, 89, 47, 93, 59, 73, 67, 83, 37, 79, 47, 45, 69, 83, 71, 89, 77, 97, 63, 71, 23, 85, 17, 75, 37, 91, 75, 51, 97, 47, 91, 37, 29, 87, 57, 79, 39, 83, 81, 85, 95, 93, 75, 91, 61, 21, 31, 35, 35, 65, 87, 77, 81, 75, 91, 65, 87, 85, 63, 41, 67, 45, 81, 9, 25, 79, 63, 83, 63, 67, 67, 65, 81, 81, 67, 91, 25, 73, 45, 37, 19, 55, 27, 65, 69, 27, 41, 77, 17, 57, 93, 25, 83, 83, 67, 85, 79, 21, 45, 5, 7, 67, 19, 75, 89, 67, 13, 19, 47, 5, 85, 31, 25, 47, 33, 27, 37, 75, 41, 19, 73, 57, 25, 11, 67, 21, 75, 21, 29, 83, 97, 55, 75, 43, 25, 17, 79, 55, 47, 59, 73, 53, 19, 45, 33, 71, 67, 13, 17, 51, 39, 33, 57, 51, 15, 45, 29, 65, 39, 11, 25, 15, 13, 33, 43, 11, 33, 25, 33, 27, 11, 11, 27, 25, 15, 69], \"y0\": \" \", \"yaxis\": \"y8\"}],\n",
              "                        {\"autosize\": false, \"height\": 800, \"template\": {\"data\": {\"bar\": [{\"error_x\": {\"color\": \"#2a3f5f\"}, \"error_y\": {\"color\": \"#2a3f5f\"}, \"marker\": {\"line\": {\"color\": \"#E5ECF6\", \"width\": 0.5}}, \"type\": \"bar\"}], \"barpolar\": [{\"marker\": {\"line\": {\"color\": \"#E5ECF6\", \"width\": 0.5}}, \"type\": \"barpolar\"}], \"carpet\": [{\"aaxis\": {\"endlinecolor\": \"#2a3f5f\", \"gridcolor\": \"white\", \"linecolor\": \"white\", \"minorgridcolor\": \"white\", \"startlinecolor\": \"#2a3f5f\"}, \"baxis\": {\"endlinecolor\": \"#2a3f5f\", \"gridcolor\": \"white\", \"linecolor\": \"white\", \"minorgridcolor\": \"white\", \"startlinecolor\": \"#2a3f5f\"}, \"type\": \"carpet\"}], \"choropleth\": [{\"colorbar\": {\"outlinewidth\": 0, \"ticks\": \"\"}, \"type\": \"choropleth\"}], \"contour\": [{\"colorbar\": {\"outlinewidth\": 0, \"ticks\": \"\"}, \"colorscale\": [[0.0, \"#0d0887\"], [0.1111111111111111, \"#46039f\"], [0.2222222222222222, \"#7201a8\"], [0.3333333333333333, \"#9c179e\"], [0.4444444444444444, \"#bd3786\"], [0.5555555555555556, \"#d8576b\"], [0.6666666666666666, \"#ed7953\"], [0.7777777777777778, \"#fb9f3a\"], [0.8888888888888888, \"#fdca26\"], [1.0, \"#f0f921\"]], \"type\": \"contour\"}], \"contourcarpet\": [{\"colorbar\": {\"outlinewidth\": 0, \"ticks\": \"\"}, \"type\": \"contourcarpet\"}], \"heatmap\": [{\"colorbar\": {\"outlinewidth\": 0, \"ticks\": \"\"}, \"colorscale\": [[0.0, \"#0d0887\"], [0.1111111111111111, \"#46039f\"], [0.2222222222222222, \"#7201a8\"], [0.3333333333333333, \"#9c179e\"], [0.4444444444444444, \"#bd3786\"], [0.5555555555555556, \"#d8576b\"], [0.6666666666666666, \"#ed7953\"], [0.7777777777777778, \"#fb9f3a\"], [0.8888888888888888, \"#fdca26\"], [1.0, \"#f0f921\"]], \"type\": \"heatmap\"}], \"heatmapgl\": [{\"colorbar\": {\"outlinewidth\": 0, \"ticks\": \"\"}, \"colorscale\": [[0.0, \"#0d0887\"], [0.1111111111111111, \"#46039f\"], [0.2222222222222222, \"#7201a8\"], [0.3333333333333333, \"#9c179e\"], [0.4444444444444444, \"#bd3786\"], [0.5555555555555556, \"#d8576b\"], [0.6666666666666666, \"#ed7953\"], [0.7777777777777778, \"#fb9f3a\"], [0.8888888888888888, \"#fdca26\"], [1.0, \"#f0f921\"]], \"type\": \"heatmapgl\"}], \"histogram\": [{\"marker\": {\"colorbar\": {\"outlinewidth\": 0, \"ticks\": \"\"}}, \"type\": \"histogram\"}], \"histogram2d\": [{\"colorbar\": {\"outlinewidth\": 0, \"ticks\": \"\"}, \"colorscale\": [[0.0, \"#0d0887\"], [0.1111111111111111, \"#46039f\"], [0.2222222222222222, \"#7201a8\"], [0.3333333333333333, \"#9c179e\"], [0.4444444444444444, \"#bd3786\"], [0.5555555555555556, \"#d8576b\"], [0.6666666666666666, \"#ed7953\"], [0.7777777777777778, \"#fb9f3a\"], [0.8888888888888888, \"#fdca26\"], [1.0, \"#f0f921\"]], \"type\": \"histogram2d\"}], \"histogram2dcontour\": [{\"colorbar\": {\"outlinewidth\": 0, \"ticks\": \"\"}, \"colorscale\": [[0.0, \"#0d0887\"], [0.1111111111111111, \"#46039f\"], [0.2222222222222222, \"#7201a8\"], [0.3333333333333333, \"#9c179e\"], [0.4444444444444444, \"#bd3786\"], [0.5555555555555556, \"#d8576b\"], [0.6666666666666666, \"#ed7953\"], [0.7777777777777778, \"#fb9f3a\"], [0.8888888888888888, \"#fdca26\"], [1.0, \"#f0f921\"]], \"type\": \"histogram2dcontour\"}], \"mesh3d\": [{\"colorbar\": {\"outlinewidth\": 0, \"ticks\": \"\"}, \"type\": \"mesh3d\"}], \"parcoords\": [{\"line\": {\"colorbar\": {\"outlinewidth\": 0, \"ticks\": \"\"}}, \"type\": \"parcoords\"}], \"pie\": [{\"automargin\": true, \"type\": \"pie\"}], \"scatter\": [{\"marker\": {\"colorbar\": {\"outlinewidth\": 0, \"ticks\": \"\"}}, \"type\": \"scatter\"}], \"scatter3d\": [{\"line\": {\"colorbar\": {\"outlinewidth\": 0, \"ticks\": \"\"}}, \"marker\": {\"colorbar\": {\"outlinewidth\": 0, \"ticks\": \"\"}}, \"type\": \"scatter3d\"}], \"scattercarpet\": [{\"marker\": {\"colorbar\": {\"outlinewidth\": 0, \"ticks\": \"\"}}, \"type\": \"scattercarpet\"}], \"scattergeo\": [{\"marker\": {\"colorbar\": {\"outlinewidth\": 0, \"ticks\": \"\"}}, \"type\": \"scattergeo\"}], \"scattergl\": [{\"marker\": {\"colorbar\": {\"outlinewidth\": 0, \"ticks\": \"\"}}, \"type\": \"scattergl\"}], \"scattermapbox\": [{\"marker\": {\"colorbar\": {\"outlinewidth\": 0, \"ticks\": \"\"}}, \"type\": \"scattermapbox\"}], \"scatterpolar\": [{\"marker\": {\"colorbar\": {\"outlinewidth\": 0, \"ticks\": \"\"}}, \"type\": \"scatterpolar\"}], \"scatterpolargl\": [{\"marker\": {\"colorbar\": {\"outlinewidth\": 0, \"ticks\": \"\"}}, \"type\": \"scatterpolargl\"}], \"scatterternary\": [{\"marker\": {\"colorbar\": {\"outlinewidth\": 0, \"ticks\": \"\"}}, \"type\": \"scatterternary\"}], \"surface\": [{\"colorbar\": {\"outlinewidth\": 0, \"ticks\": \"\"}, \"colorscale\": [[0.0, \"#0d0887\"], [0.1111111111111111, \"#46039f\"], [0.2222222222222222, \"#7201a8\"], [0.3333333333333333, \"#9c179e\"], [0.4444444444444444, \"#bd3786\"], [0.5555555555555556, \"#d8576b\"], [0.6666666666666666, \"#ed7953\"], [0.7777777777777778, \"#fb9f3a\"], [0.8888888888888888, \"#fdca26\"], [1.0, \"#f0f921\"]], \"type\": \"surface\"}], \"table\": [{\"cells\": {\"fill\": {\"color\": \"#EBF0F8\"}, \"line\": {\"color\": \"white\"}}, \"header\": {\"fill\": {\"color\": \"#C8D4E3\"}, \"line\": {\"color\": \"white\"}}, \"type\": \"table\"}]}, \"layout\": {\"annotationdefaults\": {\"arrowcolor\": \"#2a3f5f\", \"arrowhead\": 0, \"arrowwidth\": 1}, \"coloraxis\": {\"colorbar\": {\"outlinewidth\": 0, \"ticks\": \"\"}}, \"colorscale\": {\"diverging\": [[0, \"#8e0152\"], [0.1, \"#c51b7d\"], [0.2, \"#de77ae\"], [0.3, \"#f1b6da\"], [0.4, \"#fde0ef\"], [0.5, \"#f7f7f7\"], [0.6, \"#e6f5d0\"], [0.7, \"#b8e186\"], [0.8, \"#7fbc41\"], [0.9, \"#4d9221\"], [1, \"#276419\"]], \"sequential\": [[0.0, \"#0d0887\"], [0.1111111111111111, \"#46039f\"], [0.2222222222222222, \"#7201a8\"], [0.3333333333333333, \"#9c179e\"], [0.4444444444444444, \"#bd3786\"], [0.5555555555555556, \"#d8576b\"], [0.6666666666666666, \"#ed7953\"], [0.7777777777777778, \"#fb9f3a\"], [0.8888888888888888, \"#fdca26\"], [1.0, \"#f0f921\"]], \"sequentialminus\": [[0.0, \"#0d0887\"], [0.1111111111111111, \"#46039f\"], [0.2222222222222222, \"#7201a8\"], [0.3333333333333333, \"#9c179e\"], [0.4444444444444444, \"#bd3786\"], [0.5555555555555556, \"#d8576b\"], [0.6666666666666666, \"#ed7953\"], [0.7777777777777778, \"#fb9f3a\"], [0.8888888888888888, \"#fdca26\"], [1.0, \"#f0f921\"]]}, \"colorway\": [\"#636efa\", \"#EF553B\", \"#00cc96\", \"#ab63fa\", \"#FFA15A\", \"#19d3f3\", \"#FF6692\", \"#B6E880\", \"#FF97FF\", \"#FECB52\"], \"font\": {\"color\": \"#2a3f5f\"}, \"geo\": {\"bgcolor\": \"white\", \"lakecolor\": \"white\", \"landcolor\": \"#E5ECF6\", \"showlakes\": true, \"showland\": true, \"subunitcolor\": \"white\"}, \"hoverlabel\": {\"align\": \"left\"}, \"hovermode\": \"closest\", \"mapbox\": {\"style\": \"light\"}, \"paper_bgcolor\": \"white\", \"plot_bgcolor\": \"#E5ECF6\", \"polar\": {\"angularaxis\": {\"gridcolor\": \"white\", \"linecolor\": \"white\", \"ticks\": \"\"}, \"bgcolor\": \"#E5ECF6\", \"radialaxis\": {\"gridcolor\": \"white\", \"linecolor\": \"white\", \"ticks\": \"\"}}, \"scene\": {\"xaxis\": {\"backgroundcolor\": \"#E5ECF6\", \"gridcolor\": \"white\", \"gridwidth\": 2, \"linecolor\": \"white\", \"showbackground\": true, \"ticks\": \"\", \"zerolinecolor\": \"white\"}, \"yaxis\": {\"backgroundcolor\": \"#E5ECF6\", \"gridcolor\": \"white\", \"gridwidth\": 2, \"linecolor\": \"white\", \"showbackground\": true, \"ticks\": \"\", \"zerolinecolor\": \"white\"}, \"zaxis\": {\"backgroundcolor\": \"#E5ECF6\", \"gridcolor\": \"white\", \"gridwidth\": 2, \"linecolor\": \"white\", \"showbackground\": true, \"ticks\": \"\", \"zerolinecolor\": \"white\"}}, \"shapedefaults\": {\"line\": {\"color\": \"#2a3f5f\"}}, \"ternary\": {\"aaxis\": {\"gridcolor\": \"white\", \"linecolor\": \"white\", \"ticks\": \"\"}, \"baxis\": {\"gridcolor\": \"white\", \"linecolor\": \"white\", \"ticks\": \"\"}, \"bgcolor\": \"#E5ECF6\", \"caxis\": {\"gridcolor\": \"white\", \"linecolor\": \"white\", \"ticks\": \"\"}}, \"title\": {\"x\": 0.05}, \"xaxis\": {\"automargin\": true, \"gridcolor\": \"white\", \"linecolor\": \"white\", \"ticks\": \"\", \"title\": {\"standoff\": 15}, \"zerolinecolor\": \"white\", \"zerolinewidth\": 2}, \"yaxis\": {\"automargin\": true, \"gridcolor\": \"white\", \"linecolor\": \"white\", \"ticks\": \"\", \"title\": {\"standoff\": 15}, \"zerolinecolor\": \"white\", \"zerolinewidth\": 2}}}, \"width\": 800, \"xaxis\": {\"anchor\": \"y\", \"domain\": [0.0, 0.2125]}, \"xaxis2\": {\"anchor\": \"y2\", \"domain\": [0.2625, 0.475]}, \"xaxis3\": {\"anchor\": \"y3\", \"domain\": [0.525, 0.7375]}, \"xaxis4\": {\"anchor\": \"y4\", \"domain\": [0.7875, 1.0]}, \"xaxis5\": {\"anchor\": \"y5\", \"domain\": [0.0, 0.2125]}, \"xaxis6\": {\"anchor\": \"y6\", \"domain\": [0.2625, 0.475]}, \"xaxis7\": {\"anchor\": \"y7\", \"domain\": [0.525, 0.7375]}, \"xaxis8\": {\"anchor\": \"y8\", \"domain\": [0.7875, 1.0]}, \"yaxis\": {\"anchor\": \"x\", \"domain\": [0.575, 1.0]}, \"yaxis2\": {\"anchor\": \"x2\", \"domain\": [0.575, 1.0], \"matches\": \"y\", \"showticklabels\": false}, \"yaxis3\": {\"anchor\": \"x3\", \"domain\": [0.575, 1.0], \"matches\": \"y\", \"showticklabels\": false}, \"yaxis4\": {\"anchor\": \"x4\", \"domain\": [0.575, 1.0], \"matches\": \"y\", \"showticklabels\": false}, \"yaxis5\": {\"anchor\": \"x5\", \"domain\": [0.0, 0.425]}, \"yaxis6\": {\"anchor\": \"x6\", \"domain\": [0.0, 0.425], \"matches\": \"y5\", \"showticklabels\": false}, \"yaxis7\": {\"anchor\": \"x7\", \"domain\": [0.0, 0.425], \"matches\": \"y5\", \"showticklabels\": false}, \"yaxis8\": {\"anchor\": \"x8\", \"domain\": [0.0, 0.425], \"matches\": \"y5\", \"showticklabels\": false}},\n",
              "                        {\"responsive\": true}\n",
              "                    ).then(function(){\n",
              "                            \n",
              "var gd = document.getElementById('19ad6245-977a-49a8-b52d-ec517034b91e');\n",
              "var x = new MutationObserver(function (mutations, observer) {{\n",
              "        var display = window.getComputedStyle(gd).display;\n",
              "        if (!display || display === 'none') {{\n",
              "            console.log([gd, 'removed!']);\n",
              "            Plotly.purge(gd);\n",
              "            observer.disconnect();\n",
              "        }}\n",
              "}});\n",
              "\n",
              "// Listen for the removal of the full notebook cells\n",
              "var notebookContainer = gd.closest('#notebook-container');\n",
              "if (notebookContainer) {{\n",
              "    x.observe(notebookContainer, {childList: true});\n",
              "}}\n",
              "\n",
              "// Listen for the clearing of the current output cell\n",
              "var outputEl = gd.closest('.output');\n",
              "if (outputEl) {{\n",
              "    x.observe(outputEl, {childList: true});\n",
              "}}\n",
              "\n",
              "                        })\n",
              "                };\n",
              "                \n",
              "            </script>\n",
              "        </div>\n",
              "</body>\n",
              "</html>"
            ]
          },
          "metadata": {
            "tags": []
          }
        }
      ]
    },
    {
      "cell_type": "code",
      "metadata": {
        "colab": {
          "base_uri": "https://localhost:8080/",
          "height": 542
        },
        "id": "RiEDcj7IZaDJ",
        "outputId": "24bc51d5-4861-4d7e-a331-8094239ff3e9"
      },
      "source": [
        "px.scatter(tv_shows_both_ratings,x='IMDb',y='Rotten Tomatoes',color='StreamingOn')"
      ],
      "execution_count": null,
      "outputs": [
        {
          "output_type": "display_data",
          "data": {
            "text/html": [
              "<html>\n",
              "<head><meta charset=\"utf-8\" /></head>\n",
              "<body>\n",
              "    <div>\n",
              "            <script src=\"https://cdnjs.cloudflare.com/ajax/libs/mathjax/2.7.5/MathJax.js?config=TeX-AMS-MML_SVG\"></script><script type=\"text/javascript\">if (window.MathJax) {MathJax.Hub.Config({SVG: {font: \"STIX-Web\"}});}</script>\n",
              "                <script type=\"text/javascript\">window.PlotlyConfig = {MathJaxConfig: 'local'};</script>\n",
              "        <script src=\"https://cdn.plot.ly/plotly-latest.min.js\"></script>    \n",
              "            <div id=\"dab6ab7f-4be5-4ca7-b0a3-b3d87c53f90e\" class=\"plotly-graph-div\" style=\"height:525px; width:100%;\"></div>\n",
              "            <script type=\"text/javascript\">\n",
              "                \n",
              "                    window.PLOTLYENV=window.PLOTLYENV || {};\n",
              "                    \n",
              "                if (document.getElementById(\"dab6ab7f-4be5-4ca7-b0a3-b3d87c53f90e\")) {\n",
              "                    Plotly.newPlot(\n",
              "                        'dab6ab7f-4be5-4ca7-b0a3-b3d87c53f90e',\n",
              "                        [{\"hoverlabel\": {\"namelength\": 0}, \"hovertemplate\": \"StreamingOn=Netflix<br>IMDb=%{x}<br>Rotten Tomatoes=%{y}\", \"legendgroup\": \"StreamingOn=Netflix\", \"marker\": {\"color\": \"#636efa\", \"symbol\": \"circle\"}, \"mode\": \"markers\", \"name\": \"StreamingOn=Netflix\", \"showlegend\": true, \"type\": \"scattergl\", \"x\": [88, 87, 88, 84, 85, 84, 84, 83, 83, 82, 81, 82, 85, 80, 80, 82, 80, 81, 80, 84, 76, 76, 80, 80, 76, 77, 80, 85, 75, 80, 78, 79, 78, 78, 78, 75, 77, 82, 77, 72, 74, 81, 81, 76, 75, 77, 76, 74, 81, 75, 72, 76, 73, 73, 73, 75, 79, 79, 73, 78, 78, 77, 71, 82, 72, 74, 81, 70, 72, 73, 70, 75, 68, 72, 71, 75, 76, 76, 78, 72, 72, 71, 74, 74, 70, 72, 74, 75, 82, 71, 66, 74, 73, 72, 77, 76, 83, 70, 73, 67, 72, 68, 73, 70, 76, 73, 69, 70, 71, 66, 71, 70, 78, 69, 69, 74, 74, 70, 69, 64, 72, 67, 64, 76, 74, 61, 73, 70, 79, 69, 74, 68, 69, 61, 74, 70, 70, 68, 65, 85, 71, 63, 76, 65, 68, 71, 69, 69, 69, 76, 63, 77, 76, 76, 64, 63, 66, 85, 64, 70, 78, 70, 75, 64, 69, 72, 66, 75, 76, 76, 62, 63, 66, 63, 74, 68, 67, 72, 67, 69, 69, 74, 72, 74, 65, 75, 68, 69, 69, 76, 71, 72, 78, 63, 66, 68, 63, 63, 66, 76, 64, 73, 70, 73, 62, 72, 56, 69, 65, 74, 66, 74, 59, 74, 67, 76, 76, 61, 70, 64, 67, 64, 79, 62, 61, 70, 58, 70, 65, 69, 80, 63, 77, 76, 74, 69, 67, 67, 64, 77, 76, 69, 70, 70, 59, 72, 63, 58, 65, 65, 66, 62, 67, 60, 65, 74, 70, 67, 62, 66, 63, 59, 74, 67, 58, 65, 72, 74, 70, 64, 65, 60, 63, 66, 64, 62, 69, 69, 70, 66, 72, 67, 66, 64, 82, 62, 72, 73, 64, 71, 61, 68, 68, 74, 80, 71, 54, 68, 64, 58, 66, 73, 68, 63, 74, 68, 61, 63, 66, 64, 66, 72, 58, 58, 61, 71, 60, 59, 70, 74, 54, 68, 61, 65, 74, 54, 62, 76, 71, 61, 65, 75, 57, 68, 68, 71, 60, 62, 70, 63, 62, 59, 64, 56, 72, 66, 60, 60, 53, 62, 57, 69, 62, 59, 59, 55, 69, 56, 71, 76, 60, 62, 63, 57, 75, 56, 63, 72, 50, 58, 58, 63, 70, 57, 73, 65, 70, 59, 71, 66, 72, 61, 65, 63, 58, 56, 68, 53, 63, 64, 56, 62, 61, 63, 66, 69, 71, 65, 62, 69, 72, 61, 66, 66, 56, 53, 56, 67, 61, 62, 59, 60, 68, 53, 62, 61, 61, 56, 65, 59, 64, 57, 66, 56, 59, 62, 58, 58, 59, 61, 66, 66, 57, 60, 62, 61, 54, 59, 52, 58, 61, 53, 59, 62, 58, 67, 53, 54, 57, 69, 60, 63, 59, 53, 47, 65, 55, 65, 63, 55, 59, 58, 55, 54, 55, 58, 57, 46, 63, 51, 64, 62, 56, 62, 53, 67, 53, 62, 55, 57, 71, 51, 62, 66, 57, 53, 57, 58, 61, 55, 65, 63, 53, 68, 60, 55, 57, 56, 65, 59, 63, 64, 65, 71, 66, 50, 44, 49, 67, 66, 56, 58, 56, 59, 64, 54, 56, 57, 53, 57, 62, 62, 62, 62, 56, 58, 62, 56, 52, 56, 58, 56, 62, 50, 59, 58, 51, 49, 57, 63, 52, 52, 72, 52, 54, 55, 52, 50, 61, 39, 60, 55, 52, 53, 54, 77, 52, 64, 55, 58, 50, 58, 53, 51, 59, 50, 51, 60, 47, 62, 56, 55, 52, 59, 41, 59, 50, 54, 51, 58, 50, 56, 63, 51, 35, 54, 44, 53, 52, 55, 50, 43, 55, 60, 57, 58, 51, 56, 45, 43, 48, 60, 52, 54, 66, 48, 52, 49, 53, 61, 55, 47, 36, 54, 51, 65, 51, 48, 45, 62, 60, 44, 53, 46, 54, 44, 41, 57, 53, 54, 41, 48, 46, 62, 40, 50, 56, 51, 43, 34, 46, 55, 31, 36, 32, 54, 61, 64, 54, 34, 64, 61, 42, 59, 25, 44], \"xaxis\": \"x\", \"y\": [87, 87, 97, 97, 95, 87, 95, 89, 95, 95, 93, 97, 95, 95, 95, 91, 93, 95, 95, 91, 81, 97, 77, 85, 85, 79, 67, 93, 81, 83, 75, 95, 65, 91, 71, 93, 85, 95, 81, 97, 91, 67, 99, 85, 95, 89, 87, 97, 95, 85, 73, 89, 97, 89, 87, 79, 93, 99, 83, 63, 95, 93, 91, 89, 87, 87, 91, 91, 81, 91, 77, 95, 89, 87, 85, 89, 85, 55, 99, 85, 71, 91, 99, 97, 71, 61, 69, 81, 83, 83, 91, 93, 73, 85, 95, 87, 89, 79, 67, 87, 83, 89, 69, 89, 89, 77, 43, 65, 67, 63, 71, 71, 97, 91, 71, 71, 81, 77, 99, 39, 81, 79, 89, 77, 97, 79, 67, 31, 93, 59, 91, 35, 93, 83, 99, 83, 61, 81, 49, 35, 97, 85, 95, 65, 73, 57, 97, 57, 61, 93, 69, 83, 91, 89, 41, 85, 71, 95, 73, 79, 91, 41, 99, 67, 53, 89, 23, 87, 95, 93, 87, 89, 59, 85, 87, 89, 93, 89, 35, 77, 61, 81, 95, 89, 57, 57, 69, 57, 67, 75, 83, 33, 81, 71, 89, 85, 75, 71, 55, 71, 33, 83, 91, 75, 73, 89, 73, 73, 33, 95, 81, 83, 93, 83, 17, 95, 69, 93, 61, 87, 27, 91, 57, 53, 57, 67, 39, 95, 89, 93, 97, 59, 91, 85, 71, 43, 39, 83, 41, 59, 81, 93, 45, 91, 67, 95, 75, 95, 75, 95, 69, 45, 89, 75, 81, 93, 93, 67, 59, 95, 67, 67, 85, 89, 47, 89, 85, 77, 95, 91, 29, 75, 67, 53, 83, 35, 83, 91, 59, 75, 81, 93, 63, 65, 83, 61, 87, 67, 65, 85, 43, 67, 83, 71, 73, 75, 17, 51, 71, 43, 41, 85, 61, 29, 67, 91, 77, 65, 29, 69, 91, 57, 65, 81, 63, 65, 75, 73, 85, 83, 81, 91, 61, 19, 89, 81, 59, 63, 95, 17, 41, 95, 37, 57, 61, 75, 95, 63, 93, 51, 53, 53, 43, 53, 91, 33, 63, 83, 27, 85, 39, 83, 77, 89, 41, 75, 83, 69, 55, 91, 29, 61, 83, 73, 95, 59, 71, 67, 89, 35, 71, 11, 65, 59, 71, 57, 83, 59, 25, 91, 43, 83, 63, 69, 51, 39, 89, 63, 25, 75, 75, 51, 75, 39, 71, 67, 33, 57, 83, 87, 57, 39, 13, 71, 31, 15, 85, 95, 73, 75, 65, 47, 73, 59, 79, 49, 91, 61, 91, 67, 33, 83, 45, 25, 39, 65, 27, 61, 77, 35, 85, 97, 63, 71, 73, 57, 25, 39, 29, 29, 43, 27, 67, 37, 29, 97, 45, 71, 83, 87, 85, 33, 17, 67, 13, 83, 31, 13, 15, 33, 69, 71, 71, 63, 75, 47, 55, 81, 91, 77, 93, 71, 69, 23, 65, 57, 47, 43, 55, 55, 89, 55, 89, 63, 9, 83, 37, 43, 67, 43, 55, 33, 57, 57, 29, 43, 55, 47, 63, 63, 71, 43, 67, 13, 21, 47, 29, 75, 45, 75, 49, 79, 43, 57, 89, 59, 41, 87, 15, 49, 83, 57, 57, 29, 5, 71, 55, 33, 43, 39, 57, 17, 59, 9, 67, 27, 27, 41, 43, 67, 47, 21, 95, 75, 9, 21, 23, 19, 15, 9, 37, 41, 17, 33, 41, 91, 5, 63, 47, 63, 29, 67, 19, 27, 57, 45, 83, 29, 57, 47, 43, 41, 17, 67, 5, 55, 53, 39, 29, 83, 17, 11, 71, 71, 19, 11, 75, 71, 33, 59, 11, 25, 17, 53, 71, 13, 29, 25, 13, 13, 25, 45, 21, 51, 7, 25, 43, 17, 19, 43, 9, 11, 17, 29, 41, 33, 23, 27, 11, 71, 75, 3, 29, 29, 15, 43, 13, 67, 15, 43, 33, 67, 43, 29, 19, 13, 75, 23, 17, 5, 11, 33, 43, 27, 23, 11, 83, 63, 17, 13, 29, 75, 13, 29, 11, 17], \"yaxis\": \"y\"}, {\"hoverlabel\": {\"namelength\": 0}, \"hovertemplate\": \"StreamingOn=Prime Video<br>IMDb=%{x}<br>Rotten Tomatoes=%{y}\", \"legendgroup\": \"StreamingOn=Prime Video\", \"marker\": {\"color\": \"#EF553B\", \"symbol\": \"circle\"}, \"mode\": \"markers\", \"name\": \"StreamingOn=Prime Video\", \"showlegend\": true, \"type\": \"scattergl\", \"x\": [88, 85, 85, 78, 74, 76, 72, 73, 71, 74, 72, 68, 66, 63, 72, 63, 72, 76, 67, 59, 66, 61, 54, 66, 66, 74, 54, 63, 57, 63, 69, 66, 56, 62, 69, 47, 55, 63, 62, 57, 65, 56, 53, 62, 56, 58, 52, 51, 59, 54, 58, 34, 36, 61, 64, 44, 86, 75, 74, 77, 70, 77, 72, 72, 75, 71, 68, 73, 75, 68, 70, 78, 73, 71, 71, 74, 68, 73, 77, 66, 78, 67, 70, 68, 69, 62, 62, 62, 59, 60, 64, 64, 64, 60, 64, 68, 64, 61, 61, 61, 56, 61, 66, 58, 62, 57, 62, 65, 61, 55, 75, 51, 62, 61, 57, 59, 59, 52, 65, 47, 62, 58, 51, 56, 49, 56, 48, 51, 52, 69, 62, 54, 67, 70, 64, 58, 51, 51, 54, 46, 44, 45, 77, 82, 81, 74, 78, 70, 79, 77, 74, 70, 75, 81, 79, 74, 73, 80, 82, 81, 78, 78, 75, 83, 75, 71, 80, 85, 73, 76, 71, 80, 76, 77, 74, 71, 73, 78, 71, 80, 73, 79, 68, 71, 75, 75, 71, 68, 66, 71, 77, 72, 74, 68, 71, 76, 75, 73, 68, 73, 76, 78, 82, 68, 66, 73, 68, 72, 75, 72, 79, 70, 78, 68, 79, 71, 76, 70, 65, 68, 73, 75, 78, 78, 72, 71, 76, 77, 65, 72, 75, 64, 68, 70, 76, 71, 77, 72, 72, 67, 71, 65, 72, 73, 75, 77, 84, 72, 76, 72, 70, 74, 64, 69, 61, 67, 78, 68, 74, 70, 76, 68, 60, 64, 62, 67, 64, 76, 67, 78, 71, 64, 74, 63, 70, 73, 70, 62, 71, 66, 71, 69, 67, 75, 80, 65, 64, 62, 66, 71, 75, 73, 67, 64, 72, 66, 71, 67, 68, 69, 69, 68, 70, 70, 74, 78, 75, 75, 72, 78, 71, 71, 79, 75, 66, 71, 67, 76, 71, 73, 69, 62, 72, 70, 75, 75, 74, 67, 83, 75, 68, 57, 71, 72, 70, 74, 81, 63, 64, 65, 70, 72, 73, 68, 70, 73, 79, 72, 68, 72, 77, 70, 62, 62, 63, 60, 69, 72, 69, 73, 68, 71, 65, 72, 65, 74, 83, 67, 70, 67, 71, 69, 68, 71, 71, 74, 74, 68, 69, 58, 76, 67, 70, 70, 67, 64, 62, 71, 71, 71, 63, 72, 73, 62, 64, 60, 71, 73, 66, 67, 69, 71, 66, 74, 74, 75, 81, 69, 73, 71, 70, 64, 70, 74, 77, 73, 67, 71, 75, 63, 72, 65, 68, 78, 72, 64, 64, 64, 74, 61, 71, 63, 65, 67, 66, 76, 63, 56, 72, 73, 55, 64, 62, 61, 69, 75, 68, 69, 75, 72, 64, 57, 63, 75, 71, 72, 73, 70, 68, 65, 65, 63, 68, 70, 68, 76, 66, 61, 66, 63, 71, 69, 67, 69, 62, 60, 63, 69, 65, 65, 66, 60, 64, 72, 69, 65, 73, 57, 67, 62, 68, 57, 70, 68, 56, 73, 69, 64, 66, 63, 65, 63, 62, 63, 77, 71, 58, 66, 64, 72, 53, 70, 71, 74, 62, 72, 60, 67, 65, 69, 63, 73, 65, 58, 64, 65, 74, 73, 63, 70, 63, 68, 69, 59, 64, 65, 72, 72, 59, 64, 58, 68, 72, 67, 55, 70, 58, 74, 66, 66, 70, 70, 65, 72, 58, 70, 63, 70, 63, 69, 69, 69, 71, 53, 64, 66, 73, 74, 49, 66, 69, 63, 68, 69, 69, 70, 70, 68, 73, 63, 65, 58, 66, 66, 73, 62, 62, 62, 70, 74, 63, 70, 66, 65, 65, 68, 69, 64, 65, 72, 68, 72, 63, 69, 61, 58, 65, 72, 65, 76, 76, 68, 66, 64, 62, 77, 63, 60, 66, 60, 60, 66, 66, 63, 60, 66, 70, 64, 66, 57, 68, 61, 65, 61, 66, 66, 44, 63, 68, 69, 65, 62, 66, 67, 69, 68, 66, 65, 61, 54, 77, 55, 65, 60, 62, 65, 70, 69, 72, 58, 63, 67, 64, 51, 67, 71, 69, 64, 62, 70, 72, 62, 77, 55, 76, 49, 57, 66, 71, 63, 71, 58, 73, 56, 57, 62, 73, 45, 67, 69, 68, 71, 61, 68, 70, 64, 65, 63, 57, 58, 55, 67, 62, 68, 72, 61, 60, 69, 63, 62, 55, 64, 66, 54, 53, 73, 68, 65, 67, 62, 64, 66, 66, 71, 69, 68, 62, 55, 63, 63, 67, 57, 65, 65, 63, 67, 55, 69, 52, 72, 65, 40, 63, 68, 58, 62, 68, 48, 70, 63, 73, 65, 71, 61, 64, 71, 64, 61, 67, 71, 64, 62, 55, 61, 60, 57, 62, 60, 69, 65, 68, 65, 62, 73, 52, 62, 68, 70, 66, 53, 70, 81, 56, 69, 60, 70, 70, 57, 77, 59, 59, 56, 68, 58, 66, 66, 61, 58, 70, 65, 74, 60, 52, 65, 62, 66, 62, 60, 68, 63, 59, 58, 61, 69, 66, 67, 58, 65, 59, 71, 66, 61, 47, 64, 66, 61, 61, 83, 58, 65, 63, 67, 64, 62, 62, 59, 58, 55, 61, 67, 64, 58, 67, 59, 68, 58, 47, 63, 68, 56, 56, 63, 72, 71, 66, 73, 56, 58, 64, 43, 59, 69, 73, 38, 66, 69, 52, 50, 55, 67, 49, 68, 57, 60, 68, 51, 53, 64, 58, 57, 51, 51, 60, 56, 60, 55, 51, 68, 63, 69, 49, 61, 51, 62, 57, 60, 73, 69, 69, 62, 53, 75, 51, 64, 65, 55, 66, 66, 62, 58, 66, 60, 64, 63, 68, 68, 61, 63, 44, 56, 57, 49, 68, 58, 71, 66, 64, 58, 65, 57, 63, 62, 47, 66, 53, 60, 75, 60, 60, 63, 79, 66, 56, 61, 61, 56, 50, 53, 70, 62, 64, 58, 50, 59, 59, 58, 75, 69, 58, 46, 53, 58, 59, 52, 68, 64, 70, 55, 63, 53, 65, 45, 63, 64, 40, 55, 65, 73, 63, 58, 61, 59, 53, 63, 58, 61, 56, 68, 60, 59, 67, 53, 70, 44, 65, 58, 66, 63, 56, 63, 65, 63, 56, 61, 55, 66, 45, 64, 70, 54, 46, 59, 65, 59, 64, 59, 65, 61, 65, 59, 50, 49, 47, 60, 62, 55, 65, 54, 62, 54, 65, 51, 75, 47, 60, 56, 60, 54, 58, 56, 52, 55, 56, 54, 49, 49, 52, 56, 58, 54, 54, 56, 55, 45, 45, 57, 61, 58, 53, 58, 61, 67, 66, 65, 67, 69, 59, 55, 53, 57, 52, 56, 64, 64, 60, 50, 63, 57, 70, 67, 53, 63, 51, 69, 49, 51, 58, 59, 60, 57, 60, 55, 68, 74, 60, 43, 56, 48, 56, 56, 48, 63, 67, 57, 53, 66, 50, 52, 54, 72, 70, 65, 55, 56, 57, 52, 55, 67, 49, 74, 60, 54, 60, 58, 65, 58, 42, 41, 56, 56, 50, 44, 53, 38, 45, 51, 51, 54, 64, 59, 53, 46, 66, 58, 62, 59, 52, 76, 53, 67, 61, 72, 40, 61, 58, 48, 63, 44, 54, 66, 43, 62, 66, 42, 53, 61, 65, 45, 51, 63, 61, 67, 56, 57, 61, 53, 52, 52, 45, 67, 64, 54, 56, 62, 50, 41, 57, 50, 46, 47, 59, 48, 56, 55, 41, 55, 56, 42, 62, 49, 53, 52, 47, 51, 60, 46, 53, 35, 43, 46, 38, 61, 74, 42, 46, 58, 69, 43, 33, 59, 53, 79, 50, 54, 48, 67, 48, 48, 56, 53, 50, 28, 61, 49, 75, 46, 48, 53, 55, 59, 37, 41, 51, 57, 42, 53, 58, 49, 26, 48, 54, 63, 40, 41, 55, 59, 68, 40, 46, 55, 39, 40, 53, 58, 39, 28, 46, 45, 45, 51, 58, 50, 51, 36, 52, 51, 58, 53, 73, 46, 47, 36, 51, 40, 45, 34, 53, 59, 40, 43, 52, 55, 50, 54, 51, 57, 59, 49, 46, 50, 38, 46, 42, 40, 74, 56, 69, 59, 57, 55, 42, 49, 27, 48, 48, 72, 44, 60, 20, 54, 36, 35, 64, 48, 37, 46, 63, 41, 48, 33, 54, 52, 44, 47, 59, 18, 35, 62, 53, 64, 32, 34, 29, 48, 68, 37, 59, 48, 29, 56, 50, 35, 55, 62, 63, 44, 34, 40, 48, 37, 42, 51, 39, 54, 43, 47], \"xaxis\": \"x\", \"y\": [97, 95, 95, 95, 99, 87, 83, 77, 71, 71, 81, 73, 71, 85, 33, 71, 89, 85, 39, 67, 75, 43, 17, 29, 91, 83, 81, 83, 73, 11, 67, 45, 25, 65, 87, 13, 31, 15, 43, 9, 67, 41, 15, 57, 17, 27, 5, 83, 67, 39, 13, 5, 27, 83, 29, 17, 99, 95, 91, 87, 81, 97, 93, 85, 97, 93, 91, 81, 75, 85, 81, 97, 97, 89, 87, 51, 87, 61, 93, 83, 91, 89, 65, 87, 77, 35, 61, 49, 69, 49, 63, 79, 61, 77, 55, 75, 75, 89, 83, 43, 59, 67, 47, 71, 75, 47, 91, 57, 83, 93, 75, 91, 21, 35, 35, 41, 45, 25, 45, 37, 27, 17, 5, 7, 19, 13, 19, 5, 27, 75, 19, 25, 11, 97, 25, 47, 67, 13, 15, 33, 11, 25, 97, 95, 95, 99, 85, 77, 97, 77, 91, 73, 99, 93, 97, 99, 89, 97, 95, 93, 83, 91, 95, 89, 95, 83, 87, 99, 81, 93, 91, 83, 97, 75, 81, 69, 83, 99, 79, 97, 89, 97, 89, 93, 97, 95, 91, 89, 83, 93, 89, 81, 91, 77, 75, 91, 93, 69, 89, 93, 87, 91, 67, 77, 87, 77, 87, 69, 91, 85, 93, 95, 97, 89, 99, 81, 91, 83, 89, 73, 99, 95, 99, 97, 57, 69, 87, 93, 71, 93, 71, 99, 65, 73, 99, 75, 93, 91, 63, 85, 75, 63, 71, 85, 95, 91, 83, 87, 89, 57, 93, 83, 87, 81, 79, 87, 91, 59, 75, 99, 91, 73, 77, 67, 27, 87, 89, 95, 83, 67, 97, 97, 87, 87, 77, 93, 57, 87, 97, 77, 57, 77, 43, 81, 63, 77, 85, 95, 81, 83, 83, 95, 71, 77, 53, 71, 81, 91, 47, 71, 67, 67, 67, 83, 55, 93, 83, 73, 89, 57, 91, 85, 99, 89, 79, 85, 87, 41, 71, 67, 81, 83, 67, 83, 79, 69, 77, 85, 73, 91, 81, 95, 81, 81, 65, 85, 77, 33, 93, 81, 77, 87, 91, 79, 83, 73, 63, 87, 89, 73, 63, 65, 95, 85, 91, 85, 79, 97, 91, 71, 85, 87, 33, 57, 89, 97, 89, 57, 67, 97, 95, 73, 97, 91, 69, 57, 83, 37, 61, 85, 87, 93, 79, 67, 97, 89, 83, 85, 67, 91, 75, 89, 79, 75, 87, 73, 77, 97, 93, 89, 91, 85, 91, 67, 83, 55, 89, 81, 73, 89, 81, 53, 87, 71, 89, 65, 81, 41, 85, 73, 85, 75, 87, 83, 89, 43, 59, 71, 91, 77, 87, 91, 43, 45, 69, 85, 87, 87, 95, 67, 63, 43, 69, 55, 83, 91, 79, 87, 81, 83, 29, 71, 33, 85, 83, 85, 83, 73, 77, 41, 63, 93, 91, 83, 79, 83, 85, 91, 73, 67, 75, 83, 77, 67, 97, 53, 67, 95, 55, 93, 63, 73, 73, 83, 71, 91, 73, 75, 93, 71, 79, 93, 59, 93, 97, 85, 97, 77, 73, 95, 75, 83, 63, 31, 93, 89, 93, 79, 29, 87, 73, 89, 91, 81, 83, 81, 61, 95, 91, 89, 53, 67, 77, 91, 69, 61, 95, 67, 73, 25, 29, 83, 89, 69, 75, 55, 95, 55, 21, 81, 57, 83, 87, 89, 79, 83, 79, 97, 59, 93, 83, 87, 71, 85, 79, 75, 77, 75, 91, 75, 83, 57, 73, 87, 87, 53, 75, 17, 85, 77, 71, 87, 93, 81, 83, 83, 77, 83, 83, 53, 31, 43, 89, 89, 95, 75, 81, 19, 67, 81, 61, 53, 83, 75, 79, 69, 55, 83, 55, 77, 89, 91, 73, 33, 49, 91, 91, 67, 57, 89, 91, 97, 73, 83, 49, 91, 75, 45, 57, 65, 75, 91, 69, 97, 79, 87, 75, 57, 63, 67, 71, 67, 43, 63, 57, 41, 89, 85, 83, 83, 43, 37, 55, 91, 43, 37, 27, 83, 77, 67, 37, 83, 93, 69, 37, 59, 57, 91, 89, 67, 29, 43, 53, 81, 67, 75, 91, 41, 71, 73, 37, 89, 93, 73, 81, 75, 63, 71, 85, 69, 83, 83, 77, 35, 67, 75, 75, 63, 83, 79, 71, 85, 65, 67, 89, 87, 53, 75, 69, 43, 85, 43, 45, 67, 75, 29, 63, 57, 83, 75, 69, 65, 69, 61, 81, 89, 67, 81, 57, 25, 57, 69, 39, 57, 85, 33, 67, 67, 27, 83, 55, 43, 61, 47, 89, 59, 67, 57, 45, 69, 47, 67, 31, 67, 83, 21, 75, 69, 69, 79, 73, 63, 83, 93, 27, 77, 71, 45, 83, 85, 45, 83, 71, 83, 77, 47, 33, 49, 57, 45, 87, 89, 25, 33, 75, 81, 53, 85, 75, 73, 45, 63, 57, 63, 83, 91, 79, 57, 77, 25, 75, 85, 43, 41, 17, 71, 81, 71, 79, 65, 75, 91, 73, 55, 17, 69, 57, 73, 69, 85, 21, 67, 47, 33, 69, 45, 81, 21, 19, 69, 45, 83, 75, 45, 71, 85, 33, 73, 57, 75, 75, 67, 33, 85, 47, 77, 85, 45, 25, 67, 47, 21, 45, 79, 71, 67, 71, 37, 57, 33, 25, 73, 71, 57, 77, 81, 77, 47, 17, 89, 75, 77, 83, 83, 51, 81, 71, 75, 55, 75, 57, 65, 43, 57, 53, 37, 73, 63, 85, 67, 49, 83, 41, 29, 17, 33, 69, 81, 29, 71, 75, 41, 29, 95, 63, 67, 71, 73, 89, 43, 75, 77, 33, 63, 89, 73, 77, 65, 17, 41, 67, 25, 71, 67, 45, 67, 83, 67, 67, 77, 45, 73, 83, 51, 57, 17, 89, 17, 75, 15, 25, 77, 91, 17, 43, 79, 71, 61, 25, 61, 91, 7, 81, 57, 53, 29, 57, 67, 47, 49, 69, 83, 19, 35, 29, 19, 83, 35, 83, 27, 71, 57, 43, 89, 67, 45, 75, 63, 61, 63, 83, 45, 25, 71, 61, 33, 67, 57, 35, 13, 43, 47, 33, 83, 45, 51, 73, 75, 73, 67, 79, 75, 57, 27, 91, 33, 83, 57, 75, 75, 83, 19, 77, 31, 67, 63, 57, 27, 83, 73, 61, 47, 65, 59, 55, 63, 67, 11, 91, 17, 67, 75, 31, 21, 37, 63, 43, 27, 53, 67, 63, 15, 69, 43, 67, 77, 23, 9, 69, 83, 11, 65, 41, 11, 61, 67, 41, 5, 17, 33, 13, 29, 11, 63, 75, 53, 67, 33, 27, 71, 67, 63, 67, 59, 65, 63, 53, 27, 59, 43, 43, 23, 57, 57, 33, 29, 39, 57, 13, 63, 57, 23, 17, 41, 67, 57, 43, 27, 29, 83, 43, 29, 67, 33, 15, 67, 19, 11, 41, 89, 63, 67, 21, 29, 55, 75, 43, 73, 55, 33, 79, 85, 29, 21, 25, 33, 39, 33, 33, 63, 21, 57, 67, 27, 71, 57, 43, 71, 11, 67, 57, 57, 43, 39, 43, 19, 3, 25, 33, 45, 53, 43, 13, 9, 17, 17, 53, 89, 29, 75, 59, 67, 29, 31, 27, 57, 43, 3, 5, 29, 71, 27, 55, 35, 31, 13, 83, 9, 33, 57, 29, 79, 13, 29, 95, 33, 47, 67, 53, 83, 33, 67, 29, 23, 13, 33, 47, 29, 63, 45, 77, 33, 67, 17, 13, 85, 29, 45, 83, 27, 23, 55, 17, 27, 9, 29, 79, 27, 45, 11, 13, 25, 67, 45, 11, 67, 77, 13, 43, 43, 33, 79, 11, 11, 55, 43, 17, 9, 29, 29, 33, 19, 29, 33, 33, 67, 27, 17, 13, 57, 33, 9, 43, 33, 15, 31, 25, 57, 43, 33, 29, 33, 63, 47, 21, 7, 63, 57, 19, 25, 25, 81, 31, 43, 33, 33, 29, 25, 33, 33, 9, 21, 33, 17, 65, 17, 39, 57, 67, 17, 13, 25, 53, 21, 17, 7, 33, 57, 17, 27, 25, 29, 13, 33, 33, 43, 75, 57, 3, 7, 9, 13, 7, 13, 63, 25, 67, 63, 19, 17, 17, 33, 23, 67, 33, 57, 29, 67, 9, 45, 33, 29, 43, 33, 43, 15, 17, 13, 9, 23, 33, 5, 33, 29, 25, 19, 17, 17, 25, 33, 33, 17, 17, 71, 59, 29, 43, 11, 17, 29, 29, 17, 13, 57, 75, 19, 9, 25, 17, 7, 43, 11, 9, 23, 17, 13], \"yaxis\": \"y\"}, {\"hoverlabel\": {\"namelength\": 0}, \"hovertemplate\": \"StreamingOn=Disney+<br>IMDb=%{x}<br>Rotten Tomatoes=%{y}\", \"legendgroup\": \"StreamingOn=Disney+\", \"marker\": {\"color\": \"#00cc96\", \"symbol\": \"circle\"}, \"mode\": \"markers\", \"name\": \"StreamingOn=Disney+\", \"showlegend\": true, \"type\": \"scattergl\", \"x\": [75, 78, 68, 71, 75, 57, 82, 73, 61, 59, 45, 70, 70, 59, 85, 84, 84, 80, 81, 84, 79, 78, 79, 81, 80, 80, 80, 78, 75, 76, 78, 76, 80, 73, 77, 77, 73, 73, 77, 72, 80, 75, 71, 69, 81, 76, 78, 73, 80, 73, 73, 74, 65, 65, 77, 72, 69, 72, 68, 72, 74, 69, 72, 69, 67, 68, 72, 64, 65, 63, 66, 64, 68, 74, 70, 71, 72, 70, 69, 65, 54, 69, 68, 61, 65, 63, 67, 73, 76, 70, 60, 71, 68, 52, 74, 62, 66, 64, 59, 76, 60, 55, 66, 64, 64, 63, 66, 74, 72, 52, 62, 73, 48, 55, 58, 62, 56, 55, 61, 60, 56, 59, 53, 59, 59, 63, 50, 71, 62, 58, 53, 56, 47, 48, 68, 54, 45, 61, 52, 65, 49, 47, 53, 52, 24, 55, 56, 49, 50, 54, 55, 53, 50, 54, 54, 51, 52, 65, 56, 59, 41, 47, 33, 47, 41, 53], \"xaxis\": \"x\", \"y\": [79, 95, 89, 85, 81, 37, 97, 91, 71, 45, 25, 77, 73, 57, 93, 93, 95, 91, 99, 97, 93, 91, 93, 97, 95, 97, 79, 89, 89, 85, 97, 95, 95, 97, 89, 87, 83, 75, 97, 79, 83, 77, 75, 77, 91, 87, 73, 85, 95, 93, 53, 81, 65, 53, 75, 69, 87, 91, 51, 67, 93, 87, 79, 83, 91, 67, 81, 73, 71, 75, 33, 75, 59, 63, 93, 65, 63, 73, 69, 65, 63, 49, 37, 39, 67, 47, 51, 93, 73, 39, 75, 89, 83, 45, 97, 53, 35, 55, 75, 71, 21, 57, 29, 63, 33, 55, 67, 67, 83, 63, 73, 75, 71, 57, 67, 83, 55, 41, 67, 35, 7, 53, 63, 45, 33, 33, 43, 33, 71, 45, 53, 33, 67, 41, 67, 37, 29, 13, 25, 47, 31, 17, 19, 19, 73, 25, 45, 29, 25, 19, 23, 9, 11, 17, 17, 31, 23, 43, 25, 17, 29, 5, 17, 13, 7, 55], \"yaxis\": \"y\"}, {\"hoverlabel\": {\"namelength\": 0}, \"hovertemplate\": \"StreamingOn=Hulu<br>IMDb=%{x}<br>Rotten Tomatoes=%{y}\", \"legendgroup\": \"StreamingOn=Hulu\", \"marker\": {\"color\": \"#ab63fa\", \"symbol\": \"circle\"}, \"mode\": \"markers\", \"name\": \"StreamingOn=Hulu\", \"showlegend\": true, \"type\": \"scattergl\", \"x\": [79, 72, 61, 64, 62, 54, 56, 39, 86, 83, 81, 75, 76, 75, 82, 75, 77, 80, 74, 75, 77, 82, 72, 70, 77, 72, 72, 75, 71, 68, 73, 76, 71, 76, 75, 77, 68, 78, 70, 81, 79, 70, 72, 78, 78, 74, 69, 73, 81, 73, 70, 73, 71, 68, 74, 70, 70, 66, 69, 71, 71, 65, 74, 71, 74, 67, 68, 73, 74, 77, 66, 72, 67, 66, 67, 67, 62, 67, 65, 78, 76, 62, 66, 75, 67, 72, 70, 62, 71, 68, 64, 69, 71, 69, 65, 62, 62, 62, 73, 67, 70, 73, 68, 76, 75, 70, 75, 66, 59, 72, 61, 60, 68, 66, 66, 64, 73, 71, 64, 71, 75, 64, 73, 64, 72, 58, 76, 60, 70, 74, 64, 65, 68, 64, 64, 61, 61, 70, 71, 70, 61, 61, 68, 72, 74, 64, 66, 72, 56, 59, 61, 73, 70, 73, 66, 67, 60, 66, 61, 61, 62, 71, 62, 58, 65, 68, 58, 62, 63, 73, 55, 65, 69, 57, 62, 69, 60, 65, 65, 58, 64, 61, 59, 64, 69, 55, 75, 51, 59, 62, 59, 61, 57, 56, 62, 58, 63, 64, 58, 58, 53, 72, 64, 59, 65, 59, 57, 54, 57, 69, 71, 52, 57, 56, 71, 64, 65, 54, 55, 65, 52, 69, 65, 47, 59, 57, 62, 55, 58, 49, 57, 51, 58, 59, 59, 64, 53, 68, 50, 73, 64, 54, 64, 51, 56, 58, 49, 53, 65, 64, 56, 48, 48, 51, 54, 51, 54, 58, 55, 52, 57, 69, 57, 62, 67, 56, 54, 67, 74, 53, 49, 53, 45, 66, 70, 46, 67, 59, 64, 51, 58, 55, 58, 50, 55, 51, 58, 52, 54, 48, 51, 51, 54, 56, 61, 51, 62, 40, 46, 46, 67, 55, 52, 51, 45, 54, 52, 46, 53, 44, 58, 41, 44, 42, 37, 46, 57, 45, 42, 57], \"xaxis\": \"x\", \"y\": [99, 61, 43, 75, 75, 71, 5, 9, 99, 97, 85, 95, 93, 85, 97, 89, 89, 99, 91, 91, 87, 99, 97, 81, 97, 93, 85, 97, 93, 91, 81, 95, 93, 91, 75, 97, 85, 85, 81, 93, 93, 97, 87, 95, 97, 87, 93, 83, 91, 97, 97, 47, 95, 79, 95, 93, 87, 85, 47, 89, 87, 93, 51, 87, 87, 59, 87, 61, 97, 93, 75, 83, 89, 83, 79, 83, 81, 91, 75, 91, 93, 89, 89, 99, 89, 89, 65, 77, 95, 87, 81, 77, 77, 91, 71, 35, 61, 49, 63, 73, 93, 89, 99, 89, 85, 81, 67, 91, 69, 73, 83, 49, 89, 85, 87, 63, 99, 61, 79, 61, 81, 61, 91, 91, 77, 67, 83, 77, 79, 89, 55, 49, 75, 85, 75, 89, 89, 67, 95, 75, 83, 43, 83, 91, 95, 89, 47, 93, 59, 73, 67, 83, 37, 79, 47, 45, 69, 83, 71, 89, 77, 97, 63, 71, 23, 85, 17, 75, 37, 91, 75, 51, 97, 47, 91, 37, 29, 87, 57, 79, 39, 83, 81, 85, 95, 93, 75, 91, 61, 21, 31, 35, 35, 65, 87, 77, 81, 75, 91, 65, 87, 85, 63, 41, 67, 45, 81, 9, 25, 79, 63, 83, 63, 67, 67, 65, 81, 81, 67, 91, 25, 73, 45, 37, 19, 55, 27, 65, 69, 27, 41, 77, 17, 57, 93, 25, 83, 83, 67, 85, 79, 21, 45, 5, 7, 67, 19, 75, 89, 67, 13, 19, 47, 5, 85, 31, 25, 47, 33, 27, 37, 75, 41, 19, 73, 57, 25, 11, 67, 21, 75, 21, 29, 83, 97, 55, 75, 43, 25, 17, 79, 55, 47, 59, 73, 53, 19, 45, 33, 71, 67, 13, 17, 51, 39, 33, 57, 51, 15, 45, 29, 65, 39, 11, 25, 15, 13, 33, 43, 11, 33, 25, 33, 27, 11, 11, 27, 25, 15, 69], \"yaxis\": \"y\"}],\n",
              "                        {\"legend\": {\"tracegroupgap\": 0}, \"margin\": {\"t\": 60}, \"template\": {\"data\": {\"bar\": [{\"error_x\": {\"color\": \"#2a3f5f\"}, \"error_y\": {\"color\": \"#2a3f5f\"}, \"marker\": {\"line\": {\"color\": \"#E5ECF6\", \"width\": 0.5}}, \"type\": \"bar\"}], \"barpolar\": [{\"marker\": {\"line\": {\"color\": \"#E5ECF6\", \"width\": 0.5}}, \"type\": \"barpolar\"}], \"carpet\": [{\"aaxis\": {\"endlinecolor\": \"#2a3f5f\", \"gridcolor\": \"white\", \"linecolor\": \"white\", \"minorgridcolor\": \"white\", \"startlinecolor\": \"#2a3f5f\"}, \"baxis\": {\"endlinecolor\": \"#2a3f5f\", \"gridcolor\": \"white\", \"linecolor\": \"white\", \"minorgridcolor\": \"white\", \"startlinecolor\": \"#2a3f5f\"}, \"type\": \"carpet\"}], \"choropleth\": [{\"colorbar\": {\"outlinewidth\": 0, \"ticks\": \"\"}, \"type\": \"choropleth\"}], \"contour\": [{\"colorbar\": {\"outlinewidth\": 0, \"ticks\": \"\"}, \"colorscale\": [[0.0, \"#0d0887\"], [0.1111111111111111, \"#46039f\"], [0.2222222222222222, \"#7201a8\"], [0.3333333333333333, \"#9c179e\"], [0.4444444444444444, \"#bd3786\"], [0.5555555555555556, \"#d8576b\"], [0.6666666666666666, \"#ed7953\"], [0.7777777777777778, \"#fb9f3a\"], [0.8888888888888888, \"#fdca26\"], [1.0, \"#f0f921\"]], \"type\": \"contour\"}], \"contourcarpet\": [{\"colorbar\": {\"outlinewidth\": 0, \"ticks\": \"\"}, \"type\": \"contourcarpet\"}], \"heatmap\": [{\"colorbar\": {\"outlinewidth\": 0, \"ticks\": \"\"}, \"colorscale\": [[0.0, \"#0d0887\"], [0.1111111111111111, \"#46039f\"], [0.2222222222222222, \"#7201a8\"], [0.3333333333333333, \"#9c179e\"], [0.4444444444444444, \"#bd3786\"], [0.5555555555555556, \"#d8576b\"], [0.6666666666666666, \"#ed7953\"], [0.7777777777777778, \"#fb9f3a\"], [0.8888888888888888, \"#fdca26\"], [1.0, \"#f0f921\"]], \"type\": \"heatmap\"}], \"heatmapgl\": [{\"colorbar\": {\"outlinewidth\": 0, \"ticks\": \"\"}, \"colorscale\": [[0.0, \"#0d0887\"], [0.1111111111111111, \"#46039f\"], [0.2222222222222222, \"#7201a8\"], [0.3333333333333333, \"#9c179e\"], [0.4444444444444444, \"#bd3786\"], [0.5555555555555556, \"#d8576b\"], [0.6666666666666666, \"#ed7953\"], [0.7777777777777778, \"#fb9f3a\"], [0.8888888888888888, \"#fdca26\"], [1.0, \"#f0f921\"]], \"type\": \"heatmapgl\"}], \"histogram\": [{\"marker\": {\"colorbar\": {\"outlinewidth\": 0, \"ticks\": \"\"}}, \"type\": \"histogram\"}], \"histogram2d\": [{\"colorbar\": {\"outlinewidth\": 0, \"ticks\": \"\"}, \"colorscale\": [[0.0, \"#0d0887\"], [0.1111111111111111, \"#46039f\"], [0.2222222222222222, \"#7201a8\"], [0.3333333333333333, \"#9c179e\"], [0.4444444444444444, \"#bd3786\"], [0.5555555555555556, \"#d8576b\"], [0.6666666666666666, \"#ed7953\"], [0.7777777777777778, \"#fb9f3a\"], [0.8888888888888888, \"#fdca26\"], [1.0, \"#f0f921\"]], \"type\": \"histogram2d\"}], \"histogram2dcontour\": [{\"colorbar\": {\"outlinewidth\": 0, \"ticks\": \"\"}, \"colorscale\": [[0.0, \"#0d0887\"], [0.1111111111111111, \"#46039f\"], [0.2222222222222222, \"#7201a8\"], [0.3333333333333333, \"#9c179e\"], [0.4444444444444444, \"#bd3786\"], [0.5555555555555556, \"#d8576b\"], [0.6666666666666666, \"#ed7953\"], [0.7777777777777778, \"#fb9f3a\"], [0.8888888888888888, \"#fdca26\"], [1.0, \"#f0f921\"]], \"type\": \"histogram2dcontour\"}], \"mesh3d\": [{\"colorbar\": {\"outlinewidth\": 0, \"ticks\": \"\"}, \"type\": \"mesh3d\"}], \"parcoords\": [{\"line\": {\"colorbar\": {\"outlinewidth\": 0, \"ticks\": \"\"}}, \"type\": \"parcoords\"}], \"pie\": [{\"automargin\": true, \"type\": \"pie\"}], \"scatter\": [{\"marker\": {\"colorbar\": {\"outlinewidth\": 0, \"ticks\": \"\"}}, \"type\": \"scatter\"}], \"scatter3d\": [{\"line\": {\"colorbar\": {\"outlinewidth\": 0, \"ticks\": \"\"}}, \"marker\": {\"colorbar\": {\"outlinewidth\": 0, \"ticks\": \"\"}}, \"type\": \"scatter3d\"}], \"scattercarpet\": [{\"marker\": {\"colorbar\": {\"outlinewidth\": 0, \"ticks\": \"\"}}, \"type\": \"scattercarpet\"}], \"scattergeo\": [{\"marker\": {\"colorbar\": {\"outlinewidth\": 0, \"ticks\": \"\"}}, \"type\": \"scattergeo\"}], \"scattergl\": [{\"marker\": {\"colorbar\": {\"outlinewidth\": 0, \"ticks\": \"\"}}, \"type\": \"scattergl\"}], \"scattermapbox\": [{\"marker\": {\"colorbar\": {\"outlinewidth\": 0, \"ticks\": \"\"}}, \"type\": \"scattermapbox\"}], \"scatterpolar\": [{\"marker\": {\"colorbar\": {\"outlinewidth\": 0, \"ticks\": \"\"}}, \"type\": \"scatterpolar\"}], \"scatterpolargl\": [{\"marker\": {\"colorbar\": {\"outlinewidth\": 0, \"ticks\": \"\"}}, \"type\": \"scatterpolargl\"}], \"scatterternary\": [{\"marker\": {\"colorbar\": {\"outlinewidth\": 0, \"ticks\": \"\"}}, \"type\": \"scatterternary\"}], \"surface\": [{\"colorbar\": {\"outlinewidth\": 0, \"ticks\": \"\"}, \"colorscale\": [[0.0, \"#0d0887\"], [0.1111111111111111, \"#46039f\"], [0.2222222222222222, \"#7201a8\"], [0.3333333333333333, \"#9c179e\"], [0.4444444444444444, \"#bd3786\"], [0.5555555555555556, \"#d8576b\"], [0.6666666666666666, \"#ed7953\"], [0.7777777777777778, \"#fb9f3a\"], [0.8888888888888888, \"#fdca26\"], [1.0, \"#f0f921\"]], \"type\": \"surface\"}], \"table\": [{\"cells\": {\"fill\": {\"color\": \"#EBF0F8\"}, \"line\": {\"color\": \"white\"}}, \"header\": {\"fill\": {\"color\": \"#C8D4E3\"}, \"line\": {\"color\": \"white\"}}, \"type\": \"table\"}]}, \"layout\": {\"annotationdefaults\": {\"arrowcolor\": \"#2a3f5f\", \"arrowhead\": 0, \"arrowwidth\": 1}, \"coloraxis\": {\"colorbar\": {\"outlinewidth\": 0, \"ticks\": \"\"}}, \"colorscale\": {\"diverging\": [[0, \"#8e0152\"], [0.1, \"#c51b7d\"], [0.2, \"#de77ae\"], [0.3, \"#f1b6da\"], [0.4, \"#fde0ef\"], [0.5, \"#f7f7f7\"], [0.6, \"#e6f5d0\"], [0.7, \"#b8e186\"], [0.8, \"#7fbc41\"], [0.9, \"#4d9221\"], [1, \"#276419\"]], \"sequential\": [[0.0, \"#0d0887\"], [0.1111111111111111, \"#46039f\"], [0.2222222222222222, \"#7201a8\"], [0.3333333333333333, \"#9c179e\"], [0.4444444444444444, \"#bd3786\"], [0.5555555555555556, \"#d8576b\"], [0.6666666666666666, \"#ed7953\"], [0.7777777777777778, \"#fb9f3a\"], [0.8888888888888888, \"#fdca26\"], [1.0, \"#f0f921\"]], \"sequentialminus\": [[0.0, \"#0d0887\"], [0.1111111111111111, \"#46039f\"], [0.2222222222222222, \"#7201a8\"], [0.3333333333333333, \"#9c179e\"], [0.4444444444444444, \"#bd3786\"], [0.5555555555555556, \"#d8576b\"], [0.6666666666666666, \"#ed7953\"], [0.7777777777777778, \"#fb9f3a\"], [0.8888888888888888, \"#fdca26\"], [1.0, \"#f0f921\"]]}, \"colorway\": [\"#636efa\", \"#EF553B\", \"#00cc96\", \"#ab63fa\", \"#FFA15A\", \"#19d3f3\", \"#FF6692\", \"#B6E880\", \"#FF97FF\", \"#FECB52\"], \"font\": {\"color\": \"#2a3f5f\"}, \"geo\": {\"bgcolor\": \"white\", \"lakecolor\": \"white\", \"landcolor\": \"#E5ECF6\", \"showlakes\": true, \"showland\": true, \"subunitcolor\": \"white\"}, \"hoverlabel\": {\"align\": \"left\"}, \"hovermode\": \"closest\", \"mapbox\": {\"style\": \"light\"}, \"paper_bgcolor\": \"white\", \"plot_bgcolor\": \"#E5ECF6\", \"polar\": {\"angularaxis\": {\"gridcolor\": \"white\", \"linecolor\": \"white\", \"ticks\": \"\"}, \"bgcolor\": \"#E5ECF6\", \"radialaxis\": {\"gridcolor\": \"white\", \"linecolor\": \"white\", \"ticks\": \"\"}}, \"scene\": {\"xaxis\": {\"backgroundcolor\": \"#E5ECF6\", \"gridcolor\": \"white\", \"gridwidth\": 2, \"linecolor\": \"white\", \"showbackground\": true, \"ticks\": \"\", \"zerolinecolor\": \"white\"}, \"yaxis\": {\"backgroundcolor\": \"#E5ECF6\", \"gridcolor\": \"white\", \"gridwidth\": 2, \"linecolor\": \"white\", \"showbackground\": true, \"ticks\": \"\", \"zerolinecolor\": \"white\"}, \"zaxis\": {\"backgroundcolor\": \"#E5ECF6\", \"gridcolor\": \"white\", \"gridwidth\": 2, \"linecolor\": \"white\", \"showbackground\": true, \"ticks\": \"\", \"zerolinecolor\": \"white\"}}, \"shapedefaults\": {\"line\": {\"color\": \"#2a3f5f\"}}, \"ternary\": {\"aaxis\": {\"gridcolor\": \"white\", \"linecolor\": \"white\", \"ticks\": \"\"}, \"baxis\": {\"gridcolor\": \"white\", \"linecolor\": \"white\", \"ticks\": \"\"}, \"bgcolor\": \"#E5ECF6\", \"caxis\": {\"gridcolor\": \"white\", \"linecolor\": \"white\", \"ticks\": \"\"}}, \"title\": {\"x\": 0.05}, \"xaxis\": {\"automargin\": true, \"gridcolor\": \"white\", \"linecolor\": \"white\", \"ticks\": \"\", \"title\": {\"standoff\": 15}, \"zerolinecolor\": \"white\", \"zerolinewidth\": 2}, \"yaxis\": {\"automargin\": true, \"gridcolor\": \"white\", \"linecolor\": \"white\", \"ticks\": \"\", \"title\": {\"standoff\": 15}, \"zerolinecolor\": \"white\", \"zerolinewidth\": 2}}}, \"xaxis\": {\"anchor\": \"y\", \"domain\": [0.0, 1.0], \"title\": {\"text\": \"IMDb\"}}, \"yaxis\": {\"anchor\": \"x\", \"domain\": [0.0, 1.0], \"title\": {\"text\": \"Rotten Tomatoes\"}}},\n",
              "                        {\"responsive\": true}\n",
              "                    ).then(function(){\n",
              "                            \n",
              "var gd = document.getElementById('dab6ab7f-4be5-4ca7-b0a3-b3d87c53f90e');\n",
              "var x = new MutationObserver(function (mutations, observer) {{\n",
              "        var display = window.getComputedStyle(gd).display;\n",
              "        if (!display || display === 'none') {{\n",
              "            console.log([gd, 'removed!']);\n",
              "            Plotly.purge(gd);\n",
              "            observer.disconnect();\n",
              "        }}\n",
              "}});\n",
              "\n",
              "// Listen for the removal of the full notebook cells\n",
              "var notebookContainer = gd.closest('#notebook-container');\n",
              "if (notebookContainer) {{\n",
              "    x.observe(notebookContainer, {childList: true});\n",
              "}}\n",
              "\n",
              "// Listen for the clearing of the current output cell\n",
              "var outputEl = gd.closest('.output');\n",
              "if (outputEl) {{\n",
              "    x.observe(outputEl, {childList: true});\n",
              "}}\n",
              "\n",
              "                        })\n",
              "                };\n",
              "                \n",
              "            </script>\n",
              "        </div>\n",
              "</body>\n",
              "</html>"
            ]
          },
          "metadata": {
            "tags": []
          }
        }
      ]
    },
    {
      "cell_type": "code",
      "metadata": {
        "id": "bBpfbPlMaVKo"
      },
      "source": [
        ""
      ],
      "execution_count": null,
      "outputs": []
    }
  ]
}